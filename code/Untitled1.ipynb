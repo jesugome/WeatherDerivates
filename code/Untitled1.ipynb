{
 "cells": [
  {
   "cell_type": "code",
   "execution_count": 1,
   "metadata": {},
   "outputs": [
    {
     "name": "stderr",
     "output_type": "stream",
     "text": [
      "Using TensorFlow backend.\n"
     ]
    }
   ],
   "source": [
    "import numpy as np\n",
    "from keras.models import Sequential\n",
    "from keras.layers import Dense\n",
    "from keras.layers import Dropout\n",
    "from keras.layers import LSTM\n",
    "import matplotlib.pyplot as plt\n",
    "from sklearn.preprocessing import MinMaxScaler\n",
    "\n",
    "#create testdata\n",
    "nEpochs = 12\n",
    "nTimestepsPerSeq = 5\n",
    "nFeatures = 5\n",
    "\n",
    "def generate_examples(nSamples, nTimestepsPerSeq, nFeatures):\n",
    "    X = np.random.random((nSamples, nTimestepsPerSeq, nFeatures))\n",
    "\n",
    "    #make feature 1 categorical: [0,1,2]\n",
    "    X[:,:,0] = np.random.randint(0,3, X[:,:,0].shape)\n",
    "\n",
    "    #make feature 2 categorical: [-1, 0,1]\n",
    "    X[:,:,1] = np.random.randint(-1,2, X[:,:,1].shape)\n",
    "\n",
    "    #shift feature 3 by a constant\n",
    "    X[:,:,2] = X[:,:,2] + 2\n",
    "\n",
    "    #calc output\n",
    "    Y = np.zeros((1, nSamples))\n",
    "\n",
    "    #combine features and introduce non-linearity\n",
    "    Y = X[:,-1,0]*np.mean(X[:,-1,3]) + X[:,-1,2]*np.mean(X[:,-1,4]) + \\\n",
    "        (X[:,-1,0]*X[:,-1,1]*np.mean(X[:,-1,2]))**2\n",
    "\n",
    "    #add uniform noise\n",
    "    Y = Y*np.random.uniform(0.95,1.05,size=Y.shape)\n",
    "\n",
    "    #reshape for scaler instance:\n",
    "    # ValueError: Expected 2D array, got 1D array instead:\n",
    "    # array=[  1.27764489  27.56604355   1.39317709 ...,   1.57210734   8.18834281\n",
    "    # 1.66174279].\n",
    "    # Reshape your data either using array.reshape(-1, 1) if your data has a single fe\n",
    "    # ature or array.reshape(1, -1) if it contains a single sample.\n",
    "    Y = Y.reshape((-1,1))\n",
    "\n",
    "    return X,Y\n",
    "\n",
    "Xtrain,Ytrain = generate_examples(5000, nTimestepsPerSeq, nFeatures)\n",
    "Xval,Yval = generate_examples(5000, nTimestepsPerSeq, nFeatures)\n",
    "Xtest,Ytest = generate_examples(20, nTimestepsPerSeq, nFeatures)\n",
    "\n"
   ]
  },
  {
   "cell_type": "code",
   "execution_count": 6,
   "metadata": {},
   "outputs": [
    {
     "data": {
      "text/plain": [
       "(5000, 5, 5)"
      ]
     },
     "execution_count": 6,
     "metadata": {},
     "output_type": "execute_result"
    }
   ],
   "source": [
    "Xtrain.shape"
   ]
  },
  {
   "cell_type": "code",
   "execution_count": 7,
   "metadata": {},
   "outputs": [],
   "source": [
    "#scale input data\n",
    "for i in range(0,nFeatures):\n",
    "    #scaler = StandardScaler()\n",
    "    scaler = MinMaxScaler()\n",
    "    scaler = scaler.fit(Xtrain[:,:,i])\n",
    "    Xtrain[:,:,i] = scaler.transform(Xtrain[:,:,i])\n",
    "    Xval[:,:,i] = scaler.transform(Xval[:,:,i])\n",
    "    Xtest[:,:,i] = scaler.transform(Xtest[:,:,i])\n",
    "\n",
    "targetScaler = MinMaxScaler()\n",
    "targetScaler = targetScaler.fit(Ytrain)\n",
    "\n",
    "#transform target\n",
    "Ytrain = targetScaler.transform(Ytrain)    \n",
    "Yval = targetScaler.transform(Yval)    \n",
    "Ytest = targetScaler.transform(Ytest) "
   ]
  },
  {
   "cell_type": "code",
   "execution_count": null,
   "metadata": {},
   "outputs": [],
   "source": [
    "\n",
    "\n",
    "# defining the LSTM model\n",
    "model = Sequential()\n",
    "model.add(LSTM(200, input_shape=(Xtrain.shape[1], Xtrain.shape[2]), return_sequences=True))\n",
    "model.add(LSTM(200))\n",
    "model.add(Dense(1))\n",
    "\n",
    "model.compile(loss='mse', optimizer='adam', metrics=['acc'])\n",
    "\n",
    "# fitting the model\n",
    "history = model.fit(Xtrain, Ytrain, epochs=nEpochs, batch_size=50, validation_data=(Xval, Yval), shuffle=True, verbose=2)\n",
    "\n",
    "#test model\n",
    "yhat = model.predict(Xtest)\n",
    "print(\"pediction vs truth:\")\n",
    "for i in range(0,10):\n",
    "    print(yhat[i], Ytest[i])\n",
    "\n",
    "# summarize history for loss\n",
    "plt.subplot(1,1,1)\n",
    "plt.plot(history.history['loss'], '.-')\n",
    "plt.plot(history.history['val_loss'], '.-')\n",
    "plt.ylabel('loss')\n",
    "plt.xlabel('epoch')\n",
    "plt.legend(['train', 'validation'], loc='upper right')\n",
    "plt.show()"
   ]
  }
 ],
 "metadata": {
  "kernelspec": {
   "display_name": "Python 3",
   "language": "python",
   "name": "python3"
  },
  "language_info": {
   "codemirror_mode": {
    "name": "ipython",
    "version": 3
   },
   "file_extension": ".py",
   "mimetype": "text/x-python",
   "name": "python",
   "nbconvert_exporter": "python",
   "pygments_lexer": "ipython3",
   "version": "3.5.2"
  }
 },
 "nbformat": 4,
 "nbformat_minor": 2
}
