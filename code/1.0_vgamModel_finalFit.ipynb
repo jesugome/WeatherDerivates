{
 "cells": [
  {
   "cell_type": "markdown",
   "metadata": {},
   "source": [
    "<h1><font size=12>\n",
    "Weather Derivatites </h1>\n",
    "<h1> Vglm Model - Parameters Estimation <br></h1>\n",
    "\n",
    "Developed by [Jesus Solano](mailto:ja.solano588@uniandes.edu.co) <br>  \n",
    "23rd June 2019 \n"
   ]
  },
  {
   "cell_type": "code",
   "execution_count": 16,
   "metadata": {},
   "outputs": [],
   "source": [
    "# Load fulldataset \n",
    "allData <- read.csv(file='../datasets/fullDataset/completeDailyDataset_2005-01-01_2015-12-31.csv', header=TRUE, sep=\",\", row.names = 'X' ) \n",
    "myData <- read.csv(file='../datasets/fullDataset/completeDailyDataset_2005-01-01_2015-12-31.csv', header=TRUE, sep=\",\") "
   ]
  },
  {
   "cell_type": "code",
   "execution_count": 17,
   "metadata": {},
   "outputs": [
    {
     "data": {
      "text/html": [
       "<table>\n",
       "<caption>A data.frame: 6 × 10</caption>\n",
       "<thead>\n",
       "\t<tr><th></th><th scope=col>Prep_mm</th><th scope=col>Month</th><th scope=col>nino34</th><th scope=col>probNeutral</th><th scope=col>probNino</th><th scope=col>probNina</th><th scope=col>deltaIndex</th><th scope=col>state</th><th scope=col>nextState</th><th scope=col>Prep_in</th></tr>\n",
       "\t<tr><th></th><th scope=col>&lt;dbl&gt;</th><th scope=col>&lt;int&gt;</th><th scope=col>&lt;dbl&gt;</th><th scope=col>&lt;dbl&gt;</th><th scope=col>&lt;dbl&gt;</th><th scope=col>&lt;dbl&gt;</th><th scope=col>&lt;dbl&gt;</th><th scope=col>&lt;int&gt;</th><th scope=col>&lt;int&gt;</th><th scope=col>&lt;dbl&gt;</th></tr>\n",
       "</thead>\n",
       "<tbody>\n",
       "\t<tr><th scope=row>2005-01-01</th><td>0.0</td><td>1</td><td>0.6061863</td><td>0.15</td><td>0.85</td><td>0</td><td>0.85</td><td>0</td><td>0</td><td>0.00000000</td></tr>\n",
       "\t<tr><th scope=row>2005-01-02</th><td>0.0</td><td>1</td><td>0.5993582</td><td>0.15</td><td>0.85</td><td>0</td><td>0.85</td><td>0</td><td>0</td><td>0.00000000</td></tr>\n",
       "\t<tr><th scope=row>2005-01-03</th><td>0.0</td><td>1</td><td>0.6467837</td><td>0.15</td><td>0.85</td><td>0</td><td>0.85</td><td>0</td><td>1</td><td>0.00000000</td></tr>\n",
       "\t<tr><th scope=row>2005-01-04</th><td>1.6</td><td>1</td><td>0.6636958</td><td>0.15</td><td>0.85</td><td>0</td><td>0.85</td><td>1</td><td>0</td><td>0.06299213</td></tr>\n",
       "\t<tr><th scope=row>2005-01-05</th><td>0.0</td><td>1</td><td>0.7113302</td><td>0.15</td><td>0.85</td><td>0</td><td>0.85</td><td>0</td><td>0</td><td>0.00000000</td></tr>\n",
       "\t<tr><th scope=row>2005-01-06</th><td>0.0</td><td>1</td><td>0.6791847</td><td>0.15</td><td>0.85</td><td>0</td><td>0.85</td><td>0</td><td>0</td><td>0.00000000</td></tr>\n",
       "</tbody>\n",
       "</table>\n"
      ],
      "text/latex": [
       "A data.frame: 6 × 10\n",
       "\\begin{tabular}{r|llllllllll}\n",
       "  & Prep\\_mm & Month & nino34 & probNeutral & probNino & probNina & deltaIndex & state & nextState & Prep\\_in\\\\\n",
       "  & <dbl> & <int> & <dbl> & <dbl> & <dbl> & <dbl> & <dbl> & <int> & <int> & <dbl>\\\\\n",
       "\\hline\n",
       "\t2005-01-01 & 0.0 & 1 & 0.6061863 & 0.15 & 0.85 & 0 & 0.85 & 0 & 0 & 0.00000000\\\\\n",
       "\t2005-01-02 & 0.0 & 1 & 0.5993582 & 0.15 & 0.85 & 0 & 0.85 & 0 & 0 & 0.00000000\\\\\n",
       "\t2005-01-03 & 0.0 & 1 & 0.6467837 & 0.15 & 0.85 & 0 & 0.85 & 0 & 1 & 0.00000000\\\\\n",
       "\t2005-01-04 & 1.6 & 1 & 0.6636958 & 0.15 & 0.85 & 0 & 0.85 & 1 & 0 & 0.06299213\\\\\n",
       "\t2005-01-05 & 0.0 & 1 & 0.7113302 & 0.15 & 0.85 & 0 & 0.85 & 0 & 0 & 0.00000000\\\\\n",
       "\t2005-01-06 & 0.0 & 1 & 0.6791847 & 0.15 & 0.85 & 0 & 0.85 & 0 & 0 & 0.00000000\\\\\n",
       "\\end{tabular}\n"
      ],
      "text/markdown": [
       "\n",
       "A data.frame: 6 × 10\n",
       "\n",
       "| <!--/--> | Prep_mm &lt;dbl&gt; | Month &lt;int&gt; | nino34 &lt;dbl&gt; | probNeutral &lt;dbl&gt; | probNino &lt;dbl&gt; | probNina &lt;dbl&gt; | deltaIndex &lt;dbl&gt; | state &lt;int&gt; | nextState &lt;int&gt; | Prep_in &lt;dbl&gt; |\n",
       "|---|---|---|---|---|---|---|---|---|---|---|\n",
       "| 2005-01-01 | 0.0 | 1 | 0.6061863 | 0.15 | 0.85 | 0 | 0.85 | 0 | 0 | 0.00000000 |\n",
       "| 2005-01-02 | 0.0 | 1 | 0.5993582 | 0.15 | 0.85 | 0 | 0.85 | 0 | 0 | 0.00000000 |\n",
       "| 2005-01-03 | 0.0 | 1 | 0.6467837 | 0.15 | 0.85 | 0 | 0.85 | 0 | 1 | 0.00000000 |\n",
       "| 2005-01-04 | 1.6 | 1 | 0.6636958 | 0.15 | 0.85 | 0 | 0.85 | 1 | 0 | 0.06299213 |\n",
       "| 2005-01-05 | 0.0 | 1 | 0.7113302 | 0.15 | 0.85 | 0 | 0.85 | 0 | 0 | 0.00000000 |\n",
       "| 2005-01-06 | 0.0 | 1 | 0.6791847 | 0.15 | 0.85 | 0 | 0.85 | 0 | 0 | 0.00000000 |\n",
       "\n"
      ],
      "text/plain": [
       "           Prep_mm Month nino34    probNeutral probNino probNina deltaIndex\n",
       "2005-01-01 0.0     1     0.6061863 0.15        0.85     0        0.85      \n",
       "2005-01-02 0.0     1     0.5993582 0.15        0.85     0        0.85      \n",
       "2005-01-03 0.0     1     0.6467837 0.15        0.85     0        0.85      \n",
       "2005-01-04 1.6     1     0.6636958 0.15        0.85     0        0.85      \n",
       "2005-01-05 0.0     1     0.7113302 0.15        0.85     0        0.85      \n",
       "2005-01-06 0.0     1     0.6791847 0.15        0.85     0        0.85      \n",
       "           state nextState Prep_in   \n",
       "2005-01-01 0     0         0.00000000\n",
       "2005-01-02 0     0         0.00000000\n",
       "2005-01-03 0     1         0.00000000\n",
       "2005-01-04 1     0         0.06299213\n",
       "2005-01-05 0     0         0.00000000\n",
       "2005-01-06 0     0         0.00000000"
      ]
     },
     "metadata": {},
     "output_type": "display_data"
    }
   ],
   "source": [
    "# Show a preview of dataset.\n",
    "head(allData)"
   ]
  },
  {
   "cell_type": "code",
   "execution_count": 18,
   "metadata": {},
   "outputs": [
    {
     "data": {
      "text/plain": [
       "    Prep_mm           Month          nino34          probNeutral    \n",
       " Min.   : 0.000   1      : 341   Min.   :-2.02452   Min.   :0.0000  \n",
       " 1st Qu.: 0.000   3      : 341   1st Qu.:-0.57617   1st Qu.:0.1400  \n",
       " Median : 0.200   5      : 341   Median :-0.01589   Median :0.4400  \n",
       " Mean   : 2.781   7      : 341   Mean   : 0.04185   Mean   :0.4604  \n",
       " 3rd Qu.: 2.700   8      : 341   3rd Qu.: 0.55833   3rd Qu.:0.7500  \n",
       " Max.   :78.500   10     : 341   Max.   : 3.28767   Max.   :1.0000  \n",
       "                  (Other):1970                                      \n",
       "    probNino         probNina        deltaIndex      state    nextState\n",
       " Min.   :0.0000   Min.   :0.0000   Min.   :-0.9890   0:1741   0:1741   \n",
       " 1st Qu.:0.0100   1st Qu.:0.0000   1st Qu.:-0.4900   1:2275   1:2275   \n",
       " Median :0.0500   Median :0.0500   Median :-0.0100                     \n",
       " Mean   :0.2895   Mean   :0.2504   Mean   : 0.0391                     \n",
       " 3rd Qu.:0.5900   3rd Qu.:0.5000   3rd Qu.: 0.5900                     \n",
       " Max.   :1.0000   Max.   :0.9900   Max.   : 1.0000                     \n",
       "                                                                       \n",
       "    Prep_in        \n",
       " Min.   :0.000000  \n",
       " 1st Qu.:0.000000  \n",
       " Median :0.007874  \n",
       " Mean   :0.109494  \n",
       " 3rd Qu.:0.106299  \n",
       " Max.   :3.090551  \n",
       "                   "
      ]
     },
     "metadata": {},
     "output_type": "display_data"
    }
   ],
   "source": [
    "# Split dataset into dry and wet days.\n",
    "\n",
    "allData$nextState=as.factor(allData$nextState)\n",
    "allData$state=as.factor(allData$state)\n",
    "allData$Month=as.factor(allData$Month)\n",
    "\n",
    "\n",
    "dryDays <- allData[allData$state == 0,]\n",
    "wetDays <- allData[allData$state == 1,]\n",
    "\n",
    "summary(allData)\n"
   ]
  },
  {
   "cell_type": "markdown",
   "metadata": {},
   "source": [
    "## Review Input Data"
   ]
  },
  {
   "cell_type": "code",
   "execution_count": 20,
   "metadata": {},
   "outputs": [
    {
     "data": {
      "text/html": [
       "<table>\n",
       "<caption>A matrix: 5 × 5 of type dbl</caption>\n",
       "<thead>\n",
       "\t<tr><th></th><th scope=col>Prep_mm</th><th scope=col>nino34</th><th scope=col>probNeutral</th><th scope=col>probNino</th><th scope=col>probNina</th></tr>\n",
       "</thead>\n",
       "<tbody>\n",
       "\t<tr><th scope=row>Prep_mm</th><td> 1.00000000</td><td>-0.08380009</td><td> 0.0451726</td><td>-0.1153749</td><td> 0.08082622</td></tr>\n",
       "\t<tr><th scope=row>nino34</th><td>-0.08380009</td><td> 1.00000000</td><td>-0.1895744</td><td> 0.8411257</td><td>-0.72492841</td></tr>\n",
       "\t<tr><th scope=row>probNeutral</th><td> 0.04517260</td><td>-0.18957436</td><td> 1.0000000</td><td>-0.5310060</td><td>-0.40018698</td></tr>\n",
       "\t<tr><th scope=row>probNino</th><td>-0.11537493</td><td> 0.84112566</td><td>-0.5310060</td><td> 1.0000000</td><td>-0.56405273</td></tr>\n",
       "\t<tr><th scope=row>probNina</th><td> 0.08082622</td><td>-0.72492841</td><td>-0.4001870</td><td>-0.5640527</td><td> 1.00000000</td></tr>\n",
       "</tbody>\n",
       "</table>\n"
      ],
      "text/latex": [
       "A matrix: 5 × 5 of type dbl\n",
       "\\begin{tabular}{r|lllll}\n",
       "  & Prep\\_mm & nino34 & probNeutral & probNino & probNina\\\\\n",
       "\\hline\n",
       "\tPrep\\_mm &  1.00000000 & -0.08380009 &  0.0451726 & -0.1153749 &  0.08082622\\\\\n",
       "\tnino34 & -0.08380009 &  1.00000000 & -0.1895744 &  0.8411257 & -0.72492841\\\\\n",
       "\tprobNeutral &  0.04517260 & -0.18957436 &  1.0000000 & -0.5310060 & -0.40018698\\\\\n",
       "\tprobNino & -0.11537493 &  0.84112566 & -0.5310060 &  1.0000000 & -0.56405273\\\\\n",
       "\tprobNina &  0.08082622 & -0.72492841 & -0.4001870 & -0.5640527 &  1.00000000\\\\\n",
       "\\end{tabular}\n"
      ],
      "text/markdown": [
       "\n",
       "A matrix: 5 × 5 of type dbl\n",
       "\n",
       "| <!--/--> | Prep_mm | nino34 | probNeutral | probNino | probNina |\n",
       "|---|---|---|---|---|---|\n",
       "| Prep_mm |  1.00000000 | -0.08380009 |  0.0451726 | -0.1153749 |  0.08082622 |\n",
       "| nino34 | -0.08380009 |  1.00000000 | -0.1895744 |  0.8411257 | -0.72492841 |\n",
       "| probNeutral |  0.04517260 | -0.18957436 |  1.0000000 | -0.5310060 | -0.40018698 |\n",
       "| probNino | -0.11537493 |  0.84112566 | -0.5310060 |  1.0000000 | -0.56405273 |\n",
       "| probNina |  0.08082622 | -0.72492841 | -0.4001870 | -0.5640527 |  1.00000000 |\n",
       "\n"
      ],
      "text/plain": [
       "            Prep_mm     nino34      probNeutral probNino   probNina   \n",
       "Prep_mm      1.00000000 -0.08380009  0.0451726  -0.1153749  0.08082622\n",
       "nino34      -0.08380009  1.00000000 -0.1895744   0.8411257 -0.72492841\n",
       "probNeutral  0.04517260 -0.18957436  1.0000000  -0.5310060 -0.40018698\n",
       "probNino    -0.11537493  0.84112566 -0.5310060   1.0000000 -0.56405273\n",
       "probNina     0.08082622 -0.72492841 -0.4001870  -0.5640527  1.00000000"
      ]
     },
     "metadata": {},
     "output_type": "display_data"
    }
   ],
   "source": [
    "cor(allData[,c(1,3,4,5,6)], method = c(\"pearson\", \"kendall\", \"spearman\"))"
   ]
  },
  {
   "cell_type": "code",
   "execution_count": 21,
   "metadata": {},
   "outputs": [
    {
     "data": {
      "text/html": [
       "<table>\n",
       "<caption>A matrix: 4 × 4 of type dbl</caption>\n",
       "<thead>\n",
       "\t<tr><th></th><th scope=col>nino34</th><th scope=col>probNeutral</th><th scope=col>probNino</th><th scope=col>probNina</th></tr>\n",
       "</thead>\n",
       "<tbody>\n",
       "\t<tr><th scope=row>nino34</th><td> 1.0000000</td><td>-0.2541178</td><td> 0.8378201</td><td>-0.7038257</td></tr>\n",
       "\t<tr><th scope=row>probNeutral</th><td>-0.2541178</td><td> 1.0000000</td><td>-0.5793464</td><td>-0.3515599</td></tr>\n",
       "\t<tr><th scope=row>probNino</th><td> 0.8378201</td><td>-0.5793464</td><td> 1.0000000</td><td>-0.5593739</td></tr>\n",
       "\t<tr><th scope=row>probNina</th><td>-0.7038257</td><td>-0.3515599</td><td>-0.5593739</td><td> 1.0000000</td></tr>\n",
       "</tbody>\n",
       "</table>\n"
      ],
      "text/latex": [
       "A matrix: 4 × 4 of type dbl\n",
       "\\begin{tabular}{r|llll}\n",
       "  & nino34 & probNeutral & probNino & probNina\\\\\n",
       "\\hline\n",
       "\tnino34 &  1.0000000 & -0.2541178 &  0.8378201 & -0.7038257\\\\\n",
       "\tprobNeutral & -0.2541178 &  1.0000000 & -0.5793464 & -0.3515599\\\\\n",
       "\tprobNino &  0.8378201 & -0.5793464 &  1.0000000 & -0.5593739\\\\\n",
       "\tprobNina & -0.7038257 & -0.3515599 & -0.5593739 &  1.0000000\\\\\n",
       "\\end{tabular}\n"
      ],
      "text/markdown": [
       "\n",
       "A matrix: 4 × 4 of type dbl\n",
       "\n",
       "| <!--/--> | nino34 | probNeutral | probNino | probNina |\n",
       "|---|---|---|---|---|\n",
       "| nino34 |  1.0000000 | -0.2541178 |  0.8378201 | -0.7038257 |\n",
       "| probNeutral | -0.2541178 |  1.0000000 | -0.5793464 | -0.3515599 |\n",
       "| probNino |  0.8378201 | -0.5793464 |  1.0000000 | -0.5593739 |\n",
       "| probNina | -0.7038257 | -0.3515599 | -0.5593739 |  1.0000000 |\n",
       "\n"
      ],
      "text/plain": [
       "            nino34     probNeutral probNino   probNina  \n",
       "nino34       1.0000000 -0.2541178   0.8378201 -0.7038257\n",
       "probNeutral -0.2541178  1.0000000  -0.5793464 -0.3515599\n",
       "probNino     0.8378201 -0.5793464   1.0000000 -0.5593739\n",
       "probNina    -0.7038257 -0.3515599  -0.5593739  1.0000000"
      ]
     },
     "metadata": {},
     "output_type": "display_data"
    }
   ],
   "source": [
    "cor(dryDays[,c(3,4,5,6)], method = c(\"pearson\", \"kendall\", \"spearman\"))"
   ]
  },
  {
   "cell_type": "code",
   "execution_count": 22,
   "metadata": {},
   "outputs": [
    {
     "data": {
      "text/html": [
       "<table>\n",
       "<caption>A matrix: 4 × 4 of type dbl</caption>\n",
       "<thead>\n",
       "\t<tr><th></th><th scope=col>nino34</th><th scope=col>probNeutral</th><th scope=col>probNino</th><th scope=col>probNina</th></tr>\n",
       "</thead>\n",
       "<tbody>\n",
       "\t<tr><th scope=row>nino34</th><td> 1.0000000</td><td>-0.1300576</td><td> 0.8437394</td><td>-0.7442706</td></tr>\n",
       "\t<tr><th scope=row>probNeutral</th><td>-0.1300576</td><td> 1.0000000</td><td>-0.4892475</td><td>-0.4430306</td></tr>\n",
       "\t<tr><th scope=row>probNino</th><td> 0.8437394</td><td>-0.4892475</td><td> 1.0000000</td><td>-0.5651301</td></tr>\n",
       "\t<tr><th scope=row>probNina</th><td>-0.7442706</td><td>-0.4430306</td><td>-0.5651301</td><td> 1.0000000</td></tr>\n",
       "</tbody>\n",
       "</table>\n"
      ],
      "text/latex": [
       "A matrix: 4 × 4 of type dbl\n",
       "\\begin{tabular}{r|llll}\n",
       "  & nino34 & probNeutral & probNino & probNina\\\\\n",
       "\\hline\n",
       "\tnino34 &  1.0000000 & -0.1300576 &  0.8437394 & -0.7442706\\\\\n",
       "\tprobNeutral & -0.1300576 &  1.0000000 & -0.4892475 & -0.4430306\\\\\n",
       "\tprobNino &  0.8437394 & -0.4892475 &  1.0000000 & -0.5651301\\\\\n",
       "\tprobNina & -0.7442706 & -0.4430306 & -0.5651301 &  1.0000000\\\\\n",
       "\\end{tabular}\n"
      ],
      "text/markdown": [
       "\n",
       "A matrix: 4 × 4 of type dbl\n",
       "\n",
       "| <!--/--> | nino34 | probNeutral | probNino | probNina |\n",
       "|---|---|---|---|---|\n",
       "| nino34 |  1.0000000 | -0.1300576 |  0.8437394 | -0.7442706 |\n",
       "| probNeutral | -0.1300576 |  1.0000000 | -0.4892475 | -0.4430306 |\n",
       "| probNino |  0.8437394 | -0.4892475 |  1.0000000 | -0.5651301 |\n",
       "| probNina | -0.7442706 | -0.4430306 | -0.5651301 |  1.0000000 |\n",
       "\n"
      ],
      "text/plain": [
       "            nino34     probNeutral probNino   probNina  \n",
       "nino34       1.0000000 -0.1300576   0.8437394 -0.7442706\n",
       "probNeutral -0.1300576  1.0000000  -0.4892475 -0.4430306\n",
       "probNino     0.8437394 -0.4892475   1.0000000 -0.5651301\n",
       "probNina    -0.7442706 -0.4430306  -0.5651301  1.0000000"
      ]
     },
     "metadata": {},
     "output_type": "display_data"
    }
   ],
   "source": [
    "cor(wetDays[,3:6], method = c(\"pearson\", \"kendall\", \"spearman\"))"
   ]
  },
  {
   "cell_type": "code",
   "execution_count": 23,
   "metadata": {},
   "outputs": [
    {
     "data": {
      "text/plain": [
       "    Prep_mm           Month          nino34          probNeutral    \n",
       " Min.   : 0.000   1      : 341   Min.   :-2.02452   Min.   :0.0000  \n",
       " 1st Qu.: 0.000   3      : 341   1st Qu.:-0.57617   1st Qu.:0.1400  \n",
       " Median : 0.200   5      : 341   Median :-0.01589   Median :0.4400  \n",
       " Mean   : 2.781   7      : 341   Mean   : 0.04185   Mean   :0.4604  \n",
       " 3rd Qu.: 2.700   8      : 341   3rd Qu.: 0.55833   3rd Qu.:0.7500  \n",
       " Max.   :78.500   10     : 341   Max.   : 3.28767   Max.   :1.0000  \n",
       "                  (Other):1970                                      \n",
       "    probNino         probNina        deltaIndex      state    nextState\n",
       " Min.   :0.0000   Min.   :0.0000   Min.   :-0.9890   0:1741   0:1741   \n",
       " 1st Qu.:0.0100   1st Qu.:0.0000   1st Qu.:-0.4900   1:2275   1:2275   \n",
       " Median :0.0500   Median :0.0500   Median :-0.0100                     \n",
       " Mean   :0.2895   Mean   :0.2504   Mean   : 0.0391                     \n",
       " 3rd Qu.:0.5900   3rd Qu.:0.5000   3rd Qu.: 0.5900                     \n",
       " Max.   :1.0000   Max.   :0.9900   Max.   : 1.0000                     \n",
       "                                                                       \n",
       "    Prep_in        \n",
       " Min.   :0.000000  \n",
       " 1st Qu.:0.000000  \n",
       " Median :0.007874  \n",
       " Mean   :0.109494  \n",
       " 3rd Qu.:0.106299  \n",
       " Max.   :3.090551  \n",
       "                   "
      ]
     },
     "metadata": {},
     "output_type": "display_data"
    }
   ],
   "source": [
    "summary(allData)"
   ]
  },
  {
   "cell_type": "code",
   "execution_count": 24,
   "metadata": {},
   "outputs": [
    {
     "name": "stderr",
     "output_type": "stream",
     "text": [
      "Loading required package: stats4\n",
      "Loading required package: splines\n"
     ]
    }
   ],
   "source": [
    "#install.packages('VGAM')\n",
    "\n",
    "# Apply vgam model for transitions. \n",
    "library(VGAM)\n",
    "\n",
    "# La siguiente es la ideal pero por correlaciones no fucniona.\n",
    "# vglm(nextState ~ Prep + Month +nino34 + probNeutral + probNino, data=dryDays ,family = binomialff())\n",
    "\n"
   ]
  },
  {
   "cell_type": "markdown",
   "metadata": {},
   "source": [
    "## Parameters including ENSO effects\n",
    "Month + prob nino"
   ]
  },
  {
   "cell_type": "code",
   "execution_count": 9,
   "metadata": {},
   "outputs": [
    {
     "data": {
      "text/plain": [
       "\n",
       "Call:\n",
       "glm(formula = nextState ~ -1 + Month + probNino, family = binomial, \n",
       "    data = dryDays)\n",
       "\n",
       "Deviance Residuals: \n",
       "    Min       1Q   Median       3Q      Max  \n",
       "-1.3901  -1.0700  -0.7631   1.1743   1.8896  \n",
       "\n",
       "Coefficients:\n",
       "         Estimate Std. Error z value Pr(>|z|)    \n",
       "Month1   -1.07923    0.16141  -6.686 2.29e-11 ***\n",
       "Month2   -0.73147    0.17009  -4.301 1.70e-05 ***\n",
       "Month3   -0.25259    0.16821  -1.502 0.133195    \n",
       "Month4    0.44360    0.21511   2.062 0.039188 *  \n",
       "Month5    0.44495    0.20548   2.165 0.030359 *  \n",
       "Month6    0.01068    0.18399   0.058 0.953726    \n",
       "Month7    0.19724    0.17630   1.119 0.263238    \n",
       "Month8    0.32773    0.17691   1.853 0.063951 .  \n",
       "Month9   -0.17764    0.16777  -1.059 0.289657    \n",
       "Month10   0.48724    0.19705   2.473 0.013411 *  \n",
       "Month11   0.25197    0.19447   1.296 0.195078    \n",
       "Month12  -0.57198    0.16689  -3.427 0.000610 ***\n",
       "probNino -0.53860    0.14011  -3.844 0.000121 ***\n",
       "---\n",
       "Signif. codes:  0 ‘***’ 0.001 ‘**’ 0.01 ‘*’ 0.05 ‘.’ 0.1 ‘ ’ 1\n",
       "\n",
       "(Dispersion parameter for binomial family taken to be 1)\n",
       "\n",
       "    Null deviance: 2413.5  on 1741  degrees of freedom\n",
       "Residual deviance: 2250.2  on 1728  degrees of freedom\n",
       "AIC: 2276.2\n",
       "\n",
       "Number of Fisher Scoring iterations: 4\n"
      ]
     },
     "metadata": {},
     "output_type": "display_data"
    }
   ],
   "source": [
    "# Fit to dryDays (Transitions)\n",
    "fitDry = glm(nextState ~ - 1 + Month  + probNino , data=dryDays ,family = binomial)\n",
    "summary(fitDry)"
   ]
  },
  {
   "cell_type": "code",
   "execution_count": 10,
   "metadata": {
    "scrolled": false
   },
   "outputs": [
    {
     "data": {
      "text/plain": [
       "\n",
       "Call:\n",
       "glm(formula = nextState ~ -1 + Month + probNino, family = binomial, \n",
       "    data = wetDays)\n",
       "\n",
       "Deviance Residuals: \n",
       "    Min       1Q   Median       3Q      Max  \n",
       "-1.7882  -1.3607   0.7908   0.8916   1.2264  \n",
       "\n",
       "Coefficients:\n",
       "         Estimate Std. Error z value Pr(>|z|)    \n",
       "Month1    0.09811    0.19882   0.493 0.621668    \n",
       "Month2    0.64527    0.17790   3.627 0.000286 ***\n",
       "Month3    0.83389    0.15805   5.276 1.32e-07 ***\n",
       "Month4    1.37562    0.16095   8.547  < 2e-16 ***\n",
       "Month5    1.16366    0.15226   7.643 2.13e-14 ***\n",
       "Month6    0.96490    0.15865   6.082 1.19e-09 ***\n",
       "Month7    0.75705    0.15633   4.843 1.28e-06 ***\n",
       "Month8    0.56075    0.15192   3.691 0.000223 ***\n",
       "Month9    0.42371    0.16496   2.569 0.010213 *  \n",
       "Month10   0.95677    0.15342   6.236 4.48e-10 ***\n",
       "Month11   1.00253    0.15867   6.318 2.64e-10 ***\n",
       "Month12   0.42316    0.16714   2.532 0.011347 *  \n",
       "probNino -0.25010    0.13085  -1.911 0.055955 .  \n",
       "---\n",
       "Signif. codes:  0 ‘***’ 0.001 ‘**’ 0.01 ‘*’ 0.05 ‘.’ 0.1 ‘ ’ 1\n",
       "\n",
       "(Dispersion parameter for binomial family taken to be 1)\n",
       "\n",
       "    Null deviance: 3153.8  on 2275  degrees of freedom\n",
       "Residual deviance: 2801.3  on 2262  degrees of freedom\n",
       "AIC: 2827.3\n",
       "\n",
       "Number of Fisher Scoring iterations: 4\n"
      ]
     },
     "metadata": {},
     "output_type": "display_data"
    }
   ],
   "source": [
    "# Fit to wetDays (Transitions)\n",
    "fitWet = glm(nextState ~ -1 + Month + probNino, data=wetDays ,family = binomial)\n",
    "summary(fitWet)"
   ]
  },
  {
   "cell_type": "markdown",
   "metadata": {},
   "source": [
    "### Gamma Fit with vgam "
   ]
  },
  {
   "cell_type": "code",
   "execution_count": 11,
   "metadata": {
    "scrolled": false
   },
   "outputs": [
    {
     "name": "stdout",
     "output_type": "stream",
     "text": [
      "VGLM    linear loop  1 :  loglikelihood = -526.185045\n",
      "VGLM    linear loop  2 :  loglikelihood = 647.425763\n",
      "VGLM    linear loop  3 :  loglikelihood = 1402.64361\n",
      "VGLM    linear loop  4 :  loglikelihood = 1729.48691\n",
      "VGLM    linear loop  5 :  loglikelihood = 1814.91696\n",
      "VGLM    linear loop  6 :  loglikelihood = 1824.97019\n",
      "VGLM    linear loop  7 :  loglikelihood = 1825.36195\n",
      "VGLM    linear loop  8 :  loglikelihood = 1825.37804\n",
      "VGLM    linear loop  9 :  loglikelihood = 1825.3789\n",
      "VGLM    linear loop  10 :  loglikelihood = 1825.37895\n",
      "VGLM    linear loop  11 :  loglikelihood = 1825.37895\n"
     ]
    }
   ],
   "source": [
    "#gammaJe = gamma2(lmu =\"identitylink\", lshape=\"identitylink\",zero=NULL)\n",
    "gammaJe = gamma2(lmu =\"loge\", lshape=\"loge\",zero=NULL)\n",
    "weibullJe = weibullR(lscale = \"loge\",lshape = \"loge\",zero=NULL)\n",
    "#weibullFull = vglm(Prep ~ Month + probNino +probNina , data=wetDays ,family = weibullJe ,trace='True')\n",
    "gammaFull = vglm(Prep_in ~ -1 +  Month + probNino , gammaJe, data=wetDays ,trace='True')"
   ]
  },
  {
   "cell_type": "code",
   "execution_count": 12,
   "metadata": {},
   "outputs": [
    {
     "data": {
      "text/plain": [
       "\n",
       "Call:\n",
       "vglm(formula = Prep_in ~ -1 + Month + probNino, family = gammaJe, \n",
       "    data = wetDays, trace = \"True\")\n",
       "\n",
       "Pearson residuals:\n",
       "                   Min     1Q  Median     3Q     Max\n",
       "loglink(mu)    -0.8231 -0.705 -0.4352 0.2037 11.3289\n",
       "loglink(shape) -7.3990 -0.465  0.2290 0.6263  0.7368\n",
       "\n",
       "Coefficients: \n",
       "           Estimate Std. Error z value Pr(>|z|)    \n",
       "Month1:1   -1.76113    0.12303 -14.315  < 2e-16 ***\n",
       "Month1:2   -0.41329    0.11864  -3.483 0.000495 ***\n",
       "Month2:1   -1.62491    0.10594 -15.338  < 2e-16 ***\n",
       "Month2:2   -0.42764    0.10157  -4.210 2.55e-05 ***\n",
       "Month3:1   -1.39111    0.09225 -15.079  < 2e-16 ***\n",
       "Month3:2   -0.45561    0.08715  -5.228 1.71e-07 ***\n",
       "Month4:1   -1.23136    0.08545 -14.410  < 2e-16 ***\n",
       "Month4:2   -0.51572    0.07782  -6.627 3.43e-11 ***\n",
       "Month5:1   -1.36213    0.08419 -16.180  < 2e-16 ***\n",
       "Month5:2   -0.48157    0.07818  -6.159 7.30e-10 ***\n",
       "Month6:1   -1.81451    0.09175 -19.776  < 2e-16 ***\n",
       "Month6:2   -0.46337    0.08579  -5.401 6.62e-08 ***\n",
       "Month7:1   -2.05083    0.09293 -22.068  < 2e-16 ***\n",
       "Month7:2   -0.43533    0.08804  -4.945 7.62e-07 ***\n",
       "Month8:1   -2.04027    0.08792 -23.207  < 2e-16 ***\n",
       "Month8:2   -0.32674    0.08853  -3.691 0.000224 ***\n",
       "Month9:1   -1.79723    0.10252 -17.530  < 2e-16 ***\n",
       "Month9:2   -0.45497    0.09640  -4.719 2.37e-06 ***\n",
       "Month10:1  -1.15345    0.09131 -12.632  < 2e-16 ***\n",
       "Month10:2  -0.52192    0.08271  -6.310 2.79e-10 ***\n",
       "Month11:1  -1.20541    0.08856 -13.610  < 2e-16 ***\n",
       "Month11:2  -0.40782    0.08550  -4.770 1.84e-06 ***\n",
       "Month12:1  -1.42033    0.10069 -14.106  < 2e-16 ***\n",
       "Month12:2  -0.39035    0.09820  -3.975 7.03e-05 ***\n",
       "probNino:1 -0.62832    0.07878  -7.975 1.52e-15 ***\n",
       "probNino:2 -0.08101    0.07363  -1.100 0.271253    \n",
       "---\n",
       "Signif. codes:  0 ‘***’ 0.001 ‘**’ 0.01 ‘*’ 0.05 ‘.’ 0.1 ‘ ’ 1\n",
       "\n",
       "Names of linear predictors: loglink(mu), loglink(shape)\n",
       "\n",
       "Log-likelihood: 1825.379 on 4524 degrees of freedom\n",
       "\n",
       "Number of Fisher scoring iterations: 11 \n",
       "\n",
       "No Hauck-Donner effect found in any of the estimates\n"
      ]
     },
     "metadata": {},
     "output_type": "display_data"
    }
   ],
   "source": [
    "summary(gammaFull)"
   ]
  },
  {
   "cell_type": "code",
   "execution_count": 13,
   "metadata": {
    "scrolled": false
   },
   "outputs": [
    {
     "data": {
      "text/html": [
       "<table>\n",
       "<caption>A matrix: 13 × 2 of type dbl</caption>\n",
       "<thead>\n",
       "\t<tr><th></th><th scope=col>loglink(mu)</th><th scope=col>loglink(shape)</th></tr>\n",
       "</thead>\n",
       "<tbody>\n",
       "\t<tr><th scope=row>Month1</th><td>-1.7611291</td><td>-0.4132933</td></tr>\n",
       "\t<tr><th scope=row>Month2</th><td>-1.6249087</td><td>-0.4276414</td></tr>\n",
       "\t<tr><th scope=row>Month3</th><td>-1.3911092</td><td>-0.4556090</td></tr>\n",
       "\t<tr><th scope=row>Month4</th><td>-1.2313573</td><td>-0.5157238</td></tr>\n",
       "\t<tr><th scope=row>Month5</th><td>-1.3621275</td><td>-0.4815699</td></tr>\n",
       "\t<tr><th scope=row>Month6</th><td>-1.8145081</td><td>-0.4633707</td></tr>\n",
       "\t<tr><th scope=row>Month7</th><td>-2.0508286</td><td>-0.4353264</td></tr>\n",
       "\t<tr><th scope=row>Month8</th><td>-2.0402685</td><td>-0.3267396</td></tr>\n",
       "\t<tr><th scope=row>Month9</th><td>-1.7972270</td><td>-0.4549680</td></tr>\n",
       "\t<tr><th scope=row>Month10</th><td>-1.1534528</td><td>-0.5219225</td></tr>\n",
       "\t<tr><th scope=row>Month11</th><td>-1.2054080</td><td>-0.4078215</td></tr>\n",
       "\t<tr><th scope=row>Month12</th><td>-1.4203310</td><td>-0.3903503</td></tr>\n",
       "\t<tr><th scope=row>probNino</th><td>-0.6283232</td><td>-0.0810077</td></tr>\n",
       "</tbody>\n",
       "</table>\n"
      ],
      "text/latex": [
       "A matrix: 13 × 2 of type dbl\n",
       "\\begin{tabular}{r|ll}\n",
       "  & loglink(mu) & loglink(shape)\\\\\n",
       "\\hline\n",
       "\tMonth1 & -1.7611291 & -0.4132933\\\\\n",
       "\tMonth2 & -1.6249087 & -0.4276414\\\\\n",
       "\tMonth3 & -1.3911092 & -0.4556090\\\\\n",
       "\tMonth4 & -1.2313573 & -0.5157238\\\\\n",
       "\tMonth5 & -1.3621275 & -0.4815699\\\\\n",
       "\tMonth6 & -1.8145081 & -0.4633707\\\\\n",
       "\tMonth7 & -2.0508286 & -0.4353264\\\\\n",
       "\tMonth8 & -2.0402685 & -0.3267396\\\\\n",
       "\tMonth9 & -1.7972270 & -0.4549680\\\\\n",
       "\tMonth10 & -1.1534528 & -0.5219225\\\\\n",
       "\tMonth11 & -1.2054080 & -0.4078215\\\\\n",
       "\tMonth12 & -1.4203310 & -0.3903503\\\\\n",
       "\tprobNino & -0.6283232 & -0.0810077\\\\\n",
       "\\end{tabular}\n"
      ],
      "text/markdown": [
       "\n",
       "A matrix: 13 × 2 of type dbl\n",
       "\n",
       "| <!--/--> | loglink(mu) | loglink(shape) |\n",
       "|---|---|---|\n",
       "| Month1 | -1.7611291 | -0.4132933 |\n",
       "| Month2 | -1.6249087 | -0.4276414 |\n",
       "| Month3 | -1.3911092 | -0.4556090 |\n",
       "| Month4 | -1.2313573 | -0.5157238 |\n",
       "| Month5 | -1.3621275 | -0.4815699 |\n",
       "| Month6 | -1.8145081 | -0.4633707 |\n",
       "| Month7 | -2.0508286 | -0.4353264 |\n",
       "| Month8 | -2.0402685 | -0.3267396 |\n",
       "| Month9 | -1.7972270 | -0.4549680 |\n",
       "| Month10 | -1.1534528 | -0.5219225 |\n",
       "| Month11 | -1.2054080 | -0.4078215 |\n",
       "| Month12 | -1.4203310 | -0.3903503 |\n",
       "| probNino | -0.6283232 | -0.0810077 |\n",
       "\n"
      ],
      "text/plain": [
       "         loglink(mu) loglink(shape)\n",
       "Month1   -1.7611291  -0.4132933    \n",
       "Month2   -1.6249087  -0.4276414    \n",
       "Month3   -1.3911092  -0.4556090    \n",
       "Month4   -1.2313573  -0.5157238    \n",
       "Month5   -1.3621275  -0.4815699    \n",
       "Month6   -1.8145081  -0.4633707    \n",
       "Month7   -2.0508286  -0.4353264    \n",
       "Month8   -2.0402685  -0.3267396    \n",
       "Month9   -1.7972270  -0.4549680    \n",
       "Month10  -1.1534528  -0.5219225    \n",
       "Month11  -1.2054080  -0.4078215    \n",
       "Month12  -1.4203310  -0.3903503    \n",
       "probNino -0.6283232  -0.0810077    "
      ]
     },
     "metadata": {},
     "output_type": "display_data"
    }
   ],
   "source": [
    "coef(gammaFull,matrix = TRUE)"
   ]
  },
  {
   "cell_type": "code",
   "execution_count": 14,
   "metadata": {
    "scrolled": false
   },
   "outputs": [
    {
     "name": "stdout",
     "output_type": "stream",
     "text": [
      "VGAM  vlm.wfit  loop  1 :  loglikelihood = -526.185045\n",
      "VGAM  vlm.wfit  loop  2 :  loglikelihood = 647.425763\n",
      "VGAM  vlm.wfit  loop  3 :  loglikelihood = 1402.64361\n",
      "VGAM  vlm.wfit  loop  4 :  loglikelihood = 1729.48691\n",
      "VGAM  vlm.wfit  loop  5 :  loglikelihood = 1814.91696\n",
      "VGAM  vlm.wfit  loop  6 :  loglikelihood = 1824.97019\n",
      "VGAM  vlm.wfit  loop  7 :  loglikelihood = 1825.36195\n",
      "VGAM  vlm.wfit  loop  8 :  loglikelihood = 1825.37804\n",
      "VGAM  vlm.wfit  loop  9 :  loglikelihood = 1825.3789\n",
      "VGAM  vlm.wfit  loop  10 :  loglikelihood = 1825.37895\n",
      "VGAM  vlm.wfit  loop  11 :  loglikelihood = 1825.37895\n"
     ]
    }
   ],
   "source": [
    "#gammaJe = gamma2(lmu =\"identitylink\", lshape=\"identitylink\",zero=NULL)\n",
    "gammaJe = gamma2(lmu =\"loge\", lshape=\"loge\",zero=NULL)\n",
    "weibullJe = weibullR(lscale = \"loge\",lshape = \"loge\",zero=NULL)\n",
    "#weibullFull = vglm(Prep ~ Month + probNino +probNina , data=wetDays ,family = weibullJe ,trace='True')\n",
    "gammaVGAM = vgam(Prep_in ~ -1 +  Month + probNino , gammaJe, data=wetDays ,trace='True')"
   ]
  },
  {
   "cell_type": "code",
   "execution_count": 15,
   "metadata": {
    "scrolled": false
   },
   "outputs": [
    {
     "data": {
      "text/html": [
       "<table>\n",
       "<caption>A matrix: 13 × 2 of type dbl</caption>\n",
       "<thead>\n",
       "\t<tr><th></th><th scope=col>loglink(mu)</th><th scope=col>loglink(shape)</th></tr>\n",
       "</thead>\n",
       "<tbody>\n",
       "\t<tr><th scope=row>Month1</th><td>-1.7611291</td><td>-0.4132933</td></tr>\n",
       "\t<tr><th scope=row>Month2</th><td>-1.6249087</td><td>-0.4276414</td></tr>\n",
       "\t<tr><th scope=row>Month3</th><td>-1.3911092</td><td>-0.4556090</td></tr>\n",
       "\t<tr><th scope=row>Month4</th><td>-1.2313573</td><td>-0.5157238</td></tr>\n",
       "\t<tr><th scope=row>Month5</th><td>-1.3621275</td><td>-0.4815699</td></tr>\n",
       "\t<tr><th scope=row>Month6</th><td>-1.8145081</td><td>-0.4633707</td></tr>\n",
       "\t<tr><th scope=row>Month7</th><td>-2.0508286</td><td>-0.4353264</td></tr>\n",
       "\t<tr><th scope=row>Month8</th><td>-2.0402685</td><td>-0.3267396</td></tr>\n",
       "\t<tr><th scope=row>Month9</th><td>-1.7972270</td><td>-0.4549680</td></tr>\n",
       "\t<tr><th scope=row>Month10</th><td>-1.1534528</td><td>-0.5219225</td></tr>\n",
       "\t<tr><th scope=row>Month11</th><td>-1.2054080</td><td>-0.4078215</td></tr>\n",
       "\t<tr><th scope=row>Month12</th><td>-1.4203310</td><td>-0.3903503</td></tr>\n",
       "\t<tr><th scope=row>probNino</th><td>-0.6283232</td><td>-0.0810077</td></tr>\n",
       "</tbody>\n",
       "</table>\n"
      ],
      "text/latex": [
       "A matrix: 13 × 2 of type dbl\n",
       "\\begin{tabular}{r|ll}\n",
       "  & loglink(mu) & loglink(shape)\\\\\n",
       "\\hline\n",
       "\tMonth1 & -1.7611291 & -0.4132933\\\\\n",
       "\tMonth2 & -1.6249087 & -0.4276414\\\\\n",
       "\tMonth3 & -1.3911092 & -0.4556090\\\\\n",
       "\tMonth4 & -1.2313573 & -0.5157238\\\\\n",
       "\tMonth5 & -1.3621275 & -0.4815699\\\\\n",
       "\tMonth6 & -1.8145081 & -0.4633707\\\\\n",
       "\tMonth7 & -2.0508286 & -0.4353264\\\\\n",
       "\tMonth8 & -2.0402685 & -0.3267396\\\\\n",
       "\tMonth9 & -1.7972270 & -0.4549680\\\\\n",
       "\tMonth10 & -1.1534528 & -0.5219225\\\\\n",
       "\tMonth11 & -1.2054080 & -0.4078215\\\\\n",
       "\tMonth12 & -1.4203310 & -0.3903503\\\\\n",
       "\tprobNino & -0.6283232 & -0.0810077\\\\\n",
       "\\end{tabular}\n"
      ],
      "text/markdown": [
       "\n",
       "A matrix: 13 × 2 of type dbl\n",
       "\n",
       "| <!--/--> | loglink(mu) | loglink(shape) |\n",
       "|---|---|---|\n",
       "| Month1 | -1.7611291 | -0.4132933 |\n",
       "| Month2 | -1.6249087 | -0.4276414 |\n",
       "| Month3 | -1.3911092 | -0.4556090 |\n",
       "| Month4 | -1.2313573 | -0.5157238 |\n",
       "| Month5 | -1.3621275 | -0.4815699 |\n",
       "| Month6 | -1.8145081 | -0.4633707 |\n",
       "| Month7 | -2.0508286 | -0.4353264 |\n",
       "| Month8 | -2.0402685 | -0.3267396 |\n",
       "| Month9 | -1.7972270 | -0.4549680 |\n",
       "| Month10 | -1.1534528 | -0.5219225 |\n",
       "| Month11 | -1.2054080 | -0.4078215 |\n",
       "| Month12 | -1.4203310 | -0.3903503 |\n",
       "| probNino | -0.6283232 | -0.0810077 |\n",
       "\n"
      ],
      "text/plain": [
       "         loglink(mu) loglink(shape)\n",
       "Month1   -1.7611291  -0.4132933    \n",
       "Month2   -1.6249087  -0.4276414    \n",
       "Month3   -1.3911092  -0.4556090    \n",
       "Month4   -1.2313573  -0.5157238    \n",
       "Month5   -1.3621275  -0.4815699    \n",
       "Month6   -1.8145081  -0.4633707    \n",
       "Month7   -2.0508286  -0.4353264    \n",
       "Month8   -2.0402685  -0.3267396    \n",
       "Month9   -1.7972270  -0.4549680    \n",
       "Month10  -1.1534528  -0.5219225    \n",
       "Month11  -1.2054080  -0.4078215    \n",
       "Month12  -1.4203310  -0.3903503    \n",
       "probNino -0.6283232  -0.0810077    "
      ]
     },
     "metadata": {},
     "output_type": "display_data"
    }
   ],
   "source": [
    "coef(gammaVGAM,matrix = TRUE)"
   ]
  },
  {
   "cell_type": "markdown",
   "metadata": {},
   "source": [
    "### Save and export results"
   ]
  },
  {
   "cell_type": "code",
   "execution_count": 16,
   "metadata": {},
   "outputs": [],
   "source": [
    "dir.create('../results/visibleMarkov/', showWarnings = FALSE)\n",
    "\n",
    "write.table(coef(fitDry, matrix = T),'../results/visibleMarkov/transitionsParametersDry_glm.csv', col.names=F)\n",
    "write.table(coef(fitWet, matrix = T),'../results/visibleMarkov/transitionsParametersWet_glm.csv', col.names=F)\n",
    "write.table(coef(gammaFull, matrix = T),'../results/visibleMarkov/amountGamma_vglm.csv', col.names=F)"
   ]
  },
  {
   "cell_type": "markdown",
   "metadata": {},
   "source": [
    "## Parameters including ENSO effects\n",
    "Month + deltaIndex(probNino - probNina)"
   ]
  },
  {
   "cell_type": "code",
   "execution_count": 34,
   "metadata": {},
   "outputs": [
    {
     "data": {
      "text/plain": [
       "\n",
       "Call:\n",
       "glm(formula = nextState ~ -1 + Month + deltaIndex, family = binomial, \n",
       "    data = dryDays)\n",
       "\n",
       "Deviance Residuals: \n",
       "    Min       1Q   Median       3Q      Max  \n",
       "-1.4691  -1.0576  -0.7583   1.1635   1.8788  \n",
       "\n",
       "Coefficients:\n",
       "           Estimate Std. Error z value Pr(>|z|)    \n",
       "Month1     -1.26005    0.15691  -8.030 9.72e-16 ***\n",
       "Month2     -0.90844    0.16945  -5.361 8.27e-08 ***\n",
       "Month3     -0.38642    0.16619  -2.325 0.020062 *  \n",
       "Month4      0.34295    0.21306   1.610 0.107476    \n",
       "Month5      0.34421    0.20120   1.711 0.087127 .  \n",
       "Month6     -0.08849    0.18068  -0.490 0.624305    \n",
       "Month7      0.08045    0.17132   0.470 0.638621    \n",
       "Month8      0.19311    0.17075   1.131 0.258064    \n",
       "Month9     -0.32112    0.15871  -2.023 0.043037 *  \n",
       "Month10     0.33964    0.18878   1.799 0.071995 .  \n",
       "Month11     0.11158    0.18603   0.600 0.548652    \n",
       "Month12    -0.73488    0.16003  -4.592 4.39e-06 ***\n",
       "deltaIndex -0.32785    0.08481  -3.866 0.000111 ***\n",
       "---\n",
       "Signif. codes:  0 ‘***’ 0.001 ‘**’ 0.01 ‘*’ 0.05 ‘.’ 0.1 ‘ ’ 1\n",
       "\n",
       "(Dispersion parameter for binomial family taken to be 1)\n",
       "\n",
       "    Null deviance: 2413.5  on 1741  degrees of freedom\n",
       "Residual deviance: 2250.1  on 1728  degrees of freedom\n",
       "AIC: 2276.1\n",
       "\n",
       "Number of Fisher Scoring iterations: 4\n"
      ]
     },
     "metadata": {},
     "output_type": "display_data"
    }
   ],
   "source": [
    "# Fit to dryDays (Transitions)\n",
    "fitDry = glm(nextState ~ - 1 + Month  + deltaIndex , data=dryDays ,family = binomial)\n",
    "summary(fitDry)"
   ]
  },
  {
   "cell_type": "code",
   "execution_count": 35,
   "metadata": {
    "scrolled": false
   },
   "outputs": [
    {
     "data": {
      "text/plain": [
       "\n",
       "Call:\n",
       "glm(formula = nextState ~ -1 + Month + deltaIndex, family = binomial, \n",
       "    data = wetDays)\n",
       "\n",
       "Deviance Residuals: \n",
       "    Min       1Q   Median       3Q      Max  \n",
       "-1.8405  -1.3433   0.7502   0.9137   1.2977  \n",
       "\n",
       "Coefficients:\n",
       "           Estimate Std. Error z value Pr(>|z|)    \n",
       "Month1     -0.02418    0.19792  -0.122  0.90275    \n",
       "Month2      0.52739    0.17757   2.970  0.00298 ** \n",
       "Month3      0.73846    0.15779   4.680 2.87e-06 ***\n",
       "Month4      1.32600    0.15921   8.329  < 2e-16 ***\n",
       "Month5      1.12617    0.15023   7.496 6.56e-14 ***\n",
       "Month6      0.93250    0.15417   6.048 1.46e-09 ***\n",
       "Month7      0.72623    0.14962   4.854 1.21e-06 ***\n",
       "Month8      0.51820    0.14609   3.547  0.00039 ***\n",
       "Month9      0.36093    0.16132   2.237  0.02526 *  \n",
       "Month10     0.89101    0.14741   6.044 1.50e-09 ***\n",
       "Month11     0.92941    0.15342   6.058 1.38e-09 ***\n",
       "Month12     0.32342    0.16319   1.982  0.04749 *  \n",
       "deltaIndex -0.29908    0.07610  -3.930 8.49e-05 ***\n",
       "---\n",
       "Signif. codes:  0 ‘***’ 0.001 ‘**’ 0.01 ‘*’ 0.05 ‘.’ 0.1 ‘ ’ 1\n",
       "\n",
       "(Dispersion parameter for binomial family taken to be 1)\n",
       "\n",
       "    Null deviance: 3153.8  on 2275  degrees of freedom\n",
       "Residual deviance: 2789.4  on 2262  degrees of freedom\n",
       "AIC: 2815.4\n",
       "\n",
       "Number of Fisher Scoring iterations: 4\n"
      ]
     },
     "metadata": {},
     "output_type": "display_data"
    }
   ],
   "source": [
    "# Fit to wetDays (Transitions)\n",
    "fitWet = glm(nextState ~ -1 + Month + deltaIndex, data=wetDays ,family = binomial)\n",
    "summary(fitWet)"
   ]
  },
  {
   "cell_type": "markdown",
   "metadata": {},
   "source": [
    "### Gamma Fit with vgam "
   ]
  },
  {
   "cell_type": "code",
   "execution_count": 36,
   "metadata": {
    "scrolled": false
   },
   "outputs": [
    {
     "name": "stdout",
     "output_type": "stream",
     "text": [
      "VGLM    linear loop  1 :  loglikelihood = -528.088987\n",
      "VGLM    linear loop  2 :  loglikelihood = 647.993492\n",
      "VGLM    linear loop  3 :  loglikelihood = 1404.30987\n",
      "VGLM    linear loop  4 :  loglikelihood = 1729.97536\n",
      "VGLM    linear loop  5 :  loglikelihood = 1810.86419\n",
      "VGLM    linear loop  6 :  loglikelihood = 1819.29993\n",
      "VGLM    linear loop  7 :  loglikelihood = 1819.62747\n",
      "VGLM    linear loop  8 :  loglikelihood = 1819.64381\n",
      "VGLM    linear loop  9 :  loglikelihood = 1819.64482\n",
      "VGLM    linear loop  10 :  loglikelihood = 1819.64488\n",
      "VGLM    linear loop  11 :  loglikelihood = 1819.64488\n",
      "VGLM    linear loop  12 :  loglikelihood = 1819.64488\n"
     ]
    }
   ],
   "source": [
    "#gammaJe = gamma2(lmu =\"identitylink\", lshape=\"identitylink\",zero=NULL)\n",
    "gammaJe = gamma2(lmu =\"loge\", lshape=\"loge\",zero=NULL)\n",
    "weibullJe = weibullR(lscale = \"loge\",lshape = \"loge\",zero=NULL)\n",
    "#weibullFull = vglm(Prep ~ Month + probNino +probNina , data=wetDays ,family = weibullJe ,trace='True')\n",
    "gammaFull = vglm(Prep_in ~ -1 +  Month + deltaIndex , gammaJe, data=wetDays ,trace='True')"
   ]
  },
  {
   "cell_type": "code",
   "execution_count": 37,
   "metadata": {},
   "outputs": [
    {
     "data": {
      "text/plain": [
       "\n",
       "Call:\n",
       "vglm(formula = Prep_in ~ -1 + Month + deltaIndex, family = gammaJe, \n",
       "    data = wetDays, trace = \"True\")\n",
       "\n",
       "Pearson residuals:\n",
       "                   Min      1Q  Median     3Q     Max\n",
       "loglink(mu)    -0.8314 -0.7016 -0.4346 0.2002 10.6688\n",
       "loglink(shape) -6.8121 -0.4330  0.2400 0.6221  0.7373\n",
       "\n",
       "Coefficients: \n",
       "             Estimate Std. Error z value Pr(>|z|)    \n",
       "Month1:1     -1.94909    0.12369 -15.758  < 2e-16 ***\n",
       "Month1:2     -0.47326    0.11735  -4.033 5.51e-05 ***\n",
       "Month2:1     -1.81086    0.10608 -17.071  < 2e-16 ***\n",
       "Month2:2     -0.46720    0.10115  -4.619 3.86e-06 ***\n",
       "Month3:1     -1.54446    0.09223 -16.746  < 2e-16 ***\n",
       "Month3:2     -0.48397    0.08695  -5.566 2.60e-08 ***\n",
       "Month4:1     -1.35586    0.08417 -16.108  < 2e-16 ***\n",
       "Month4:2     -0.52861    0.07671  -6.891 5.54e-12 ***\n",
       "Month5:1     -1.46540    0.08316 -17.622  < 2e-16 ***\n",
       "Month5:2     -0.50072    0.07689  -6.512 7.39e-11 ***\n",
       "Month6:1     -1.93759    0.08991 -21.550  < 2e-16 ***\n",
       "Month6:2     -0.49795    0.08296  -6.002 1.94e-09 ***\n",
       "Month7:1     -2.22428    0.08851 -25.129  < 2e-16 ***\n",
       "Month7:2     -0.44315    0.08419  -5.264 1.41e-07 ***\n",
       "Month8:1     -2.19547    0.08492 -25.854  < 2e-16 ***\n",
       "Month8:2     -0.35996    0.08507  -4.231 2.33e-05 ***\n",
       "Month9:1     -1.95938    0.10082 -19.434  < 2e-16 ***\n",
       "Month9:2     -0.48639    0.09410  -5.169 2.35e-07 ***\n",
       "Month10:1    -1.36177    0.08755 -15.554  < 2e-16 ***\n",
       "Month10:2    -0.53985    0.07913  -6.822 8.95e-12 ***\n",
       "Month11:1    -1.41482    0.08480 -16.683  < 2e-16 ***\n",
       "Month11:2    -0.41873    0.08248  -5.077 3.84e-07 ***\n",
       "Month12:1    -1.62763    0.09864 -16.500  < 2e-16 ***\n",
       "Month12:2    -0.42841    0.09565  -4.479 7.50e-06 ***\n",
       "deltaIndex:1 -0.31187    0.04480  -6.962 3.36e-12 ***\n",
       "deltaIndex:2 -0.07416    0.04230  -1.753   0.0796 .  \n",
       "---\n",
       "Signif. codes:  0 ‘***’ 0.001 ‘**’ 0.01 ‘*’ 0.05 ‘.’ 0.1 ‘ ’ 1\n",
       "\n",
       "Names of linear predictors: loglink(mu), loglink(shape)\n",
       "\n",
       "Log-likelihood: 1819.645 on 4524 degrees of freedom\n",
       "\n",
       "Number of Fisher scoring iterations: 12 \n",
       "\n",
       "No Hauck-Donner effect found in any of the estimates\n"
      ]
     },
     "metadata": {},
     "output_type": "display_data"
    }
   ],
   "source": [
    "summary(gammaFull)"
   ]
  },
  {
   "cell_type": "code",
   "execution_count": 38,
   "metadata": {
    "scrolled": false
   },
   "outputs": [
    {
     "data": {
      "text/html": [
       "<table>\n",
       "<caption>A matrix: 13 × 2 of type dbl</caption>\n",
       "<thead>\n",
       "\t<tr><th></th><th scope=col>loglink(mu)</th><th scope=col>loglink(shape)</th></tr>\n",
       "</thead>\n",
       "<tbody>\n",
       "\t<tr><th scope=row>Month1</th><td>-1.9490872</td><td>-0.47326086</td></tr>\n",
       "\t<tr><th scope=row>Month2</th><td>-1.8108601</td><td>-0.46719998</td></tr>\n",
       "\t<tr><th scope=row>Month3</th><td>-1.5444577</td><td>-0.48396546</td></tr>\n",
       "\t<tr><th scope=row>Month4</th><td>-1.3558594</td><td>-0.52860767</td></tr>\n",
       "\t<tr><th scope=row>Month5</th><td>-1.4653968</td><td>-0.50072380</td></tr>\n",
       "\t<tr><th scope=row>Month6</th><td>-1.9375894</td><td>-0.49794613</td></tr>\n",
       "\t<tr><th scope=row>Month7</th><td>-2.2242758</td><td>-0.44315035</td></tr>\n",
       "\t<tr><th scope=row>Month8</th><td>-2.1954739</td><td>-0.35996054</td></tr>\n",
       "\t<tr><th scope=row>Month9</th><td>-1.9593811</td><td>-0.48639410</td></tr>\n",
       "\t<tr><th scope=row>Month10</th><td>-1.3617733</td><td>-0.53985199</td></tr>\n",
       "\t<tr><th scope=row>Month11</th><td>-1.4148189</td><td>-0.41873089</td></tr>\n",
       "\t<tr><th scope=row>Month12</th><td>-1.6276290</td><td>-0.42841302</td></tr>\n",
       "\t<tr><th scope=row>deltaIndex</th><td>-0.3118715</td><td>-0.07416021</td></tr>\n",
       "</tbody>\n",
       "</table>\n"
      ],
      "text/latex": [
       "A matrix: 13 × 2 of type dbl\n",
       "\\begin{tabular}{r|ll}\n",
       "  & loglink(mu) & loglink(shape)\\\\\n",
       "\\hline\n",
       "\tMonth1 & -1.9490872 & -0.47326086\\\\\n",
       "\tMonth2 & -1.8108601 & -0.46719998\\\\\n",
       "\tMonth3 & -1.5444577 & -0.48396546\\\\\n",
       "\tMonth4 & -1.3558594 & -0.52860767\\\\\n",
       "\tMonth5 & -1.4653968 & -0.50072380\\\\\n",
       "\tMonth6 & -1.9375894 & -0.49794613\\\\\n",
       "\tMonth7 & -2.2242758 & -0.44315035\\\\\n",
       "\tMonth8 & -2.1954739 & -0.35996054\\\\\n",
       "\tMonth9 & -1.9593811 & -0.48639410\\\\\n",
       "\tMonth10 & -1.3617733 & -0.53985199\\\\\n",
       "\tMonth11 & -1.4148189 & -0.41873089\\\\\n",
       "\tMonth12 & -1.6276290 & -0.42841302\\\\\n",
       "\tdeltaIndex & -0.3118715 & -0.07416021\\\\\n",
       "\\end{tabular}\n"
      ],
      "text/markdown": [
       "\n",
       "A matrix: 13 × 2 of type dbl\n",
       "\n",
       "| <!--/--> | loglink(mu) | loglink(shape) |\n",
       "|---|---|---|\n",
       "| Month1 | -1.9490872 | -0.47326086 |\n",
       "| Month2 | -1.8108601 | -0.46719998 |\n",
       "| Month3 | -1.5444577 | -0.48396546 |\n",
       "| Month4 | -1.3558594 | -0.52860767 |\n",
       "| Month5 | -1.4653968 | -0.50072380 |\n",
       "| Month6 | -1.9375894 | -0.49794613 |\n",
       "| Month7 | -2.2242758 | -0.44315035 |\n",
       "| Month8 | -2.1954739 | -0.35996054 |\n",
       "| Month9 | -1.9593811 | -0.48639410 |\n",
       "| Month10 | -1.3617733 | -0.53985199 |\n",
       "| Month11 | -1.4148189 | -0.41873089 |\n",
       "| Month12 | -1.6276290 | -0.42841302 |\n",
       "| deltaIndex | -0.3118715 | -0.07416021 |\n",
       "\n"
      ],
      "text/plain": [
       "           loglink(mu) loglink(shape)\n",
       "Month1     -1.9490872  -0.47326086   \n",
       "Month2     -1.8108601  -0.46719998   \n",
       "Month3     -1.5444577  -0.48396546   \n",
       "Month4     -1.3558594  -0.52860767   \n",
       "Month5     -1.4653968  -0.50072380   \n",
       "Month6     -1.9375894  -0.49794613   \n",
       "Month7     -2.2242758  -0.44315035   \n",
       "Month8     -2.1954739  -0.35996054   \n",
       "Month9     -1.9593811  -0.48639410   \n",
       "Month10    -1.3617733  -0.53985199   \n",
       "Month11    -1.4148189  -0.41873089   \n",
       "Month12    -1.6276290  -0.42841302   \n",
       "deltaIndex -0.3118715  -0.07416021   "
      ]
     },
     "metadata": {},
     "output_type": "display_data"
    }
   ],
   "source": [
    "coef(gammaFull,matrix = TRUE)"
   ]
  },
  {
   "cell_type": "code",
   "execution_count": 39,
   "metadata": {
    "scrolled": false
   },
   "outputs": [
    {
     "name": "stdout",
     "output_type": "stream",
     "text": [
      "VGAM  vlm.wfit  loop  1 :  loglikelihood = -528.088987\n",
      "VGAM  vlm.wfit  loop  2 :  loglikelihood = 647.993492\n",
      "VGAM  vlm.wfit  loop  3 :  loglikelihood = 1404.30987\n",
      "VGAM  vlm.wfit  loop  4 :  loglikelihood = 1729.97536\n",
      "VGAM  vlm.wfit  loop  5 :  loglikelihood = 1810.86419\n",
      "VGAM  vlm.wfit  loop  6 :  loglikelihood = 1819.29993\n",
      "VGAM  vlm.wfit  loop  7 :  loglikelihood = 1819.62747\n",
      "VGAM  vlm.wfit  loop  8 :  loglikelihood = 1819.64381\n",
      "VGAM  vlm.wfit  loop  9 :  loglikelihood = 1819.64482\n",
      "VGAM  vlm.wfit  loop  10 :  loglikelihood = 1819.64488\n",
      "VGAM  vlm.wfit  loop  11 :  loglikelihood = 1819.64488\n"
     ]
    }
   ],
   "source": [
    "#gammaJe = gamma2(lmu =\"identitylink\", lshape=\"identitylink\",zero=NULL)\n",
    "gammaJe = gamma2(lmu =\"loge\", lshape=\"loge\",zero=NULL)\n",
    "weibullJe = weibullR(lscale = \"loge\",lshape = \"loge\",zero=NULL)\n",
    "#weibullFull = vglm(Prep ~ Month + probNino +probNina , data=wetDays ,family = weibullJe ,trace='True')\n",
    "gammaVGAM = vgam(Prep_in ~ -1 +  Month + deltaIndex , gammaJe, data=wetDays ,trace='True')"
   ]
  },
  {
   "cell_type": "code",
   "execution_count": 40,
   "metadata": {
    "scrolled": false
   },
   "outputs": [
    {
     "data": {
      "text/html": [
       "<table>\n",
       "<caption>A matrix: 13 × 2 of type dbl</caption>\n",
       "<thead>\n",
       "\t<tr><th></th><th scope=col>loglink(mu)</th><th scope=col>loglink(shape)</th></tr>\n",
       "</thead>\n",
       "<tbody>\n",
       "\t<tr><th scope=row>Month1</th><td>-1.9490776</td><td>-0.47326855</td></tr>\n",
       "\t<tr><th scope=row>Month2</th><td>-1.8108503</td><td>-0.46720733</td></tr>\n",
       "\t<tr><th scope=row>Month3</th><td>-1.5444526</td><td>-0.48396903</td></tr>\n",
       "\t<tr><th scope=row>Month4</th><td>-1.3558624</td><td>-0.52860532</td></tr>\n",
       "\t<tr><th scope=row>Month5</th><td>-1.4653948</td><td>-0.50072394</td></tr>\n",
       "\t<tr><th scope=row>Month6</th><td>-1.9375842</td><td>-0.49794833</td></tr>\n",
       "\t<tr><th scope=row>Month7</th><td>-2.2242635</td><td>-0.44315695</td></tr>\n",
       "\t<tr><th scope=row>Month8</th><td>-2.1954739</td><td>-0.35996356</td></tr>\n",
       "\t<tr><th scope=row>Month9</th><td>-1.9593856</td><td>-0.48639431</td></tr>\n",
       "\t<tr><th scope=row>Month10</th><td>-1.3617886</td><td>-0.53984536</td></tr>\n",
       "\t<tr><th scope=row>Month11</th><td>-1.4148255</td><td>-0.41872105</td></tr>\n",
       "\t<tr><th scope=row>Month12</th><td>-1.6276288</td><td>-0.42840800</td></tr>\n",
       "\t<tr><th scope=row>deltaIndex</th><td>-0.3118531</td><td>-0.07417298</td></tr>\n",
       "</tbody>\n",
       "</table>\n"
      ],
      "text/latex": [
       "A matrix: 13 × 2 of type dbl\n",
       "\\begin{tabular}{r|ll}\n",
       "  & loglink(mu) & loglink(shape)\\\\\n",
       "\\hline\n",
       "\tMonth1 & -1.9490776 & -0.47326855\\\\\n",
       "\tMonth2 & -1.8108503 & -0.46720733\\\\\n",
       "\tMonth3 & -1.5444526 & -0.48396903\\\\\n",
       "\tMonth4 & -1.3558624 & -0.52860532\\\\\n",
       "\tMonth5 & -1.4653948 & -0.50072394\\\\\n",
       "\tMonth6 & -1.9375842 & -0.49794833\\\\\n",
       "\tMonth7 & -2.2242635 & -0.44315695\\\\\n",
       "\tMonth8 & -2.1954739 & -0.35996356\\\\\n",
       "\tMonth9 & -1.9593856 & -0.48639431\\\\\n",
       "\tMonth10 & -1.3617886 & -0.53984536\\\\\n",
       "\tMonth11 & -1.4148255 & -0.41872105\\\\\n",
       "\tMonth12 & -1.6276288 & -0.42840800\\\\\n",
       "\tdeltaIndex & -0.3118531 & -0.07417298\\\\\n",
       "\\end{tabular}\n"
      ],
      "text/markdown": [
       "\n",
       "A matrix: 13 × 2 of type dbl\n",
       "\n",
       "| <!--/--> | loglink(mu) | loglink(shape) |\n",
       "|---|---|---|\n",
       "| Month1 | -1.9490776 | -0.47326855 |\n",
       "| Month2 | -1.8108503 | -0.46720733 |\n",
       "| Month3 | -1.5444526 | -0.48396903 |\n",
       "| Month4 | -1.3558624 | -0.52860532 |\n",
       "| Month5 | -1.4653948 | -0.50072394 |\n",
       "| Month6 | -1.9375842 | -0.49794833 |\n",
       "| Month7 | -2.2242635 | -0.44315695 |\n",
       "| Month8 | -2.1954739 | -0.35996356 |\n",
       "| Month9 | -1.9593856 | -0.48639431 |\n",
       "| Month10 | -1.3617886 | -0.53984536 |\n",
       "| Month11 | -1.4148255 | -0.41872105 |\n",
       "| Month12 | -1.6276288 | -0.42840800 |\n",
       "| deltaIndex | -0.3118531 | -0.07417298 |\n",
       "\n"
      ],
      "text/plain": [
       "           loglink(mu) loglink(shape)\n",
       "Month1     -1.9490776  -0.47326855   \n",
       "Month2     -1.8108503  -0.46720733   \n",
       "Month3     -1.5444526  -0.48396903   \n",
       "Month4     -1.3558624  -0.52860532   \n",
       "Month5     -1.4653948  -0.50072394   \n",
       "Month6     -1.9375842  -0.49794833   \n",
       "Month7     -2.2242635  -0.44315695   \n",
       "Month8     -2.1954739  -0.35996356   \n",
       "Month9     -1.9593856  -0.48639431   \n",
       "Month10    -1.3617886  -0.53984536   \n",
       "Month11    -1.4148255  -0.41872105   \n",
       "Month12    -1.6276288  -0.42840800   \n",
       "deltaIndex -0.3118531  -0.07417298   "
      ]
     },
     "metadata": {},
     "output_type": "display_data"
    }
   ],
   "source": [
    "coef(gammaVGAM,matrix = TRUE)"
   ]
  },
  {
   "cell_type": "markdown",
   "metadata": {},
   "source": [
    "### Save and export results"
   ]
  },
  {
   "cell_type": "code",
   "execution_count": 41,
   "metadata": {},
   "outputs": [],
   "source": [
    "dir.create('../results/visibleMarkov/', showWarnings = FALSE)\n",
    "\n",
    "write.table(coef(fitDry, matrix = T),'../results/visibleMarkov/transitionsParametersDry_glm_deltaIndex.csv', col.names=F)\n",
    "write.table(coef(fitWet, matrix = T),'../results/visibleMarkov/transitionsParametersWet_glm_deltaIndex.csv', col.names=F)\n",
    "write.table(coef(gammaFull, matrix = T),'../results/visibleMarkov/amountGamma_vglm_deltaIndex.csv', col.names=F)"
   ]
  },
  {
   "cell_type": "markdown",
   "metadata": {},
   "source": [
    "# Parameters not including ENSO effects\n",
    "Only Month effect."
   ]
  },
  {
   "cell_type": "code",
   "execution_count": 17,
   "metadata": {},
   "outputs": [
    {
     "data": {
      "text/plain": [
       "\n",
       "Call:\n",
       "glm(formula = nextState ~ -1 + Month, family = binomial, data = dryDays)\n",
       "\n",
       "Deviance Residuals: \n",
       "    Min       1Q   Median       3Q      Max  \n",
       "-1.3216  -1.0282  -0.7115   1.1651   1.7308  \n",
       "\n",
       "Coefficients:\n",
       "        Estimate Std. Error z value Pr(>|z|)    \n",
       "Month1  -1.24464    0.15589  -7.984 1.42e-15 ***\n",
       "Month2  -0.83886    0.16758  -5.006 5.56e-07 ***\n",
       "Month3  -0.36150    0.16542  -2.185   0.0289 *  \n",
       "Month4   0.33271    0.21256   1.565   0.1175    \n",
       "Month5   0.27625    0.19992   1.382   0.1670    \n",
       "Month6  -0.12921    0.17998  -0.718   0.4728    \n",
       "Month7   0.02899    0.17027   0.170   0.8648    \n",
       "Month8   0.14310    0.16946   0.844   0.3984    \n",
       "Month9  -0.40547    0.15656  -2.590   0.0096 ** \n",
       "Month10  0.25783    0.18644   1.383   0.1667    \n",
       "Month11  0.01681    0.18335   0.092   0.9270    \n",
       "Month12 -0.76787    0.15888  -4.833 1.34e-06 ***\n",
       "---\n",
       "Signif. codes:  0 ‘***’ 0.001 ‘**’ 0.01 ‘*’ 0.05 ‘.’ 0.1 ‘ ’ 1\n",
       "\n",
       "(Dispersion parameter for binomial family taken to be 1)\n",
       "\n",
       "    Null deviance: 2413.5  on 1741  degrees of freedom\n",
       "Residual deviance: 2265.2  on 1729  degrees of freedom\n",
       "AIC: 2289.2\n",
       "\n",
       "Number of Fisher Scoring iterations: 4\n"
      ]
     },
     "metadata": {},
     "output_type": "display_data"
    }
   ],
   "source": [
    "# Fit to dryDays (Transitions)\n",
    "fitDry = glm(nextState ~ - 1 + Month , data=dryDays ,family = binomial)\n",
    "summary(fitDry)"
   ]
  },
  {
   "cell_type": "code",
   "execution_count": 18,
   "metadata": {
    "scrolled": false
   },
   "outputs": [
    {
     "data": {
      "text/plain": [
       "\n",
       "Call:\n",
       "glm(formula = nextState ~ -1 + Month, family = binomial, data = wetDays)\n",
       "\n",
       "Deviance Residuals: \n",
       "    Min       1Q   Median       3Q      Max  \n",
       "-1.7689  -1.3308   0.8180   0.9114   1.1611  \n",
       "\n",
       "Coefficients:\n",
       "        Estimate Std. Error z value Pr(>|z|)    \n",
       "Month1   0.03847    0.19615   0.196  0.84453    \n",
       "Month2   0.59884    0.17604   3.402  0.00067 ***\n",
       "Month3   0.79766    0.15679   5.087 3.63e-07 ***\n",
       "Month4   1.32972    0.15903   8.361  < 2e-16 ***\n",
       "Month5   1.11542    0.15002   7.435 1.04e-13 ***\n",
       "Month6   0.88926    0.15335   5.799 6.67e-09 ***\n",
       "Month7   0.66373    0.14817   4.479 7.48e-06 ***\n",
       "Month8   0.47648    0.14509   3.284  0.00102 ** \n",
       "Month9   0.35364    0.16059   2.202  0.02766 *  \n",
       "Month10  0.87294    0.14656   5.956 2.58e-09 ***\n",
       "Month11  0.92294    0.15261   6.048 1.47e-09 ***\n",
       "Month12  0.34740    0.16203   2.144  0.03203 *  \n",
       "---\n",
       "Signif. codes:  0 ‘***’ 0.001 ‘**’ 0.01 ‘*’ 0.05 ‘.’ 0.1 ‘ ’ 1\n",
       "\n",
       "(Dispersion parameter for binomial family taken to be 1)\n",
       "\n",
       "    Null deviance: 3153.8  on 2275  degrees of freedom\n",
       "Residual deviance: 2805.0  on 2263  degrees of freedom\n",
       "AIC: 2829\n",
       "\n",
       "Number of Fisher Scoring iterations: 4\n"
      ]
     },
     "metadata": {},
     "output_type": "display_data"
    }
   ],
   "source": [
    "# Fit to wetDays (Transitions)\n",
    "fitWet = glm(nextState ~ -1 + Month, data=wetDays ,family = binomial)\n",
    "summary(fitWet)"
   ]
  },
  {
   "cell_type": "markdown",
   "metadata": {},
   "source": [
    "# Gamma Fit with vgam "
   ]
  },
  {
   "cell_type": "code",
   "execution_count": 19,
   "metadata": {
    "scrolled": false
   },
   "outputs": [
    {
     "name": "stdout",
     "output_type": "stream",
     "text": [
      "VGLM    linear loop  1 :  loglikelihood = -534.750628\n",
      "VGLM    linear loop  2 :  loglikelihood = 657.666777\n",
      "VGLM    linear loop  3 :  loglikelihood = 1420.35401\n",
      "VGLM    linear loop  4 :  loglikelihood = 1728.3241\n",
      "VGLM    linear loop  5 :  loglikelihood = 1791.16263\n",
      "VGLM    linear loop  6 :  loglikelihood = 1795.42672\n",
      "VGLM    linear loop  7 :  loglikelihood = 1795.45957\n",
      "VGLM    linear loop  8 :  loglikelihood = 1795.45957\n"
     ]
    }
   ],
   "source": [
    "#gammaJe = gamma2(lmu =\"identitylink\", lshape=\"identitylink\",zero=NULL)\n",
    "gammaJe = gamma2(lmu =\"loge\", lshape=\"loge\",zero=NULL)\n",
    "weibullJe = weibullR(lscale = \"loge\",lshape = \"loge\",zero=NULL)\n",
    "#weibullFull = vglm(Prep ~ Month + probNino +probNina , data=wetDays ,family = weibullJe ,trace='True')\n",
    "gammaFull = vglm(Prep_in ~ -1 +  Month , gammaJe, data=wetDays ,trace='True')"
   ]
  },
  {
   "cell_type": "code",
   "execution_count": 20,
   "metadata": {},
   "outputs": [
    {
     "data": {
      "text/plain": [
       "\n",
       "Call:\n",
       "vglm(formula = Prep_in ~ -1 + Month, family = gammaJe, data = wetDays, \n",
       "    trace = \"True\")\n",
       "\n",
       "Pearson residuals:\n",
       "                   Min      1Q  Median     3Q    Max\n",
       "loglink(mu)    -0.7949 -0.7056 -0.4454 0.2015 8.6212\n",
       "loglink(shape) -5.3591 -0.4252  0.2330 0.6217 0.7346\n",
       "\n",
       "Coefficients: \n",
       "          Estimate Std. Error z value Pr(>|z|)    \n",
       "Month1:1  -1.85352    0.12499 -14.830  < 2e-16 ***\n",
       "Month1:2  -0.48530    0.11673  -4.157 3.22e-05 ***\n",
       "Month2:1  -1.70608    0.10665 -15.996  < 2e-16 ***\n",
       "Month2:2  -0.47245    0.10038  -4.707 2.52e-06 ***\n",
       "Month3:1  -1.46651    0.09221 -15.904  < 2e-16 ***\n",
       "Month3:2  -0.47970    0.08641  -5.551 2.83e-08 ***\n",
       "Month4:1  -1.34768    0.08418 -16.010  < 2e-16 ***\n",
       "Month4:2  -0.52677    0.07670  -6.868 6.53e-12 ***\n",
       "Month5:1  -1.46356    0.08363 -17.500  < 2e-16 ***\n",
       "Month5:2  -0.51384    0.07680  -6.691 2.22e-11 ***\n",
       "Month6:1  -1.95462    0.09088 -21.508  < 2e-16 ***\n",
       "Month6:2  -0.53137    0.08258  -6.434 1.24e-10 ***\n",
       "Month7:1  -2.23840    0.09038 -24.766  < 2e-16 ***\n",
       "Month7:2  -0.50556    0.08339  -6.062 1.34e-09 ***\n",
       "Month8:1  -2.21585    0.08553 -25.906  < 2e-16 ***\n",
       "Month8:2  -0.38554    0.08476  -4.548 5.40e-06 ***\n",
       "Month9:1  -1.95486    0.10099 -19.357  < 2e-16 ***\n",
       "Month9:2  -0.48972    0.09407  -5.206 1.93e-07 ***\n",
       "Month10:1 -1.37608    0.08708 -15.802  < 2e-16 ***\n",
       "Month10:2 -0.52990    0.07921  -6.690 2.23e-11 ***\n",
       "Month11:1 -1.39865    0.08555 -16.348  < 2e-16 ***\n",
       "Month11:2 -0.43463    0.08235  -5.278 1.31e-07 ***\n",
       "Month12:1 -1.57464    0.09998 -15.750  < 2e-16 ***\n",
       "Month12:2 -0.45064    0.09532  -4.728 2.27e-06 ***\n",
       "---\n",
       "Signif. codes:  0 ‘***’ 0.001 ‘**’ 0.01 ‘*’ 0.05 ‘.’ 0.1 ‘ ’ 1\n",
       "\n",
       "Names of linear predictors: loglink(mu), loglink(shape)\n",
       "\n",
       "Log-likelihood: 1795.46 on 4526 degrees of freedom\n",
       "\n",
       "Number of Fisher scoring iterations: 8 \n",
       "\n",
       "No Hauck-Donner effect found in any of the estimates\n"
      ]
     },
     "metadata": {},
     "output_type": "display_data"
    }
   ],
   "source": [
    "summary(gammaFull)"
   ]
  },
  {
   "cell_type": "code",
   "execution_count": 21,
   "metadata": {
    "scrolled": false
   },
   "outputs": [
    {
     "data": {
      "text/html": [
       "<table>\n",
       "<caption>A matrix: 12 × 2 of type dbl</caption>\n",
       "<thead>\n",
       "\t<tr><th></th><th scope=col>loglink(mu)</th><th scope=col>loglink(shape)</th></tr>\n",
       "</thead>\n",
       "<tbody>\n",
       "\t<tr><th scope=row>Month1</th><td>-1.853516</td><td>-0.4853022</td></tr>\n",
       "\t<tr><th scope=row>Month2</th><td>-1.706075</td><td>-0.4724460</td></tr>\n",
       "\t<tr><th scope=row>Month3</th><td>-1.466510</td><td>-0.4797011</td></tr>\n",
       "\t<tr><th scope=row>Month4</th><td>-1.347680</td><td>-0.5267679</td></tr>\n",
       "\t<tr><th scope=row>Month5</th><td>-1.463563</td><td>-0.5138369</td></tr>\n",
       "\t<tr><th scope=row>Month6</th><td>-1.954625</td><td>-0.5313730</td></tr>\n",
       "\t<tr><th scope=row>Month7</th><td>-2.238401</td><td>-0.5055643</td></tr>\n",
       "\t<tr><th scope=row>Month8</th><td>-2.215848</td><td>-0.3855414</td></tr>\n",
       "\t<tr><th scope=row>Month9</th><td>-1.954858</td><td>-0.4897185</td></tr>\n",
       "\t<tr><th scope=row>Month10</th><td>-1.376082</td><td>-0.5298957</td></tr>\n",
       "\t<tr><th scope=row>Month11</th><td>-1.398648</td><td>-0.4346319</td></tr>\n",
       "\t<tr><th scope=row>Month12</th><td>-1.574642</td><td>-0.4506445</td></tr>\n",
       "</tbody>\n",
       "</table>\n"
      ],
      "text/latex": [
       "A matrix: 12 × 2 of type dbl\n",
       "\\begin{tabular}{r|ll}\n",
       "  & loglink(mu) & loglink(shape)\\\\\n",
       "\\hline\n",
       "\tMonth1 & -1.853516 & -0.4853022\\\\\n",
       "\tMonth2 & -1.706075 & -0.4724460\\\\\n",
       "\tMonth3 & -1.466510 & -0.4797011\\\\\n",
       "\tMonth4 & -1.347680 & -0.5267679\\\\\n",
       "\tMonth5 & -1.463563 & -0.5138369\\\\\n",
       "\tMonth6 & -1.954625 & -0.5313730\\\\\n",
       "\tMonth7 & -2.238401 & -0.5055643\\\\\n",
       "\tMonth8 & -2.215848 & -0.3855414\\\\\n",
       "\tMonth9 & -1.954858 & -0.4897185\\\\\n",
       "\tMonth10 & -1.376082 & -0.5298957\\\\\n",
       "\tMonth11 & -1.398648 & -0.4346319\\\\\n",
       "\tMonth12 & -1.574642 & -0.4506445\\\\\n",
       "\\end{tabular}\n"
      ],
      "text/markdown": [
       "\n",
       "A matrix: 12 × 2 of type dbl\n",
       "\n",
       "| <!--/--> | loglink(mu) | loglink(shape) |\n",
       "|---|---|---|\n",
       "| Month1 | -1.853516 | -0.4853022 |\n",
       "| Month2 | -1.706075 | -0.4724460 |\n",
       "| Month3 | -1.466510 | -0.4797011 |\n",
       "| Month4 | -1.347680 | -0.5267679 |\n",
       "| Month5 | -1.463563 | -0.5138369 |\n",
       "| Month6 | -1.954625 | -0.5313730 |\n",
       "| Month7 | -2.238401 | -0.5055643 |\n",
       "| Month8 | -2.215848 | -0.3855414 |\n",
       "| Month9 | -1.954858 | -0.4897185 |\n",
       "| Month10 | -1.376082 | -0.5298957 |\n",
       "| Month11 | -1.398648 | -0.4346319 |\n",
       "| Month12 | -1.574642 | -0.4506445 |\n",
       "\n"
      ],
      "text/plain": [
       "        loglink(mu) loglink(shape)\n",
       "Month1  -1.853516   -0.4853022    \n",
       "Month2  -1.706075   -0.4724460    \n",
       "Month3  -1.466510   -0.4797011    \n",
       "Month4  -1.347680   -0.5267679    \n",
       "Month5  -1.463563   -0.5138369    \n",
       "Month6  -1.954625   -0.5313730    \n",
       "Month7  -2.238401   -0.5055643    \n",
       "Month8  -2.215848   -0.3855414    \n",
       "Month9  -1.954858   -0.4897185    \n",
       "Month10 -1.376082   -0.5298957    \n",
       "Month11 -1.398648   -0.4346319    \n",
       "Month12 -1.574642   -0.4506445    "
      ]
     },
     "metadata": {},
     "output_type": "display_data"
    }
   ],
   "source": [
    "coef(gammaFull,matrix = TRUE)"
   ]
  },
  {
   "cell_type": "code",
   "execution_count": 22,
   "metadata": {
    "scrolled": false
   },
   "outputs": [
    {
     "name": "stdout",
     "output_type": "stream",
     "text": [
      "VGAM  vlm.wfit  loop  1 :  loglikelihood = -534.750628\n",
      "VGAM  vlm.wfit  loop  2 :  loglikelihood = 657.666777\n",
      "VGAM  vlm.wfit  loop  3 :  loglikelihood = 1420.35401\n",
      "VGAM  vlm.wfit  loop  4 :  loglikelihood = 1728.3241\n",
      "VGAM  vlm.wfit  loop  5 :  loglikelihood = 1791.16263\n",
      "VGAM  vlm.wfit  loop  6 :  loglikelihood = 1795.42672\n",
      "VGAM  vlm.wfit  loop  7 :  loglikelihood = 1795.45957\n",
      "VGAM  vlm.wfit  loop  8 :  loglikelihood = 1795.45957\n"
     ]
    }
   ],
   "source": [
    "#gammaJe = gamma2(lmu =\"identitylink\", lshape=\"identitylink\",zero=NULL)\n",
    "gammaJe = gamma2(lmu =\"loge\", lshape=\"loge\",zero=NULL)\n",
    "weibullJe = weibullR(lscale = \"loge\",lshape = \"loge\",zero=NULL)\n",
    "#weibullFull = vglm(Prep ~ Month + probNino +probNina , data=wetDays ,family = weibullJe ,trace='True')\n",
    "gammaVGAM = vgam(Prep_in ~ -1 +  Month, gammaJe, data=wetDays ,trace='True')"
   ]
  },
  {
   "cell_type": "code",
   "execution_count": 23,
   "metadata": {
    "scrolled": false
   },
   "outputs": [
    {
     "data": {
      "text/html": [
       "<table>\n",
       "<caption>A matrix: 12 × 2 of type dbl</caption>\n",
       "<thead>\n",
       "\t<tr><th></th><th scope=col>loglink(mu)</th><th scope=col>loglink(shape)</th></tr>\n",
       "</thead>\n",
       "<tbody>\n",
       "\t<tr><th scope=row>Month1</th><td>-1.853516</td><td>-0.4853022</td></tr>\n",
       "\t<tr><th scope=row>Month2</th><td>-1.706075</td><td>-0.4724460</td></tr>\n",
       "\t<tr><th scope=row>Month3</th><td>-1.466510</td><td>-0.4797011</td></tr>\n",
       "\t<tr><th scope=row>Month4</th><td>-1.347680</td><td>-0.5267679</td></tr>\n",
       "\t<tr><th scope=row>Month5</th><td>-1.463563</td><td>-0.5138369</td></tr>\n",
       "\t<tr><th scope=row>Month6</th><td>-1.954625</td><td>-0.5313730</td></tr>\n",
       "\t<tr><th scope=row>Month7</th><td>-2.238401</td><td>-0.5055643</td></tr>\n",
       "\t<tr><th scope=row>Month8</th><td>-2.215848</td><td>-0.3855414</td></tr>\n",
       "\t<tr><th scope=row>Month9</th><td>-1.954858</td><td>-0.4897185</td></tr>\n",
       "\t<tr><th scope=row>Month10</th><td>-1.376082</td><td>-0.5298957</td></tr>\n",
       "\t<tr><th scope=row>Month11</th><td>-1.398648</td><td>-0.4346319</td></tr>\n",
       "\t<tr><th scope=row>Month12</th><td>-1.574642</td><td>-0.4506445</td></tr>\n",
       "</tbody>\n",
       "</table>\n"
      ],
      "text/latex": [
       "A matrix: 12 × 2 of type dbl\n",
       "\\begin{tabular}{r|ll}\n",
       "  & loglink(mu) & loglink(shape)\\\\\n",
       "\\hline\n",
       "\tMonth1 & -1.853516 & -0.4853022\\\\\n",
       "\tMonth2 & -1.706075 & -0.4724460\\\\\n",
       "\tMonth3 & -1.466510 & -0.4797011\\\\\n",
       "\tMonth4 & -1.347680 & -0.5267679\\\\\n",
       "\tMonth5 & -1.463563 & -0.5138369\\\\\n",
       "\tMonth6 & -1.954625 & -0.5313730\\\\\n",
       "\tMonth7 & -2.238401 & -0.5055643\\\\\n",
       "\tMonth8 & -2.215848 & -0.3855414\\\\\n",
       "\tMonth9 & -1.954858 & -0.4897185\\\\\n",
       "\tMonth10 & -1.376082 & -0.5298957\\\\\n",
       "\tMonth11 & -1.398648 & -0.4346319\\\\\n",
       "\tMonth12 & -1.574642 & -0.4506445\\\\\n",
       "\\end{tabular}\n"
      ],
      "text/markdown": [
       "\n",
       "A matrix: 12 × 2 of type dbl\n",
       "\n",
       "| <!--/--> | loglink(mu) | loglink(shape) |\n",
       "|---|---|---|\n",
       "| Month1 | -1.853516 | -0.4853022 |\n",
       "| Month2 | -1.706075 | -0.4724460 |\n",
       "| Month3 | -1.466510 | -0.4797011 |\n",
       "| Month4 | -1.347680 | -0.5267679 |\n",
       "| Month5 | -1.463563 | -0.5138369 |\n",
       "| Month6 | -1.954625 | -0.5313730 |\n",
       "| Month7 | -2.238401 | -0.5055643 |\n",
       "| Month8 | -2.215848 | -0.3855414 |\n",
       "| Month9 | -1.954858 | -0.4897185 |\n",
       "| Month10 | -1.376082 | -0.5298957 |\n",
       "| Month11 | -1.398648 | -0.4346319 |\n",
       "| Month12 | -1.574642 | -0.4506445 |\n",
       "\n"
      ],
      "text/plain": [
       "        loglink(mu) loglink(shape)\n",
       "Month1  -1.853516   -0.4853022    \n",
       "Month2  -1.706075   -0.4724460    \n",
       "Month3  -1.466510   -0.4797011    \n",
       "Month4  -1.347680   -0.5267679    \n",
       "Month5  -1.463563   -0.5138369    \n",
       "Month6  -1.954625   -0.5313730    \n",
       "Month7  -2.238401   -0.5055643    \n",
       "Month8  -2.215848   -0.3855414    \n",
       "Month9  -1.954858   -0.4897185    \n",
       "Month10 -1.376082   -0.5298957    \n",
       "Month11 -1.398648   -0.4346319    \n",
       "Month12 -1.574642   -0.4506445    "
      ]
     },
     "metadata": {},
     "output_type": "display_data"
    }
   ],
   "source": [
    "coef(gammaVGAM,matrix = TRUE)"
   ]
  },
  {
   "cell_type": "markdown",
   "metadata": {},
   "source": [
    "# Save and export results"
   ]
  },
  {
   "cell_type": "code",
   "execution_count": 24,
   "metadata": {},
   "outputs": [],
   "source": [
    "dir.create('../results/visibleMarkov/', showWarnings = FALSE)\n",
    "\n",
    "write.table(coef(fitDry, matrix = T),'../results/visibleMarkov/transitionsParametersDry_glm_noenso.csv', col.names=F)\n",
    "write.table(coef(fitWet, matrix = T),'../results/visibleMarkov/transitionsParametersWet_glm_noenso.csv', col.names=F)\n",
    "write.table(coef(gammaFull, matrix = T),'../results/visibleMarkov/amountGamma_vglm_noenso.csv', col.names=F)"
   ]
  },
  {
   "cell_type": "code",
   "execution_count": null,
   "metadata": {},
   "outputs": [],
   "source": []
  }
 ],
 "metadata": {
  "kernelspec": {
   "display_name": "R",
   "language": "R",
   "name": "ir"
  },
  "language_info": {
   "codemirror_mode": "r",
   "file_extension": ".r",
   "mimetype": "text/x-r-source",
   "name": "R",
   "pygments_lexer": "r",
   "version": "3.4.4"
  }
 },
 "nbformat": 4,
 "nbformat_minor": 2
}
