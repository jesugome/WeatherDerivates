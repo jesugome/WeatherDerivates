{
 "cells": [
  {
   "cell_type": "markdown",
   "metadata": {},
   "source": [
    "<h1><font size=12>\n",
    "Weather Derivatites </h1>\n",
    "<h1> Rainfall Simulator <br></h1>\n",
    "\n",
    "Developed by [Jesus Solano](mailto:ja.solano588@uniandes.edu.co) <br>  \n",
    "16 September 2018 \n"
   ]
  },
  {
   "cell_type": "code",
   "execution_count": 79,
   "metadata": {},
   "outputs": [],
   "source": [
    "# Import needed libraries. \n",
    "import numpy as np\n",
    "import pandas as pd\n",
    "import random as rand\n",
    "import matplotlib.pyplot as plt\n",
    "from scipy.stats import bernoulli\n",
    "from scipy.stats import gamma\n",
    "import time"
   ]
  },
  {
   "cell_type": "markdown",
   "metadata": {},
   "source": [
    "## Simulation Function Core"
   ]
  },
  {
   "cell_type": "code",
   "execution_count": 89,
   "metadata": {},
   "outputs": [],
   "source": [
    "### Build the simulation core.\n",
    "\n",
    "# Updates the state of the day based on yesterday state. \n",
    "def updateState(yesterdayDate, yesterdayState, monthTransitions):\n",
    "    \n",
    "    yesterdayMonth = yesterdayDate.month\n",
    "    \n",
    "    successProbability = monthTransitions['p'+str(yesterdayState)+'1'][yesterdayMonth]\n",
    "    \n",
    "    todayState = bernoulli.rvs(successProbability)\n",
    "    \n",
    "    return todayState\n",
    "\n",
    "# Simulates one run of simulation. \n",
    "def oneRun(daysNumber, startDate, initialState, monthTransitions,fittedGamma):\n",
    "    \n",
    "    # Create a variable to store the last day state.\n",
    "    yesterdayState = initialState\n",
    "    \n",
    "    # Generate a timestamp with all days in simulation.\n",
    "    dates = pd.date_range(startDate, periods=daysNumber, freq='D')\n",
    "    \n",
    "    # Define the total rainfall amount over the simulation.\n",
    "    rainfall = 0\n",
    "    \n",
    "    # Loop over days in simulation to calculate rainfall ammount.\n",
    "    for day in dates:\n",
    "        \n",
    "        # Update today state based on the yesterday state. \n",
    "        todayState = updateState(day-1, yesterdayState, monthTransitions)\n",
    "        \n",
    "        # Computes total accumulated rainfall.\n",
    "        if todayState == 1:\n",
    "            \n",
    "            todayRainfall = gamma.rvs(fittedGamma['Shape'][0],fittedGamma['Loc'][0],fittedGamma['Scale'][0])\n",
    "            \n",
    "            # Updates rainfall amount. \n",
    "            rainfall += todayRainfall\n",
    "        \n",
    "        yesterdayState = todayState\n",
    "            \n",
    "        \n",
    "    return rainfall\n",
    "    "
   ]
  },
  {
   "cell_type": "code",
   "execution_count": 106,
   "metadata": {},
   "outputs": [
    {
     "data": {
      "text/plain": [
       "63.40137119404403"
      ]
     },
     "execution_count": 106,
     "metadata": {},
     "output_type": "execute_result"
    }
   ],
   "source": [
    "# Run only one iteration(Print structure of results)\n",
    "\n",
    "# Simulations iterations.\n",
    "iterations = 10000\n",
    "\n",
    "# Transitions probabilites.\n",
    "monthTransitionsProb = pd.read_csv('../results/visibleMarkov/monthTransitions.csv', index_col=0)\n",
    "\n",
    "# Rainfall amount parameters( Gamma parameters)\n",
    "fittedGamma = pd.read_csv('../results/visibleMarkov/fittedGamma.csv', index_col=0)\n",
    "\n",
    "# Number of simulation days(i.e 30, 60)\n",
    "daysNumber = 30\n",
    "\n",
    "# Simulation start date ('1995-04-22')\n",
    "startDate = '2018-08-18'\n",
    "\n",
    "# State of rainfall last day before start date --> Remember 0 means dry and 1 means wet.\n",
    "initialState = 0\n",
    "\n",
    "oneRun(daysNumber,startDate,initialState, monthTransitionsProb,fittedGamma)\n"
   ]
  },
  {
   "cell_type": "markdown",
   "metadata": {},
   "source": [
    "## Complete Simulation"
   ]
  },
  {
   "cell_type": "code",
   "execution_count": 120,
   "metadata": {},
   "outputs": [],
   "source": [
    "# Run total iterations.\n",
    "def totalRun(daysNumber,startDate,initialState, monthTransitionsProb,fittedGamma,iterations):\n",
    "    \n",
    "    # Array to store all precipitations.\n",
    "    rainfallPerIteration = [None]*iterations\n",
    "    \n",
    "    # Loop over each iteration(simulation)\n",
    "    \n",
    "    for i in range(iterations):\n",
    "        \n",
    "        iterationRainfall = oneRun(daysNumber,startDate,initialState, monthTransitionsProb,fittedGamma)\n",
    "        \n",
    "        rainfallPerIteration[i] = iterationRainfall\n",
    "    \n",
    "    return rainfallPerIteration"
   ]
  },
  {
   "cell_type": "code",
   "execution_count": 136,
   "metadata": {},
   "outputs": [],
   "source": [
    "#### Define parameters simulation.\n",
    "\n",
    "# Simulations iterations.\n",
    "iterations = 10000\n",
    "\n",
    "# Transitions probabilites.\n",
    "monthTransitionsProb = pd.read_csv('../results/visibleMarkov/monthTransitions.csv', index_col=0)\n",
    "\n",
    "# Rainfall amount parameters( Gamma parameters)\n",
    "fittedGamma = pd.read_csv('../results/visibleMarkov/fittedGamma.csv', index_col=0)\n",
    "\n",
    "# Number of simulation days(i.e 30, 60)\n",
    "daysNumber = 30\n",
    "\n",
    "# Simulation start date ('1995-04-22')\n",
    "startDate = '2018-08-18'\n",
    "\n",
    "# State of rainfall last day before start date --> Remember 0 means dry and 1 means wet.\n",
    "initialState = 0"
   ]
  },
  {
   "cell_type": "markdown",
   "metadata": {},
   "source": [
    "## Final Results"
   ]
  },
  {
   "cell_type": "code",
   "execution_count": 137,
   "metadata": {},
   "outputs": [],
   "source": [
    "# Final Analysis.\n",
    "\n",
    "finalSimulation = totalRun(daysNumber,startDate,initialState, monthTransitionsProb,fittedGamma,iterations)\n"
   ]
  },
  {
   "cell_type": "code",
   "execution_count": 138,
   "metadata": {},
   "outputs": [
    {
     "data": {
      "image/png": "[encoded data removed]",
      "text/plain": [
       "<Figure size 1440x720 with 1 Axes>"
      ]
     },
     "metadata": {},
     "output_type": "display_data"
    }
   ],
   "source": [
    "fig = plt.figure(figsize=(20, 10))\n",
    "\n",
    "plt.hist(finalSimulation,facecolor='steelblue',bins=100, density=True,\n",
    "         histtype='stepfilled', edgecolor = 'black' , hatch = '+')\n",
    "\n",
    "plt.title('Rainfall Simulation')\n",
    "plt.xlabel('Rainfall Amount [mm]')\n",
    "plt.ylabel('Probability ')\n",
    "plt.grid()\n",
    "plt.show()"
   ]
  },
  {
   "cell_type": "code",
   "execution_count": null,
   "metadata": {},
   "outputs": [],
   "source": []
  }
 ],
 "metadata": {
  "kernelspec": {
   "display_name": "Python 3",
   "language": "python",
   "name": "python3"
  },
  "language_info": {
   "codemirror_mode": {
    "name": "ipython",
    "version": 3
   },
   "file_extension": ".py",
   "mimetype": "text/x-python",
   "name": "python",
   "nbconvert_exporter": "python",
   "pygments_lexer": "ipython3",
   "version": "3.5.2"
  }
 },
 "nbformat": 4,
 "nbformat_minor": 2
}
