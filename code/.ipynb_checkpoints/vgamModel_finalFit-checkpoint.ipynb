{
 "cells": [
  {
   "cell_type": "markdown",
   "metadata": {},
   "source": [
    "<h1><font size=12>\n",
    "Weather Derivatites </h1>\n",
    "<h1> Vgam Model - Parameters Estimation <br></h1>\n",
    "\n",
    "Developed by [Jesus Solano](mailto:ja.solano588@uniandes.edu.co) <br>  \n",
    "5 October 2018 \n"
   ]
  },
  {
   "cell_type": "code",
   "execution_count": 1,
   "metadata": {},
   "outputs": [],
   "source": [
    "# Load fulldataset \n",
    "\n",
    "allData <- read.csv(file='../datasets/fullDataset/completeDailyDataset.csv', header=TRUE, sep=\",\", row.names = 'X' ) \n",
    "myData <- read.csv(file='../datasets/fullDataset/completeDailyDataset.csv', header=TRUE, sep=\",\") "
   ]
  },
  {
   "cell_type": "code",
   "execution_count": 2,
   "metadata": {},
   "outputs": [
    {
     "data": {
      "text/html": [
       "<table>\n",
       "<thead><tr><th scope=col>X</th><th scope=col>Prep</th><th scope=col>Month</th><th scope=col>nino34</th><th scope=col>probNeutral</th><th scope=col>probNino</th><th scope=col>probNina</th><th scope=col>state</th><th scope=col>nextState</th></tr></thead>\n",
       "<tbody>\n",
       "\t<tr><td>2005-01-01</td><td>0.0       </td><td>1         </td><td>0.6061863 </td><td>0.15      </td><td>0.85      </td><td>0         </td><td>0         </td><td>0         </td></tr>\n",
       "\t<tr><td>2005-01-02</td><td>0.0       </td><td>1         </td><td>0.5993582 </td><td>0.15      </td><td>0.85      </td><td>0         </td><td>0         </td><td>0         </td></tr>\n",
       "\t<tr><td>2005-01-03</td><td>0.0       </td><td>1         </td><td>0.6467837 </td><td>0.15      </td><td>0.85      </td><td>0         </td><td>0         </td><td>1         </td></tr>\n",
       "\t<tr><td>2005-01-04</td><td>1.6       </td><td>1         </td><td>0.6636958 </td><td>0.15      </td><td>0.85      </td><td>0         </td><td>1         </td><td>0         </td></tr>\n",
       "\t<tr><td>2005-01-05</td><td>0.0       </td><td>1         </td><td>0.7113302 </td><td>0.15      </td><td>0.85      </td><td>0         </td><td>0         </td><td>0         </td></tr>\n",
       "\t<tr><td>2005-01-06</td><td>0.0       </td><td>1         </td><td>0.6791847 </td><td>0.15      </td><td>0.85      </td><td>0         </td><td>0         </td><td>0         </td></tr>\n",
       "</tbody>\n",
       "</table>\n"
      ],
      "text/latex": [
       "\\begin{tabular}{r|lllllllll}\n",
       " X & Prep & Month & nino34 & probNeutral & probNino & probNina & state & nextState\\\\\n",
       "\\hline\n",
       "\t 2005-01-01 & 0.0        & 1          & 0.6061863  & 0.15       & 0.85       & 0          & 0          & 0         \\\\\n",
       "\t 2005-01-02 & 0.0        & 1          & 0.5993582  & 0.15       & 0.85       & 0          & 0          & 0         \\\\\n",
       "\t 2005-01-03 & 0.0        & 1          & 0.6467837  & 0.15       & 0.85       & 0          & 0          & 1         \\\\\n",
       "\t 2005-01-04 & 1.6        & 1          & 0.6636958  & 0.15       & 0.85       & 0          & 1          & 0         \\\\\n",
       "\t 2005-01-05 & 0.0        & 1          & 0.7113302  & 0.15       & 0.85       & 0          & 0          & 0         \\\\\n",
       "\t 2005-01-06 & 0.0        & 1          & 0.6791847  & 0.15       & 0.85       & 0          & 0          & 0         \\\\\n",
       "\\end{tabular}\n"
      ],
      "text/markdown": [
       "\n",
       "X | Prep | Month | nino34 | probNeutral | probNino | probNina | state | nextState | \n",
       "|---|---|---|---|---|---|\n",
       "| 2005-01-01 | 0.0        | 1          | 0.6061863  | 0.15       | 0.85       | 0          | 0          | 0          | \n",
       "| 2005-01-02 | 0.0        | 1          | 0.5993582  | 0.15       | 0.85       | 0          | 0          | 0          | \n",
       "| 2005-01-03 | 0.0        | 1          | 0.6467837  | 0.15       | 0.85       | 0          | 0          | 1          | \n",
       "| 2005-01-04 | 1.6        | 1          | 0.6636958  | 0.15       | 0.85       | 0          | 1          | 0          | \n",
       "| 2005-01-05 | 0.0        | 1          | 0.7113302  | 0.15       | 0.85       | 0          | 0          | 0          | \n",
       "| 2005-01-06 | 0.0        | 1          | 0.6791847  | 0.15       | 0.85       | 0          | 0          | 0          | \n",
       "\n",
       "\n"
      ],
      "text/plain": [
       "  X          Prep Month nino34    probNeutral probNino probNina state nextState\n",
       "1 2005-01-01 0.0  1     0.6061863 0.15        0.85     0        0     0        \n",
       "2 2005-01-02 0.0  1     0.5993582 0.15        0.85     0        0     0        \n",
       "3 2005-01-03 0.0  1     0.6467837 0.15        0.85     0        0     1        \n",
       "4 2005-01-04 1.6  1     0.6636958 0.15        0.85     0        1     0        \n",
       "5 2005-01-05 0.0  1     0.7113302 0.15        0.85     0        0     0        \n",
       "6 2005-01-06 0.0  1     0.6791847 0.15        0.85     0        0     0        "
      ]
     },
     "metadata": {},
     "output_type": "display_data"
    }
   ],
   "source": [
    "# Show a preview of dataset.\n",
    "head(myData)"
   ]
  },
  {
   "cell_type": "code",
   "execution_count": 3,
   "metadata": {},
   "outputs": [
    {
     "data": {
      "text/plain": [
       "      Prep            Month          nino34          probNeutral    \n",
       " Min.   : 0.000   1      : 341   Min.   :-2.02452   Min.   :0.0000  \n",
       " 1st Qu.: 0.000   3      : 341   1st Qu.:-0.57617   1st Qu.:0.1400  \n",
       " Median : 0.200   5      : 341   Median :-0.01589   Median :0.4400  \n",
       " Mean   : 2.781   7      : 341   Mean   : 0.04185   Mean   :0.4604  \n",
       " 3rd Qu.: 2.700   8      : 341   3rd Qu.: 0.55833   3rd Qu.:0.7500  \n",
       " Max.   :78.500   10     : 341   Max.   : 3.28767   Max.   :1.0000  \n",
       "                  (Other):1970                                      \n",
       "    probNino         probNina      state    nextState\n",
       " Min.   :0.0000   Min.   :0.0000   0:1741   0:1741   \n",
       " 1st Qu.:0.0100   1st Qu.:0.0000   1:2275   1:2275   \n",
       " Median :0.0500   Median :0.0500                     \n",
       " Mean   :0.2895   Mean   :0.2504                     \n",
       " 3rd Qu.:0.5900   3rd Qu.:0.5000                     \n",
       " Max.   :1.0000   Max.   :0.9900                     \n",
       "                                                     "
      ]
     },
     "metadata": {},
     "output_type": "display_data"
    }
   ],
   "source": [
    "# Split dataset into dry and wet days.\n",
    "\n",
    "allData$nextState=as.factor(allData$nextState)\n",
    "allData$state=as.factor(allData$state)\n",
    "allData$Month=as.factor(allData$Month)\n",
    "\n",
    "\n",
    "dryDays <- allData[allData$state == 0,]\n",
    "wetDays <- allData[allData$state == 1,]\n",
    "\n",
    "summary(allData)\n"
   ]
  },
  {
   "cell_type": "code",
   "execution_count": 4,
   "metadata": {},
   "outputs": [
    {
     "name": "stderr",
     "output_type": "stream",
     "text": [
      "Loading required package: stats4\n",
      "Loading required package: splines\n"
     ]
    }
   ],
   "source": [
    "# Apply vgam model for transitions. \n",
    "library(VGAM)\n",
    "\n",
    "# La siguiente es la ideal pero por correlaciones no fucniona.\n",
    "# vglm(nextState ~ Prep + Month +nino34 + probNeutral + probNino, data=dryDays ,family = binomialff())\n",
    "\n"
   ]
  },
  {
   "cell_type": "code",
   "execution_count": 5,
   "metadata": {},
   "outputs": [
    {
     "data": {
      "text/plain": [
       "\n",
       "Call:  glm(formula = nextState ~ Month + probNino + probNina, family = binomial, \n",
       "    data = dryDays)\n",
       "\n",
       "Coefficients:\n",
       "(Intercept)       Month2       Month3       Month4       Month5       Month6  \n",
       "    -1.1680       0.3467       0.8489       1.5632       1.5676       1.1326  \n",
       "     Month7       Month8       Month9      Month10      Month11      Month12  \n",
       "     1.3112       1.4329       0.9249       1.5877       1.3566       0.5185  \n",
       "   probNino     probNina  \n",
       "    -0.4535       0.1769  \n",
       "\n",
       "Degrees of Freedom: 1740 Total (i.e. Null);  1727 Residual\n",
       "Null Deviance:\t    2369 \n",
       "Residual Deviance: 2249 \tAIC: 2277"
      ]
     },
     "metadata": {},
     "output_type": "display_data"
    }
   ],
   "source": [
    "# Fit to dryDays (Transitions)\n",
    "fitDry = glm(nextState ~ Month  + probNino + probNina , data=dryDays ,family = binomial)\n",
    "fitDry"
   ]
  },
  {
   "cell_type": "code",
   "execution_count": 6,
   "metadata": {},
   "outputs": [
    {
     "data": {
      "text/plain": [
       "\n",
       "Call:\n",
       "glm(formula = nextState ~ Month + probNino + probNina, family = binomial, \n",
       "    data = dryDays)\n",
       "\n",
       "Deviance Residuals: \n",
       "    Min       1Q   Median       3Q      Max  \n",
       "-1.4380  -1.0648  -0.7571   1.1648   1.8921  \n",
       "\n",
       "Coefficients:\n",
       "            Estimate Std. Error z value Pr(>|z|)    \n",
       "(Intercept)  -1.1680     0.1891  -6.175 6.61e-10 ***\n",
       "Month2        0.3467     0.2302   1.506 0.131997    \n",
       "Month3        0.8489     0.2299   3.692 0.000223 ***\n",
       "Month4        1.5632     0.2685   5.821 5.85e-09 ***\n",
       "Month5        1.5676     0.2592   6.049 1.46e-09 ***\n",
       "Month6        1.1326     0.2437   4.648 3.36e-06 ***\n",
       "Month7        1.3112     0.2351   5.577 2.45e-08 ***\n",
       "Month8        1.4329     0.2334   6.139 8.33e-10 ***\n",
       "Month9        0.9249     0.2245   4.121 3.77e-05 ***\n",
       "Month10       1.5877     0.2465   6.440 1.19e-10 ***\n",
       "Month11       1.3566     0.2448   5.542 2.99e-08 ***\n",
       "Month12       0.5185     0.2244   2.310 0.020862 *  \n",
       "probNino     -0.4535     0.1686  -2.691 0.007133 ** \n",
       "probNina      0.1769     0.1943   0.911 0.362440    \n",
       "---\n",
       "Signif. codes:  0 ‘***’ 0.001 ‘**’ 0.01 ‘*’ 0.05 ‘.’ 0.1 ‘ ’ 1\n",
       "\n",
       "(Dispersion parameter for binomial family taken to be 1)\n",
       "\n",
       "    Null deviance: 2369.3  on 1740  degrees of freedom\n",
       "Residual deviance: 2249.3  on 1727  degrees of freedom\n",
       "AIC: 2277.3\n",
       "\n",
       "Number of Fisher Scoring iterations: 4\n"
      ]
     },
     "metadata": {},
     "output_type": "display_data"
    }
   ],
   "source": [
    "summary(fitDry)"
   ]
  },
  {
   "cell_type": "code",
   "execution_count": 7,
   "metadata": {
    "scrolled": true
   },
   "outputs": [
    {
     "data": {
      "text/plain": [
       "\n",
       "Call:  glm(formula = nextState ~ Month + Prep + probNino + probNina, \n",
       "    family = binomial, data = wetDays)\n",
       "\n",
       "Coefficients:\n",
       "(Intercept)       Month2       Month3       Month4       Month5       Month6  \n",
       "   -0.56317      0.58388      0.83200      1.46846      1.30417      1.10322  \n",
       "     Month7       Month8       Month9      Month10      Month11      Month12  \n",
       "    0.88102      0.67001      0.48877      0.89717      0.93912      0.31088  \n",
       "       Prep     probNino     probNina  \n",
       "    0.03326      0.30711      0.89078  \n",
       "\n",
       "Degrees of Freedom: 2274 Total (i.e. Null);  2260 Residual\n",
       "Null Deviance:\t    2858 \n",
       "Residual Deviance: 2754 \tAIC: 2784"
      ]
     },
     "metadata": {},
     "output_type": "display_data"
    }
   ],
   "source": [
    "# Fit to wetDays (Transitions)\n",
    "fitWet = glm(nextState ~ Month + Prep+probNino+probNina, data=wetDays ,family = binomial)\n",
    "fitWet"
   ]
  },
  {
   "cell_type": "code",
   "execution_count": 8,
   "metadata": {},
   "outputs": [
    {
     "data": {
      "text/plain": [
       "\n",
       "Call:\n",
       "glm(formula = nextState ~ Month + Prep + probNino + probNina, \n",
       "    family = binomial, data = wetDays)\n",
       "\n",
       "Deviance Residuals: \n",
       "    Min       1Q   Median       3Q      Max  \n",
       "-2.4640  -1.3169   0.7459   0.9045   1.4012  \n",
       "\n",
       "Coefficients:\n",
       "             Estimate Std. Error z value Pr(>|z|)    \n",
       "(Intercept) -0.563174   0.228420  -2.466 0.013681 *  \n",
       "Month2       0.583879   0.267843   2.180 0.029262 *  \n",
       "Month3       0.832002   0.256657   3.242 0.001188 ** \n",
       "Month4       1.468464   0.260971   5.627 1.83e-08 ***\n",
       "Month5       1.304174   0.256437   5.086 3.66e-07 ***\n",
       "Month6       1.103216   0.256153   4.307 1.66e-05 ***\n",
       "Month7       0.881016   0.252816   3.485 0.000492 ***\n",
       "Month8       0.670010   0.250244   2.677 0.007419 ** \n",
       "Month9       0.488770   0.259206   1.886 0.059343 .  \n",
       "Month10      0.897170   0.250806   3.577 0.000347 ***\n",
       "Month11      0.939116   0.254333   3.692 0.000222 ***\n",
       "Month12      0.310877   0.259380   1.199 0.230706    \n",
       "Prep         0.033265   0.007723   4.307 1.65e-05 ***\n",
       "probNino     0.307107   0.162959   1.885 0.059489 .  \n",
       "probNina     0.890775   0.177598   5.016 5.28e-07 ***\n",
       "---\n",
       "Signif. codes:  0 ‘***’ 0.001 ‘**’ 0.01 ‘*’ 0.05 ‘.’ 0.1 ‘ ’ 1\n",
       "\n",
       "(Dispersion parameter for binomial family taken to be 1)\n",
       "\n",
       "    Null deviance: 2858.3  on 2274  degrees of freedom\n",
       "Residual deviance: 2754.1  on 2260  degrees of freedom\n",
       "AIC: 2784.1\n",
       "\n",
       "Number of Fisher Scoring iterations: 4\n"
      ]
     },
     "metadata": {},
     "output_type": "display_data"
    }
   ],
   "source": [
    "summary(fitWet)"
   ]
  },
  {
   "cell_type": "markdown",
   "metadata": {},
   "source": [
    "## Review Input Data"
   ]
  },
  {
   "cell_type": "code",
   "execution_count": 9,
   "metadata": {},
   "outputs": [
    {
     "data": {
      "text/html": [
       "<table>\n",
       "<thead><tr><th></th><th scope=col>Prep</th><th scope=col>nino34</th><th scope=col>probNeutral</th><th scope=col>probNino</th><th scope=col>probNina</th></tr></thead>\n",
       "<tbody>\n",
       "\t<tr><th scope=row>Prep</th><td> 1.00000000</td><td>-0.08380009</td><td> 0.0451726 </td><td>-0.1153749 </td><td> 0.08082622</td></tr>\n",
       "\t<tr><th scope=row>nino34</th><td>-0.08380009</td><td> 1.00000000</td><td>-0.1895744 </td><td> 0.8411257 </td><td>-0.72492841</td></tr>\n",
       "\t<tr><th scope=row>probNeutral</th><td> 0.04517260</td><td>-0.18957436</td><td> 1.0000000 </td><td>-0.5310060 </td><td>-0.40018698</td></tr>\n",
       "\t<tr><th scope=row>probNino</th><td>-0.11537493</td><td> 0.84112566</td><td>-0.5310060 </td><td> 1.0000000 </td><td>-0.56405273</td></tr>\n",
       "\t<tr><th scope=row>probNina</th><td> 0.08082622</td><td>-0.72492841</td><td>-0.4001870 </td><td>-0.5640527 </td><td> 1.00000000</td></tr>\n",
       "</tbody>\n",
       "</table>\n"
      ],
      "text/latex": [
       "\\begin{tabular}{r|lllll}\n",
       "  & Prep & nino34 & probNeutral & probNino & probNina\\\\\n",
       "\\hline\n",
       "\tPrep &  1.00000000 & -0.08380009 &  0.0451726  & -0.1153749  &  0.08082622\\\\\n",
       "\tnino34 & -0.08380009 &  1.00000000 & -0.1895744  &  0.8411257  & -0.72492841\\\\\n",
       "\tprobNeutral &  0.04517260 & -0.18957436 &  1.0000000  & -0.5310060  & -0.40018698\\\\\n",
       "\tprobNino & -0.11537493 &  0.84112566 & -0.5310060  &  1.0000000  & -0.56405273\\\\\n",
       "\tprobNina &  0.08082622 & -0.72492841 & -0.4001870  & -0.5640527  &  1.00000000\\\\\n",
       "\\end{tabular}\n"
      ],
      "text/markdown": [
       "\n",
       "| <!--/--> | Prep | nino34 | probNeutral | probNino | probNina | \n",
       "|---|---|---|---|---|\n",
       "| Prep |  1.00000000 | -0.08380009 |  0.0451726  | -0.1153749  |  0.08082622 | \n",
       "| nino34 | -0.08380009 |  1.00000000 | -0.1895744  |  0.8411257  | -0.72492841 | \n",
       "| probNeutral |  0.04517260 | -0.18957436 |  1.0000000  | -0.5310060  | -0.40018698 | \n",
       "| probNino | -0.11537493 |  0.84112566 | -0.5310060  |  1.0000000  | -0.56405273 | \n",
       "| probNina |  0.08082622 | -0.72492841 | -0.4001870  | -0.5640527  |  1.00000000 | \n",
       "\n",
       "\n"
      ],
      "text/plain": [
       "            Prep        nino34      probNeutral probNino   probNina   \n",
       "Prep         1.00000000 -0.08380009  0.0451726  -0.1153749  0.08082622\n",
       "nino34      -0.08380009  1.00000000 -0.1895744   0.8411257 -0.72492841\n",
       "probNeutral  0.04517260 -0.18957436  1.0000000  -0.5310060 -0.40018698\n",
       "probNino    -0.11537493  0.84112566 -0.5310060   1.0000000 -0.56405273\n",
       "probNina     0.08082622 -0.72492841 -0.4001870  -0.5640527  1.00000000"
      ]
     },
     "metadata": {},
     "output_type": "display_data"
    }
   ],
   "source": [
    "cor(allData[,c(1,3,4,5,6)], method = c(\"pearson\", \"kendall\", \"spearman\"))"
   ]
  },
  {
   "cell_type": "code",
   "execution_count": 10,
   "metadata": {},
   "outputs": [
    {
     "data": {
      "text/html": [
       "<table>\n",
       "<thead><tr><th></th><th scope=col>nino34</th><th scope=col>probNeutral</th><th scope=col>probNino</th><th scope=col>probNina</th></tr></thead>\n",
       "<tbody>\n",
       "\t<tr><th scope=row>nino34</th><td> 1.0000000</td><td>-0.2541178</td><td> 0.8378201</td><td>-0.7038257</td></tr>\n",
       "\t<tr><th scope=row>probNeutral</th><td>-0.2541178</td><td> 1.0000000</td><td>-0.5793464</td><td>-0.3515599</td></tr>\n",
       "\t<tr><th scope=row>probNino</th><td> 0.8378201</td><td>-0.5793464</td><td> 1.0000000</td><td>-0.5593739</td></tr>\n",
       "\t<tr><th scope=row>probNina</th><td>-0.7038257</td><td>-0.3515599</td><td>-0.5593739</td><td> 1.0000000</td></tr>\n",
       "</tbody>\n",
       "</table>\n"
      ],
      "text/latex": [
       "\\begin{tabular}{r|llll}\n",
       "  & nino34 & probNeutral & probNino & probNina\\\\\n",
       "\\hline\n",
       "\tnino34 &  1.0000000 & -0.2541178 &  0.8378201 & -0.7038257\\\\\n",
       "\tprobNeutral & -0.2541178 &  1.0000000 & -0.5793464 & -0.3515599\\\\\n",
       "\tprobNino &  0.8378201 & -0.5793464 &  1.0000000 & -0.5593739\\\\\n",
       "\tprobNina & -0.7038257 & -0.3515599 & -0.5593739 &  1.0000000\\\\\n",
       "\\end{tabular}\n"
      ],
      "text/markdown": [
       "\n",
       "| <!--/--> | nino34 | probNeutral | probNino | probNina | \n",
       "|---|---|---|---|\n",
       "| nino34 |  1.0000000 | -0.2541178 |  0.8378201 | -0.7038257 | \n",
       "| probNeutral | -0.2541178 |  1.0000000 | -0.5793464 | -0.3515599 | \n",
       "| probNino |  0.8378201 | -0.5793464 |  1.0000000 | -0.5593739 | \n",
       "| probNina | -0.7038257 | -0.3515599 | -0.5593739 |  1.0000000 | \n",
       "\n",
       "\n"
      ],
      "text/plain": [
       "            nino34     probNeutral probNino   probNina  \n",
       "nino34       1.0000000 -0.2541178   0.8378201 -0.7038257\n",
       "probNeutral -0.2541178  1.0000000  -0.5793464 -0.3515599\n",
       "probNino     0.8378201 -0.5793464   1.0000000 -0.5593739\n",
       "probNina    -0.7038257 -0.3515599  -0.5593739  1.0000000"
      ]
     },
     "metadata": {},
     "output_type": "display_data"
    }
   ],
   "source": [
    "cor(dryDays[,c(3,4,5,6)], method = c(\"pearson\", \"kendall\", \"spearman\"))"
   ]
  },
  {
   "cell_type": "code",
   "execution_count": 11,
   "metadata": {},
   "outputs": [
    {
     "data": {
      "text/html": [
       "<table>\n",
       "<thead><tr><th></th><th scope=col>nino34</th><th scope=col>probNeutral</th><th scope=col>probNino</th><th scope=col>probNina</th></tr></thead>\n",
       "<tbody>\n",
       "\t<tr><th scope=row>nino34</th><td> 1.0000000</td><td>-0.1300576</td><td> 0.8437394</td><td>-0.7442706</td></tr>\n",
       "\t<tr><th scope=row>probNeutral</th><td>-0.1300576</td><td> 1.0000000</td><td>-0.4892475</td><td>-0.4430306</td></tr>\n",
       "\t<tr><th scope=row>probNino</th><td> 0.8437394</td><td>-0.4892475</td><td> 1.0000000</td><td>-0.5651301</td></tr>\n",
       "\t<tr><th scope=row>probNina</th><td>-0.7442706</td><td>-0.4430306</td><td>-0.5651301</td><td> 1.0000000</td></tr>\n",
       "</tbody>\n",
       "</table>\n"
      ],
      "text/latex": [
       "\\begin{tabular}{r|llll}\n",
       "  & nino34 & probNeutral & probNino & probNina\\\\\n",
       "\\hline\n",
       "\tnino34 &  1.0000000 & -0.1300576 &  0.8437394 & -0.7442706\\\\\n",
       "\tprobNeutral & -0.1300576 &  1.0000000 & -0.4892475 & -0.4430306\\\\\n",
       "\tprobNino &  0.8437394 & -0.4892475 &  1.0000000 & -0.5651301\\\\\n",
       "\tprobNina & -0.7442706 & -0.4430306 & -0.5651301 &  1.0000000\\\\\n",
       "\\end{tabular}\n"
      ],
      "text/markdown": [
       "\n",
       "| <!--/--> | nino34 | probNeutral | probNino | probNina | \n",
       "|---|---|---|---|\n",
       "| nino34 |  1.0000000 | -0.1300576 |  0.8437394 | -0.7442706 | \n",
       "| probNeutral | -0.1300576 |  1.0000000 | -0.4892475 | -0.4430306 | \n",
       "| probNino |  0.8437394 | -0.4892475 |  1.0000000 | -0.5651301 | \n",
       "| probNina | -0.7442706 | -0.4430306 | -0.5651301 |  1.0000000 | \n",
       "\n",
       "\n"
      ],
      "text/plain": [
       "            nino34     probNeutral probNino   probNina  \n",
       "nino34       1.0000000 -0.1300576   0.8437394 -0.7442706\n",
       "probNeutral -0.1300576  1.0000000  -0.4892475 -0.4430306\n",
       "probNino     0.8437394 -0.4892475   1.0000000 -0.5651301\n",
       "probNina    -0.7442706 -0.4430306  -0.5651301  1.0000000"
      ]
     },
     "metadata": {},
     "output_type": "display_data"
    }
   ],
   "source": [
    "cor(wetDays[,3:6], method = c(\"pearson\", \"kendall\", \"spearman\"))"
   ]
  },
  {
   "cell_type": "code",
   "execution_count": 12,
   "metadata": {},
   "outputs": [
    {
     "data": {
      "text/plain": [
       "      Prep            Month          nino34          probNeutral    \n",
       " Min.   : 0.000   1      : 341   Min.   :-2.02452   Min.   :0.0000  \n",
       " 1st Qu.: 0.000   3      : 341   1st Qu.:-0.57617   1st Qu.:0.1400  \n",
       " Median : 0.200   5      : 341   Median :-0.01589   Median :0.4400  \n",
       " Mean   : 2.781   7      : 341   Mean   : 0.04185   Mean   :0.4604  \n",
       " 3rd Qu.: 2.700   8      : 341   3rd Qu.: 0.55833   3rd Qu.:0.7500  \n",
       " Max.   :78.500   10     : 341   Max.   : 3.28767   Max.   :1.0000  \n",
       "                  (Other):1970                                      \n",
       "    probNino         probNina      state    nextState\n",
       " Min.   :0.0000   Min.   :0.0000   0:1741   0:1741   \n",
       " 1st Qu.:0.0100   1st Qu.:0.0000   1:2275   1:2275   \n",
       " Median :0.0500   Median :0.0500                     \n",
       " Mean   :0.2895   Mean   :0.2504                     \n",
       " 3rd Qu.:0.5900   3rd Qu.:0.5000                     \n",
       " Max.   :1.0000   Max.   :0.9900                     \n",
       "                                                     "
      ]
     },
     "metadata": {},
     "output_type": "display_data"
    }
   ],
   "source": [
    "summary(allData)"
   ]
  },
  {
   "cell_type": "markdown",
   "metadata": {},
   "source": [
    "# Gamma Fit with vgam "
   ]
  },
  {
   "cell_type": "code",
   "execution_count": 28,
   "metadata": {
    "scrolled": false
   },
   "outputs": [
    {
     "name": "stdout",
     "output_type": "stream",
     "text": [
      "VGLM    linear loop  1 :  loglikelihood = -7884.7377\n",
      "VGLM    linear loop  2 :  loglikelihood = -6710.86007\n",
      "VGLM    linear loop  3 :  loglikelihood = -5955.54033\n",
      "VGLM    linear loop  4 :  loglikelihood = -5628.08127\n",
      "VGLM    linear loop  5 :  loglikelihood = -5542.73694\n",
      "VGLM    linear loop  6 :  loglikelihood = -5532.82003\n",
      "VGLM    linear loop  7 :  loglikelihood = -5532.44014\n",
      "VGLM    linear loop  8 :  loglikelihood = -5532.4235\n",
      "VGLM    linear loop  9 :  loglikelihood = -5532.42246\n",
      "VGLM    linear loop  10 :  loglikelihood = -5532.4224\n",
      "VGLM    linear loop  11 :  loglikelihood = -5532.42239\n"
     ]
    }
   ],
   "source": [
    "gammaJe = gamma2(lmu =\"identitylink\", lshape=\"identitylink\",zero=NULL)\n",
    "gammaJe = gamma2(lmu =\"loge\", lshape=\"loge\",zero=NULL)\n",
    "weibullJe = weibullR(lscale = \"loge\",lshape = \"loge\",zero=NULL)\n",
    "#weibullFull = vglm(Prep ~ Month + probNino +probNina , data=wetDays ,family = weibullJe ,trace='True')\n",
    "gammaFull = vglm(Prep ~ Month + probNino +probNina , gammaJe, data=wetDays ,trace='True')"
   ]
  },
  {
   "cell_type": "code",
   "execution_count": 26,
   "metadata": {},
   "outputs": [
    {
     "data": {
      "text/html": [
       "<table>\n",
       "<thead><tr><th></th><th scope=col>loge(mu)</th><th scope=col>loge(shape)</th></tr></thead>\n",
       "<tbody>\n",
       "\t<tr><th scope=row>(Intercept)</th><td> 1.47854290  </td><td>-0.4943750095</td></tr>\n",
       "\t<tr><th scope=row>Month2</th><td> 0.14299884  </td><td>-0.0116470425</td></tr>\n",
       "\t<tr><th scope=row>Month3</th><td> 0.37476106  </td><td>-0.0271771839</td></tr>\n",
       "\t<tr><th scope=row>Month4</th><td> 0.53219709  </td><td>-0.0667884481</td></tr>\n",
       "\t<tr><th scope=row>Month5</th><td> 0.39794641  </td><td>-0.0279089092</td></tr>\n",
       "\t<tr><th scope=row>Month6</th><td>-0.05789354  </td><td>-0.0200945752</td></tr>\n",
       "\t<tr><th scope=row>Month7</th><td>-0.27644811  </td><td>-0.0002555929</td></tr>\n",
       "\t<tr><th scope=row>Month8</th><td>-0.27970721  </td><td> 0.1105021645</td></tr>\n",
       "\t<tr><th scope=row>Month9</th><td>-0.03538390  </td><td>-0.0259529510</td></tr>\n",
       "\t<tr><th scope=row>Month10</th><td> 0.61444847  </td><td>-0.1034837813</td></tr>\n",
       "\t<tr><th scope=row>Month11</th><td> 0.56657918  </td><td> 0.0156542215</td></tr>\n",
       "\t<tr><th scope=row>Month12</th><td> 0.34600062  </td><td> 0.0234579703</td></tr>\n",
       "\t<tr><th scope=row>probNino</th><td>-0.64189089  </td><td> 0.0032648532</td></tr>\n",
       "\t<tr><th scope=row>probNina</th><td>-0.01885515  </td><td> 0.1522845511</td></tr>\n",
       "</tbody>\n",
       "</table>\n"
      ],
      "text/latex": [
       "\\begin{tabular}{r|ll}\n",
       "  & loge(mu) & loge(shape)\\\\\n",
       "\\hline\n",
       "\t(Intercept) &  1.47854290   & -0.4943750095\\\\\n",
       "\tMonth2 &  0.14299884   & -0.0116470425\\\\\n",
       "\tMonth3 &  0.37476106   & -0.0271771839\\\\\n",
       "\tMonth4 &  0.53219709   & -0.0667884481\\\\\n",
       "\tMonth5 &  0.39794641   & -0.0279089092\\\\\n",
       "\tMonth6 & -0.05789354   & -0.0200945752\\\\\n",
       "\tMonth7 & -0.27644811   & -0.0002555929\\\\\n",
       "\tMonth8 & -0.27970721   &  0.1105021645\\\\\n",
       "\tMonth9 & -0.03538390   & -0.0259529510\\\\\n",
       "\tMonth10 &  0.61444847   & -0.1034837813\\\\\n",
       "\tMonth11 &  0.56657918   &  0.0156542215\\\\\n",
       "\tMonth12 &  0.34600062   &  0.0234579703\\\\\n",
       "\tprobNino & -0.64189089   &  0.0032648532\\\\\n",
       "\tprobNina & -0.01885515   &  0.1522845511\\\\\n",
       "\\end{tabular}\n"
      ],
      "text/markdown": [
       "\n",
       "| <!--/--> | loge(mu) | loge(shape) | \n",
       "|---|---|---|---|---|---|---|---|---|---|---|---|---|---|\n",
       "| (Intercept) |  1.47854290   | -0.4943750095 | \n",
       "| Month2 |  0.14299884   | -0.0116470425 | \n",
       "| Month3 |  0.37476106   | -0.0271771839 | \n",
       "| Month4 |  0.53219709   | -0.0667884481 | \n",
       "| Month5 |  0.39794641   | -0.0279089092 | \n",
       "| Month6 | -0.05789354   | -0.0200945752 | \n",
       "| Month7 | -0.27644811   | -0.0002555929 | \n",
       "| Month8 | -0.27970721   |  0.1105021645 | \n",
       "| Month9 | -0.03538390   | -0.0259529510 | \n",
       "| Month10 |  0.61444847   | -0.1034837813 | \n",
       "| Month11 |  0.56657918   |  0.0156542215 | \n",
       "| Month12 |  0.34600062   |  0.0234579703 | \n",
       "| probNino | -0.64189089   |  0.0032648532 | \n",
       "| probNina | -0.01885515   |  0.1522845511 | \n",
       "\n",
       "\n"
      ],
      "text/plain": [
       "            loge(mu)    loge(shape)  \n",
       "(Intercept)  1.47854290 -0.4943750095\n",
       "Month2       0.14299884 -0.0116470425\n",
       "Month3       0.37476106 -0.0271771839\n",
       "Month4       0.53219709 -0.0667884481\n",
       "Month5       0.39794641 -0.0279089092\n",
       "Month6      -0.05789354 -0.0200945752\n",
       "Month7      -0.27644811 -0.0002555929\n",
       "Month8      -0.27970721  0.1105021645\n",
       "Month9      -0.03538390 -0.0259529510\n",
       "Month10      0.61444847 -0.1034837813\n",
       "Month11      0.56657918  0.0156542215\n",
       "Month12      0.34600062  0.0234579703\n",
       "probNino    -0.64189089  0.0032648532\n",
       "probNina    -0.01885515  0.1522845511"
      ]
     },
     "metadata": {},
     "output_type": "display_data"
    }
   ],
   "source": [
    "coef(gammaFull,matrix = TRUE)"
   ]
  },
  {
   "cell_type": "code",
   "execution_count": 15,
   "metadata": {},
   "outputs": [
    {
     "data": {
      "text/plain": [
       "\n",
       "Call:\n",
       "vglm(formula = Prep ~ Month + probNino + probNina, family = gammaJe, \n",
       "    data = wetDays, trace = \"True\")\n",
       "\n",
       "\n",
       "Pearson residuals:\n",
       "                Min      1Q  Median     3Q     Max\n",
       "loge(mu)    -0.8376 -0.7021 -0.4343 0.2091 11.2924\n",
       "loge(shape) -7.3457 -0.4567  0.2285 0.6230  0.7373\n",
       "\n",
       "Coefficients: \n",
       "                Estimate Std. Error z value Pr(>|z|)    \n",
       "(Intercept):1  1.4785429  0.1364335  10.837  < 2e-16 ***\n",
       "(Intercept):2 -0.4943750  0.1310162  -3.773 0.000161 ***\n",
       "Month2:1       0.1429988  0.1603356   0.892 0.372462    \n",
       "Month2:2      -0.0116470  0.1547701  -0.075 0.940013    \n",
       "Month3:1       0.3747611  0.1529024   2.451 0.014247 *  \n",
       "Month3:2      -0.0271772  0.1466889  -0.185 0.853017    \n",
       "Month4:1       0.5321971  0.1504329   3.538 0.000404 ***\n",
       "Month4:2      -0.0667884  0.1427106  -0.468 0.639785    \n",
       "Month5:1       0.3979464  0.1504451   2.645 0.008166 ** \n",
       "Month5:2      -0.0279089  0.1434999  -0.194 0.845794    \n",
       "Month6:1      -0.0578935  0.1525913  -0.379 0.704389    \n",
       "Month6:2      -0.0200946  0.1456945  -0.138 0.890301    \n",
       "Month7:1      -0.2764481  0.1519120  -1.820 0.068791 .  \n",
       "Month7:2      -0.0002556  0.1457362  -0.002 0.998601    \n",
       "Month8:1      -0.2797072  0.1489426  -1.878 0.060388 .  \n",
       "Month8:2       0.1105022  0.1462227   0.756 0.449822    \n",
       "Month9:1      -0.0353839  0.1582541  -0.224 0.823077    \n",
       "Month9:2      -0.0259530  0.1513173  -0.172 0.863820    \n",
       "Month10:1      0.6144485  0.1502038   4.091 4.30e-05 ***\n",
       "Month10:2     -0.1034838  0.1419988  -0.729 0.466145    \n",
       "Month11:1      0.5665792  0.1484728   3.816 0.000136 ***\n",
       "Month11:2      0.0156542  0.1437539   0.109 0.913285    \n",
       "Month12:1      0.3460006  0.1558314   2.220 0.026395 *  \n",
       "Month12:2      0.0234580  0.1515270   0.155 0.876971    \n",
       "probNino:1    -0.6418909  0.0977764  -6.565 5.21e-11 ***\n",
       "probNino:2     0.0032649  0.0910800   0.036 0.971405    \n",
       "probNina:1    -0.0188551  0.0995295  -0.189 0.849746    \n",
       "probNina:2     0.1522846  0.0958036   1.590 0.111936    \n",
       "---\n",
       "Signif. codes:  0 ‘***’ 0.001 ‘**’ 0.01 ‘*’ 0.05 ‘.’ 0.1 ‘ ’ 1\n",
       "\n",
       "Number of linear predictors:  2 \n",
       "\n",
       "Names of linear predictors: loge(mu), loge(shape)\n",
       "\n",
       "Log-likelihood: -5532.422 on 4522 degrees of freedom\n",
       "\n",
       "Number of iterations: 11 \n",
       "\n",
       "No Hauck-Donner effect found in any of the estimates"
      ]
     },
     "metadata": {},
     "output_type": "display_data"
    }
   ],
   "source": [
    "summary(gammaFull)"
   ]
  },
  {
   "cell_type": "code",
   "execution_count": 16,
   "metadata": {},
   "outputs": [
    {
     "name": "stdout",
     "output_type": "stream",
     "text": [
      "VGAM  vlm.wfit  loop  1 :  coefficients =  3.0928700, -2.5787726\n",
      "VGAM  vlm.wfit  loop  2 :  coefficients =  2.3156214, -1.8234200\n",
      "VGAM  vlm.wfit  loop  3 :  coefficients =  1.8002122, -1.1856438\n",
      "VGAM  vlm.wfit  loop  4 :  coefficients =  1.61157399, -0.73528729\n",
      "VGAM  vlm.wfit  loop  5 :  coefficients =  1.59137772, -0.55205754\n",
      "VGAM  vlm.wfit  loop  6 :  coefficients =  1.5911710, -0.5288453\n",
      "VGAM  vlm.wfit  loop  7 :  coefficients =  1.59117098, -0.52851914\n",
      "VGAM  vlm.wfit  loop  8 :  coefficients =  1.59117098, -0.52851907\n",
      "VGAM  vlm.wfit  loop  9 :  coefficients =  1.59117098, -0.52851907\n"
     ]
    }
   ],
   "source": [
    "gammaN = vgam(Prep ~  1, data=wetDays ,family = gamma2 ,trace='True',  crit = \"coef\")"
   ]
  },
  {
   "cell_type": "code",
   "execution_count": 17,
   "metadata": {},
   "outputs": [
    {
     "data": {
      "text/html": [
       "<table>\n",
       "<thead><tr><th></th><th scope=col>loge(mu)</th><th scope=col>loge(shape)</th></tr></thead>\n",
       "<tbody>\n",
       "\t<tr><th scope=row>(Intercept)</th><td>1.591171  </td><td>-0.5285191</td></tr>\n",
       "</tbody>\n",
       "</table>\n"
      ],
      "text/latex": [
       "\\begin{tabular}{r|ll}\n",
       "  & loge(mu) & loge(shape)\\\\\n",
       "\\hline\n",
       "\t(Intercept) & 1.591171   & -0.5285191\\\\\n",
       "\\end{tabular}\n"
      ],
      "text/markdown": [
       "\n",
       "| <!--/--> | loge(mu) | loge(shape) | \n",
       "|---|\n",
       "| (Intercept) | 1.591171   | -0.5285191 | \n",
       "\n",
       "\n"
      ],
      "text/plain": [
       "            loge(mu) loge(shape)\n",
       "(Intercept) 1.591171 -0.5285191 "
      ]
     },
     "metadata": {},
     "output_type": "display_data"
    }
   ],
   "source": [
    "coef(gammaN,matrix = TRUE)"
   ]
  },
  {
   "cell_type": "markdown",
   "metadata": {},
   "source": [
    "# Save and export results"
   ]
  },
  {
   "cell_type": "code",
   "execution_count": 24,
   "metadata": {},
   "outputs": [],
   "source": [
    "write.table(coef(fitDry, matrix = T),'../results/visibleMarkov/transitionsParametersDry.csv', col.names=F)\n",
    "write.table(coef(fitWet, matrix = T),'../results/visibleMarkov/transitionsParametersWet.csv', col.names=F)\n",
    "write.table(coef(gammaFull, matrix = T),'../results/visibleMarkov/amountGammaPro.csv', col.names=F)"
   ]
  },
  {
   "cell_type": "code",
   "execution_count": 9,
   "metadata": {},
   "outputs": [],
   "source": [
    "c<-rgamma(10000,shape=5,scale=3)"
   ]
  },
  {
   "cell_type": "code",
   "execution_count": 10,
   "metadata": {},
   "outputs": [
    {
     "data": {
      "text/html": [
       "14.9581726345004"
      ],
      "text/latex": [
       "14.9581726345004"
      ],
      "text/markdown": [
       "14.9581726345004"
      ],
      "text/plain": [
       "[1] 14.95817"
      ]
     },
     "metadata": {},
     "output_type": "display_data"
    }
   ],
   "source": [
    "mean(c)"
   ]
  },
  {
   "cell_type": "code",
   "execution_count": 11,
   "metadata": {},
   "outputs": [
    {
     "data": {
      "text/html": [
       "44.0274461649066"
      ],
      "text/latex": [
       "44.0274461649066"
      ],
      "text/markdown": [
       "44.0274461649066"
      ],
      "text/plain": [
       "[1] 44.02745"
      ]
     },
     "metadata": {},
     "output_type": "display_data"
    }
   ],
   "source": [
    "var(c)"
   ]
  },
  {
   "cell_type": "code",
   "execution_count": 50,
   "metadata": {},
   "outputs": [
    {
     "data": {
      "text/plain": [
       "      Prep       \n",
       " Min.   : 0.100  \n",
       " 1st Qu.: 0.400  \n",
       " Median : 2.000  \n",
       " Mean   : 4.909  \n",
       " 3rd Qu.: 6.050  \n",
       " Max.   :78.500  "
      ]
     },
     "metadata": {},
     "output_type": "display_data"
    }
   ],
   "source": [
    "summary(wetDays['Prep'])"
   ]
  },
  {
   "cell_type": "code",
   "execution_count": 52,
   "metadata": {},
   "outputs": [],
   "source": [
    "wetDays['logPrep']=log(wetDays['Prep']) wetDays['logPrep']"
   ]
  },
  {
   "cell_type": "code",
   "execution_count": 55,
   "metadata": {},
   "outputs": [
    {
     "data": {
      "image/png": "[encoded data removed]",
      "text/plain": [
       "Plot with title “density.default(x = wetDays$logPrep)”"
      ]
     },
     "metadata": {},
     "output_type": "display_data"
    }
   ],
   "source": [
    "plot(density(wetDays$logPrep))"
   ]
  },
  {
   "cell_type": "code",
   "execution_count": null,
   "metadata": {},
   "outputs": [],
   "source": []
  }
 ],
 "metadata": {
  "kernelspec": {
   "display_name": "R",
   "language": "R",
   "name": "ir"
  },
  "language_info": {
   "codemirror_mode": "r",
   "file_extension": ".r",
   "mimetype": "text/x-r-source",
   "name": "R",
   "pygments_lexer": "r",
   "version": "3.4.4"
  }
 },
 "nbformat": 4,
 "nbformat_minor": 2
}
