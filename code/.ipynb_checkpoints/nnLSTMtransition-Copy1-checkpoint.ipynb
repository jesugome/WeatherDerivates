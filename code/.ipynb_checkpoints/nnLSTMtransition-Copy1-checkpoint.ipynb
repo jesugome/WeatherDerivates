{
 "cells": [
  {
   "cell_type": "markdown",
   "metadata": {},
   "source": [
    "<h1><font size=12>\n",
    "Weather Derivatites </h1>\n",
    "<h1> Transition LSTM <br></h1>\n",
    "\n",
    "Developed by [Jesus Solano](mailto:ja.solano588@uniandes.edu.co) <br>  \n",
    "22 September 2018 \n"
   ]
  },
  {
   "cell_type": "code",
   "execution_count": 39,
   "metadata": {},
   "outputs": [],
   "source": [
    "# Import needed libraries. \n",
    "import numpy as np\n",
    "import pandas as pd\n",
    "import random as rand\n",
    "import matplotlib.pyplot as plt\n",
    "import time\n",
    "from io import StringIO\n",
    "import datetime \n",
    "import pickle\n",
    "from sklearn.model_selection import train_test_split\n",
    "from sklearn.preprocessing import MinMaxScaler"
   ]
  },
  {
   "cell_type": "markdown",
   "metadata": {},
   "source": [
    "# Import Datasets"
   ]
  },
  {
   "cell_type": "code",
   "execution_count": 2,
   "metadata": {},
   "outputs": [],
   "source": [
    "# Import total dataset. \n",
    "# Configure path to read txts.\n",
    "\n",
    "path = '../datasets/'\n",
    "\n",
    "# Download the update dataset.\n",
    "\n",
    "import os\n",
    "\n",
    "if not os.path.exists(path+'/fullDataset/completeDailyDataset.pickle'):\n",
    "\n",
    "  ! wget https://github.com/jesugome/WeatherDerivates/raw/master/datasets/fullDataset/completeDailyDataset.pickle -P path \n",
    "\n",
    "allDataDataframe = pickle.load(open(path+'/fullDataset/completeDailyDataset.pickle','rb'))"
   ]
  },
  {
   "cell_type": "code",
   "execution_count": 3,
   "metadata": {},
   "outputs": [
    {
     "data": {
      "text/html": [
       "<div>\n",
       "<style scoped>\n",
       "    .dataframe tbody tr th:only-of-type {\n",
       "        vertical-align: middle;\n",
       "    }\n",
       "\n",
       "    .dataframe tbody tr th {\n",
       "        vertical-align: top;\n",
       "    }\n",
       "\n",
       "    .dataframe thead th {\n",
       "        text-align: right;\n",
       "    }\n",
       "</style>\n",
       "<table border=\"1\" class=\"dataframe\">\n",
       "  <thead>\n",
       "    <tr style=\"text-align: right;\">\n",
       "      <th></th>\n",
       "      <th>Prep</th>\n",
       "      <th>Month</th>\n",
       "      <th>nino34</th>\n",
       "      <th>probNeutral</th>\n",
       "      <th>probNino</th>\n",
       "      <th>state</th>\n",
       "      <th>nextState</th>\n",
       "    </tr>\n",
       "  </thead>\n",
       "  <tbody>\n",
       "    <tr>\n",
       "      <th>2005-01-01</th>\n",
       "      <td>0</td>\n",
       "      <td>1</td>\n",
       "      <td>0.606186</td>\n",
       "      <td>0.15</td>\n",
       "      <td>0.85</td>\n",
       "      <td>0</td>\n",
       "      <td>0</td>\n",
       "    </tr>\n",
       "    <tr>\n",
       "      <th>2005-01-02</th>\n",
       "      <td>0</td>\n",
       "      <td>1</td>\n",
       "      <td>0.599358</td>\n",
       "      <td>0.15</td>\n",
       "      <td>0.85</td>\n",
       "      <td>0</td>\n",
       "      <td>0</td>\n",
       "    </tr>\n",
       "    <tr>\n",
       "      <th>2005-01-03</th>\n",
       "      <td>0</td>\n",
       "      <td>1</td>\n",
       "      <td>0.646784</td>\n",
       "      <td>0.15</td>\n",
       "      <td>0.85</td>\n",
       "      <td>0</td>\n",
       "      <td>1</td>\n",
       "    </tr>\n",
       "    <tr>\n",
       "      <th>2005-01-04</th>\n",
       "      <td>1.6</td>\n",
       "      <td>1</td>\n",
       "      <td>0.663696</td>\n",
       "      <td>0.15</td>\n",
       "      <td>0.85</td>\n",
       "      <td>1</td>\n",
       "      <td>0</td>\n",
       "    </tr>\n",
       "    <tr>\n",
       "      <th>2005-01-05</th>\n",
       "      <td>0</td>\n",
       "      <td>1</td>\n",
       "      <td>0.71133</td>\n",
       "      <td>0.15</td>\n",
       "      <td>0.85</td>\n",
       "      <td>0</td>\n",
       "      <td>0</td>\n",
       "    </tr>\n",
       "  </tbody>\n",
       "</table>\n",
       "</div>"
      ],
      "text/plain": [
       "           Prep Month    nino34 probNeutral probNino state nextState\n",
       "2005-01-01    0     1  0.606186        0.15     0.85     0         0\n",
       "2005-01-02    0     1  0.599358        0.15     0.85     0         0\n",
       "2005-01-03    0     1  0.646784        0.15     0.85     0         1\n",
       "2005-01-04  1.6     1  0.663696        0.15     0.85     1         0\n",
       "2005-01-05    0     1   0.71133        0.15     0.85     0         0"
      ]
     },
     "execution_count": 3,
     "metadata": {},
     "output_type": "execute_result"
    }
   ],
   "source": [
    "allDataDataframe.head()"
   ]
  },
  {
   "cell_type": "code",
   "execution_count": 65,
   "metadata": {},
   "outputs": [
    {
     "data": {
      "text/html": [
       "<div>\n",
       "<style scoped>\n",
       "    .dataframe tbody tr th:only-of-type {\n",
       "        vertical-align: middle;\n",
       "    }\n",
       "\n",
       "    .dataframe tbody tr th {\n",
       "        vertical-align: top;\n",
       "    }\n",
       "\n",
       "    .dataframe thead th {\n",
       "        text-align: right;\n",
       "    }\n",
       "</style>\n",
       "<table border=\"1\" class=\"dataframe\">\n",
       "  <thead>\n",
       "    <tr style=\"text-align: right;\">\n",
       "      <th></th>\n",
       "      <th>Prep</th>\n",
       "      <th>Month</th>\n",
       "      <th>nino34</th>\n",
       "      <th>probNeutral</th>\n",
       "      <th>probNino</th>\n",
       "      <th>state</th>\n",
       "      <th>nextState</th>\n",
       "    </tr>\n",
       "  </thead>\n",
       "  <tbody>\n",
       "    <tr>\n",
       "      <th>2005-01-01</th>\n",
       "      <td>0.000000</td>\n",
       "      <td>0.0</td>\n",
       "      <td>0.495221</td>\n",
       "      <td>0.15</td>\n",
       "      <td>0.85</td>\n",
       "      <td>0.0</td>\n",
       "      <td>0.0</td>\n",
       "    </tr>\n",
       "    <tr>\n",
       "      <th>2005-01-02</th>\n",
       "      <td>0.000000</td>\n",
       "      <td>0.0</td>\n",
       "      <td>0.493935</td>\n",
       "      <td>0.15</td>\n",
       "      <td>0.85</td>\n",
       "      <td>0.0</td>\n",
       "      <td>0.0</td>\n",
       "    </tr>\n",
       "    <tr>\n",
       "      <th>2005-01-03</th>\n",
       "      <td>0.000000</td>\n",
       "      <td>0.0</td>\n",
       "      <td>0.502863</td>\n",
       "      <td>0.15</td>\n",
       "      <td>0.85</td>\n",
       "      <td>0.0</td>\n",
       "      <td>1.0</td>\n",
       "    </tr>\n",
       "    <tr>\n",
       "      <th>2005-01-04</th>\n",
       "      <td>0.020382</td>\n",
       "      <td>0.0</td>\n",
       "      <td>0.506047</td>\n",
       "      <td>0.15</td>\n",
       "      <td>0.85</td>\n",
       "      <td>1.0</td>\n",
       "      <td>0.0</td>\n",
       "    </tr>\n",
       "    <tr>\n",
       "      <th>2005-01-05</th>\n",
       "      <td>0.000000</td>\n",
       "      <td>0.0</td>\n",
       "      <td>0.515014</td>\n",
       "      <td>0.15</td>\n",
       "      <td>0.85</td>\n",
       "      <td>0.0</td>\n",
       "      <td>0.0</td>\n",
       "    </tr>\n",
       "  </tbody>\n",
       "</table>\n",
       "</div>"
      ],
      "text/plain": [
       "                Prep  Month    nino34  probNeutral  probNino  state  nextState\n",
       "2005-01-01  0.000000    0.0  0.495221         0.15      0.85    0.0        0.0\n",
       "2005-01-02  0.000000    0.0  0.493935         0.15      0.85    0.0        0.0\n",
       "2005-01-03  0.000000    0.0  0.502863         0.15      0.85    0.0        1.0\n",
       "2005-01-04  0.020382    0.0  0.506047         0.15      0.85    1.0        0.0\n",
       "2005-01-05  0.000000    0.0  0.515014         0.15      0.85    0.0        0.0"
      ]
     },
     "execution_count": 65,
     "metadata": {},
     "output_type": "execute_result"
    }
   ],
   "source": [
    "# Normalize DataFrame\n",
    "scaler = MinMaxScaler() \n",
    "scaled_values = scaler.fit_transform(allDataDataframe) \n",
    "allDataDataframe.loc[:,:] = scaled_values\n",
    "allDataDataframe.head()"
   ]
  },
  {
   "cell_type": "markdown",
   "metadata": {},
   "source": [
    "# Preparing Datasets"
   ]
  },
  {
   "cell_type": "code",
   "execution_count": 70,
   "metadata": {
    "scrolled": true
   },
   "outputs": [],
   "source": [
    "# Split original data into 0's and 1's (Dry and wet days).\n",
    "\n",
    "dryDays = allDataDataframe[allDataDataframe['state']==0]\n",
    "wetDays = allDataDataframe[allDataDataframe['state']==1]"
   ]
  },
  {
   "cell_type": "code",
   "execution_count": 75,
   "metadata": {},
   "outputs": [
    {
     "name": "stdout",
     "output_type": "stream",
     "text": [
      "(1741, 1, 5)  --   (1741,)\n"
     ]
    }
   ],
   "source": [
    "# Create X and Y training matrices(dry). \n",
    "\n",
    "xDry = dryDays.drop(['nextState','state'],axis=1)\n",
    "\n",
    "xtrain = xDry.values\n",
    "\n",
    "test = pd.DataFrame(xtrain)\n",
    "\n",
    "xtrain = np.reshape(xtrain, ( xtrain.shape[0], 1 , xtrain.shape[1]))\n",
    "\n",
    "\n",
    "yDry = dryDays['nextState']\n",
    "ytrain = yDry.values\n",
    "\n",
    "ytrain = np.reshape(ytrain, (ytrain.shape[0] , ) )\n",
    "\n",
    "print(xtrain.shape, ' --  ' ,ytrain.shape)"
   ]
  },
  {
   "cell_type": "code",
   "execution_count": 76,
   "metadata": {},
   "outputs": [
    {
     "name": "stdout",
     "output_type": "stream",
     "text": [
      "(2275, 1, 5)  --   (2275,)\n"
     ]
    }
   ],
   "source": [
    "# Create X and Y training matrices(Wet). \n",
    "\n",
    "xWet = wetDays.drop(['nextState','state'],axis=1)\n",
    "\n",
    "xtrain = xWet.values\n",
    "\n",
    "test = pd.DataFrame(xtrain)\n",
    "\n",
    "xtrain = np.reshape(xtrain, ( xtrain.shape[0], 1 , xtrain.shape[1]))\n",
    "\n",
    "\n",
    "yWet = wetDays['nextState']\n",
    "ytrain = yWet.values\n",
    "\n",
    "ytrain = np.reshape(ytrain, (ytrain.shape[0] , ) )\n",
    "\n",
    "print(xtrain.shape, ' --  ' ,ytrain.shape)"
   ]
  },
  {
   "cell_type": "code",
   "execution_count": 78,
   "metadata": {},
   "outputs": [],
   "source": [
    "# Split dataset.\n",
    "xTrain, xValidation, yTrain, yValidation = train_test_split(xtrain, ytrain, test_size=0.25, random_state=22)\n"
   ]
  },
  {
   "cell_type": "markdown",
   "metadata": {},
   "source": [
    "# Neural Network"
   ]
  },
  {
   "cell_type": "code",
   "execution_count": 79,
   "metadata": {},
   "outputs": [],
   "source": [
    "# Import neural networks libraries.\n",
    "from  keras.models import Sequential\n",
    "from keras.utils import np_utils\n",
    "from keras.layers import Dense, Flatten, Dropout, Activation, BatchNormalization, LSTM\n",
    "from keras import optimizers as opts\n",
    "from keras.callbacks import History\n",
    "from keras.layers import Conv1D, GlobalMaxPooling1D\n",
    "from livelossplot import PlotLossesKeras"
   ]
  },
  {
   "cell_type": "code",
   "execution_count": 85,
   "metadata": {
    "scrolled": false
   },
   "outputs": [
    {
     "data": {
      "image/png": "[encoded data removed]",
      "text/plain": [
       "<Figure size 864x576 with 2 Axes>"
      ]
     },
     "metadata": {},
     "output_type": "display_data"
    },
    {
     "data": {
      "text/plain": [
       "<keras.callbacks.History at 0x7f955eeaec88>"
      ]
     },
     "execution_count": 85,
     "metadata": {},
     "output_type": "execute_result"
    }
   ],
   "source": [
    "from keras import backend as K\n",
    "K.clear_session()\n",
    "\n",
    "model = Sequential()\n",
    "model.add(LSTM(100, input_shape= (xtrain.shape[1],xtrain.shape[2])))\n",
    "model.add(Dense(1, activation='sigmoid'))\n",
    "\n",
    "#Defines optimizer.\n",
    "op = opts.adam(lr=0.01)\n",
    "\n",
    "model.compile(loss='binary_crossentropy', optimizer=op, metrics=['accuracy'])\n",
    "\n",
    "model.summary()\n",
    "\n",
    "batch_size = 150\n",
    "epochs = 500\n",
    "\n",
    "#model.fit(xtrain, ytrain, validation_split=0.1, batch_size=2000, epochs=50, verbose=1, callbacks=[PlotLossesKeras()])\n",
    "\n",
    "model.fit(xTrain, yTrain,\n",
    "                    batch_size=batch_size,\n",
    "                    epochs=epochs,\n",
    "                    verbose=1,\n",
    "                    shuffle = False, \n",
    "                    validation_data = [xValidation,yValidation],\n",
    "                    #validation_split = 0.1,\n",
    "                    callbacks=[PlotLossesKeras()])"
   ]
  },
  {
   "cell_type": "code",
   "execution_count": 88,
   "metadata": {},
   "outputs": [
    {
     "name": "stdout",
     "output_type": "stream",
     "text": [
      "Evaluating the test set...\n",
      "569/569 [==============================] - 0s 170us/step\n",
      "\n",
      "Test score: 0.6319564217423304\n",
      "Test accuracy: 0.6625659054109208\n",
      "Model AUC is:  0.6066530368855949\n"
     ]
    }
   ],
   "source": [
    "\n",
    "from sklearn.metrics import roc_curve, auc, roc_auc_score\n",
    "\n",
    "yPred = model.predict(xValidation)\n",
    "AUC = roc_auc_score(yValidation, yPred)\n",
    "# Perform the neural network over the test set. \n",
    "\n",
    "print('Evaluating the test set...')\n",
    "score = model.evaluate(xValidation, yValidation)\n",
    "#roc_curve(yValidationTxt,yPredGenre)\n",
    "\n",
    "print('\\nTest score:', score[0])\n",
    "print('Test accuracy:', score[1])\n",
    "print('Model AUC is: ', AUC )"
   ]
  },
  {
   "cell_type": "code",
   "execution_count": null,
   "metadata": {},
   "outputs": [],
   "source": []
  }
 ],
 "metadata": {
  "kernelspec": {
   "display_name": "Python 3",
   "language": "python",
   "name": "python3"
  },
  "language_info": {
   "codemirror_mode": {
    "name": "ipython",
    "version": 3
   },
   "file_extension": ".py",
   "mimetype": "text/x-python",
   "name": "python",
   "nbconvert_exporter": "python",
   "pygments_lexer": "ipython3",
   "version": "3.5.2"
  }
 },
 "nbformat": 4,
 "nbformat_minor": 2
}
