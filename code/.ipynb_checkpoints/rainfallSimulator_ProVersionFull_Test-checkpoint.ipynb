{
 "cells": [
  {
   "cell_type": "markdown",
   "metadata": {},
   "source": [
    "<h1><font size=12>\n",
    "Weather Derivatites </h1>\n",
    "<h1> Rainfall Simulator -- Full modeling <br></h1>\n",
    "\n",
    "Developed by [Jesus Solano](mailto:ja.solano588@uniandes.edu.co) <br>  \n",
    "16 September 2018 \n"
   ]
  },
  {
   "cell_type": "code",
   "execution_count": 19,
   "metadata": {},
   "outputs": [],
   "source": [
    "# Import needed libraries. \n",
    "import numpy as np\n",
    "import pandas as pd\n",
    "import random as rand\n",
    "import matplotlib.pyplot as plt\n",
    "from scipy.stats import bernoulli\n",
    "from scipy.stats import gamma\n",
    "import pickle\n",
    "import time\n",
    "import datetime"
   ]
  },
  {
   "cell_type": "markdown",
   "metadata": {},
   "source": [
    "# Generate artificial Data"
   ]
  },
  {
   "cell_type": "code",
   "execution_count": 20,
   "metadata": {},
   "outputs": [
    {
     "data": {
      "text/html": [
       "<div>\n",
       "<style scoped>\n",
       "    .dataframe tbody tr th:only-of-type {\n",
       "        vertical-align: middle;\n",
       "    }\n",
       "\n",
       "    .dataframe tbody tr th {\n",
       "        vertical-align: top;\n",
       "    }\n",
       "\n",
       "    .dataframe thead th {\n",
       "        text-align: right;\n",
       "    }\n",
       "</style>\n",
       "<table border=\"1\" class=\"dataframe\">\n",
       "  <thead>\n",
       "    <tr style=\"text-align: right;\">\n",
       "      <th></th>\n",
       "      <th>Season</th>\n",
       "      <th>La Niña</th>\n",
       "      <th>Neutral</th>\n",
       "      <th>El Niño</th>\n",
       "    </tr>\n",
       "  </thead>\n",
       "  <tbody>\n",
       "    <tr>\n",
       "      <th>0</th>\n",
       "      <td>JFM 2005</td>\n",
       "      <td>0%</td>\n",
       "      <td>15%</td>\n",
       "      <td>85%</td>\n",
       "    </tr>\n",
       "    <tr>\n",
       "      <th>1</th>\n",
       "      <td>FMA 2005</td>\n",
       "      <td>0%</td>\n",
       "      <td>17%</td>\n",
       "      <td>83%</td>\n",
       "    </tr>\n",
       "    <tr>\n",
       "      <th>2</th>\n",
       "      <td>MAM 2005</td>\n",
       "      <td>1%</td>\n",
       "      <td>24%</td>\n",
       "      <td>75%</td>\n",
       "    </tr>\n",
       "    <tr>\n",
       "      <th>3</th>\n",
       "      <td>AMJ 2005</td>\n",
       "      <td>2%</td>\n",
       "      <td>43%</td>\n",
       "      <td>55%</td>\n",
       "    </tr>\n",
       "    <tr>\n",
       "      <th>4</th>\n",
       "      <td>MJJ 2005</td>\n",
       "      <td>4%</td>\n",
       "      <td>51%</td>\n",
       "      <td>45%</td>\n",
       "    </tr>\n",
       "    <tr>\n",
       "      <th>5</th>\n",
       "      <td>JJA 2005</td>\n",
       "      <td>6%</td>\n",
       "      <td>54%</td>\n",
       "      <td>40%</td>\n",
       "    </tr>\n",
       "    <tr>\n",
       "      <th>6</th>\n",
       "      <td>JAS 2005</td>\n",
       "      <td>8%</td>\n",
       "      <td>52%</td>\n",
       "      <td>40%</td>\n",
       "    </tr>\n",
       "    <tr>\n",
       "      <th>7</th>\n",
       "      <td>ASO 2005</td>\n",
       "      <td>9%</td>\n",
       "      <td>51%</td>\n",
       "      <td>40%</td>\n",
       "    </tr>\n",
       "    <tr>\n",
       "      <th>8</th>\n",
       "      <td>SON 2005</td>\n",
       "      <td>10%</td>\n",
       "      <td>50%</td>\n",
       "      <td>40%</td>\n",
       "    </tr>\n",
       "    <tr>\n",
       "      <th>9</th>\n",
       "      <td>OND 2005</td>\n",
       "      <td>10%</td>\n",
       "      <td>50%</td>\n",
       "      <td>40%</td>\n",
       "    </tr>\n",
       "  </tbody>\n",
       "</table>\n",
       "</div>"
      ],
      "text/plain": [
       "     Season La Niña Neutral El Niño\n",
       "0  JFM 2005      0%     15%     85%\n",
       "1  FMA 2005      0%     17%     83%\n",
       "2  MAM 2005      1%     24%     75%\n",
       "3  AMJ 2005      2%     43%     55%\n",
       "4  MJJ 2005      4%     51%     45%\n",
       "5  JJA 2005      6%     54%     40%\n",
       "6  JAS 2005      8%     52%     40%\n",
       "7  ASO 2005      9%     51%     40%\n",
       "8  SON 2005     10%     50%     40%\n",
       "9  OND 2005     10%     50%     40%"
      ]
     },
     "execution_count": 20,
     "metadata": {},
     "output_type": "execute_result"
    }
   ],
   "source": [
    "### ENSO probabilistic forecast.\n",
    "\n",
    "# Open saved data.\n",
    "ensoForecast = pickle.load(open('../datasets/ensoForecastProb/ensoForecastProbabilities.pickle','rb'))\n",
    "\n",
    "# Print an example .. ( Format needed)\n",
    "\n",
    "ensoForecast['2005-01']"
   ]
  },
  {
   "cell_type": "code",
   "execution_count": 21,
   "metadata": {},
   "outputs": [
    {
     "name": "stderr",
     "output_type": "stream",
     "text": [
      "/usr/local/lib/python3.5/dist-packages/ipykernel_launcher.py:53: SettingWithCopyWarning: \n",
      "A value is trying to be set on a copy of a slice from a DataFrame\n",
      "\n",
      "See the caveats in the documentation: http://pandas.pydata.org/pandas-docs/stable/indexing.html#indexing-view-versus-copy\n"
     ]
    },
    {
     "data": {
      "text/html": [
       "<div>\n",
       "<style scoped>\n",
       "    .dataframe tbody tr th:only-of-type {\n",
       "        vertical-align: middle;\n",
       "    }\n",
       "\n",
       "    .dataframe tbody tr th {\n",
       "        vertical-align: top;\n",
       "    }\n",
       "\n",
       "    .dataframe thead th {\n",
       "        text-align: right;\n",
       "    }\n",
       "</style>\n",
       "<table border=\"1\" class=\"dataframe\">\n",
       "  <thead>\n",
       "    <tr style=\"text-align: right;\">\n",
       "      <th></th>\n",
       "      <th>state</th>\n",
       "      <th>Prep</th>\n",
       "      <th>Month</th>\n",
       "      <th>probNina</th>\n",
       "      <th>probNino</th>\n",
       "      <th>nextState</th>\n",
       "    </tr>\n",
       "  </thead>\n",
       "  <tbody>\n",
       "    <tr>\n",
       "      <th>2017-08-18</th>\n",
       "      <td>1</td>\n",
       "      <td>0.4</td>\n",
       "      <td>8</td>\n",
       "      <td>0.09</td>\n",
       "      <td>0.09</td>\n",
       "      <td>NaN</td>\n",
       "    </tr>\n",
       "    <tr>\n",
       "      <th>2017-08-19</th>\n",
       "      <td>NaN</td>\n",
       "      <td>NaN</td>\n",
       "      <td>8</td>\n",
       "      <td>0.09</td>\n",
       "      <td>0.09</td>\n",
       "      <td>NaN</td>\n",
       "    </tr>\n",
       "    <tr>\n",
       "      <th>2017-08-20</th>\n",
       "      <td>NaN</td>\n",
       "      <td>NaN</td>\n",
       "      <td>8</td>\n",
       "      <td>0.09</td>\n",
       "      <td>0.09</td>\n",
       "      <td>NaN</td>\n",
       "    </tr>\n",
       "    <tr>\n",
       "      <th>2017-08-21</th>\n",
       "      <td>NaN</td>\n",
       "      <td>NaN</td>\n",
       "      <td>8</td>\n",
       "      <td>0.09</td>\n",
       "      <td>0.09</td>\n",
       "      <td>NaN</td>\n",
       "    </tr>\n",
       "    <tr>\n",
       "      <th>2017-08-22</th>\n",
       "      <td>NaN</td>\n",
       "      <td>NaN</td>\n",
       "      <td>8</td>\n",
       "      <td>0.09</td>\n",
       "      <td>0.09</td>\n",
       "      <td>NaN</td>\n",
       "    </tr>\n",
       "  </tbody>\n",
       "</table>\n",
       "</div>"
      ],
      "text/plain": [
       "           state Prep Month probNina probNino nextState\n",
       "2017-08-18     1  0.4     8     0.09     0.09       NaN\n",
       "2017-08-19   NaN  NaN     8     0.09     0.09       NaN\n",
       "2017-08-20   NaN  NaN     8     0.09     0.09       NaN\n",
       "2017-08-21   NaN  NaN     8     0.09     0.09       NaN\n",
       "2017-08-22   NaN  NaN     8     0.09     0.09       NaN"
      ]
     },
     "execution_count": 21,
     "metadata": {},
     "output_type": "execute_result"
    }
   ],
   "source": [
    "### Create total dataframe.\n",
    "\n",
    "def createTotalDataFrame(daysNumber, startDate , initialState , initialPrep , ensoForecast ):\n",
    "    # Set variables names.\n",
    "    totalDataframeColumns = ['state','Prep','Month','probNina','probNino', 'nextState']\n",
    "\n",
    "    # Create dataframe.\n",
    "\n",
    "    allDataDataframe = pd.DataFrame(columns=totalDataframeColumns) \n",
    "\n",
    "    # Number of simulation days(i.e 30, 60)\n",
    "    daysNumber = daysNumber\n",
    "\n",
    "    # Simulation start date ('1995-04-22')\n",
    "    startDate = startDate\n",
    "\n",
    "    # State of rainfall last day before start date --> Remember 0 means dry and 1 means wet.\n",
    "    initialState = initialState\n",
    "    initialPrep = initialPrep   # Only fill when initialState == 1  \n",
    "\n",
    "\n",
    "    dates = pd.date_range(startDate, periods = daysNumber + 2 , freq='D')\n",
    "\n",
    "    for date in dates: \n",
    "\n",
    "        # Fill precipitation amount.\n",
    "        allDataDataframe.loc[date.strftime('%Y-%m-%d'),'Prep'] = np.nan\n",
    "\n",
    "        # Fill month of date \n",
    "        allDataDataframe.loc[date.strftime('%Y-%m-%d'),'Month'] = date.month\n",
    "\n",
    "        # Fill El Nino ENSO forecast probability. \n",
    "        allDataDataframe.loc[date.strftime('%Y-%m-%d'),'probNino'] = float(ensoForecast[date.strftime('%Y-%m')].loc[0,'El Niño'].strip('%').strip('~'))/100\n",
    "\n",
    "        # Fill La Nina ENSO forecast probability. \n",
    "        allDataDataframe.loc[date.strftime('%Y-%m-%d'),'probNina'] = float(ensoForecast[date.strftime('%Y-%m')].loc[0,'La Niña'].strip('%').strip('~'))/100\n",
    "\n",
    "        # Fill State. \n",
    "        allDataDataframe.loc[date.strftime('%Y-%m-%d'),'state'] = np.nan\n",
    "\n",
    "\n",
    "    simulationDataFrame = allDataDataframe[:-1]\n",
    "\n",
    "    # Fill initial conditions. \n",
    "    simulationDataFrame['state'][0] = initialState\n",
    "    if initialState == 1:\n",
    "        simulationDataFrame['Prep'][0] = initialPrep\n",
    "    else:\n",
    "        simulationDataFrame['Prep'][0] = 0.0\n",
    "    \n",
    "    return simulationDataFrame\n",
    "\n",
    "simulationDataFrame = createTotalDataFrame(daysNumber= 30, startDate = '2017-08-18', initialState = 1 , initialPrep =  0.4, ensoForecast = ensoForecast)\n",
    "simulationDataFrame.head()"
   ]
  },
  {
   "cell_type": "code",
   "execution_count": 43,
   "metadata": {},
   "outputs": [
    {
     "name": "stdout",
     "output_type": "stream",
     "text": [
      "       variable     value\n",
      "1   (Intercept) -1.168017\n",
      "2        Month2  0.346713\n",
      "3        Month3  0.848934\n",
      "4        Month4  1.563185\n",
      "5        Month5  1.567584\n",
      "6        Month6  1.132592\n",
      "7        Month7  1.311161\n",
      "8        Month8  1.432857\n",
      "9        Month9  0.924944\n",
      "10      Month10  1.587704\n",
      "11      Month11  1.356612\n",
      "12      Month12  0.518480\n",
      "13     probNino -0.453497\n",
      "14     probNina  0.176919\n",
      "\n",
      " * Intercept means firts month (January) \n"
     ]
    }
   ],
   "source": [
    "### Load transitions and amount parameters.\n",
    "\n",
    "# Transitions probabilites.\n",
    "transitionsParametersDry = pd.read_csv('../results/visibleMarkov/transitionsParametersDry.csv', sep = ' ', header=None, names = ['variable', 'value'])\n",
    "transitionsParametersDry.index += 1 \n",
    "transitionsParametersDry\n",
    "\n",
    "transitionsParametersWet = pd.read_csv('../results/visibleMarkov/transitionsParametersWet.csv', sep = ' ', header=None, names = ['variable', 'value'])\n",
    "transitionsParametersWet.index += 1 \n",
    "transitionsParametersWet\n",
    "\n",
    "#amountParametersGamma = pd.read_csv('../results/visibleMarkov/amountGammaPro.csv', sep = ' ', header=None, names = ['variable', 'mu', 'shape'])\n",
    "#amountParametersGamma.index += 1 \n",
    "# !!!!!! Delete !!!!!!!!!!!!!11. \n",
    "amountParametersGamma = pd.read_csv('../results/visibleMarkov/fittedGamma.csv', index_col=0)\n",
    "\n",
    "print(transitionsParametersDry)\n",
    "\n",
    "print('\\n * Intercept means firts month (January) ')\n"
   ]
  },
  {
   "cell_type": "markdown",
   "metadata": {},
   "source": [
    "## Simulation Function Core"
   ]
  },
  {
   "cell_type": "code",
   "execution_count": 44,
   "metadata": {},
   "outputs": [],
   "source": [
    "### Build the simulation core.\n",
    "\n",
    "# Updates the state of the day based on yesterday state. \n",
    "def updateState(yesterdayIndex, simulationDataFrame, transitionsParametersDry, transitionsParametersWet):\n",
    "    \n",
    "    # Additional data of day.\n",
    "    yesterdayState = simulationDataFrame['state'][yesterdayIndex]\n",
    "    yesterdayPrep = simulationDataFrame['Prep'][yesterdayIndex]\n",
    "    yesterdayProbNino = simulationDataFrame['probNino'][yesterdayIndex]\n",
    "    yesterdayProbNina = simulationDataFrame['probNina'][yesterdayIndex]\n",
    "    yesterdayMonth = simulationDataFrame['Month'][yesterdayIndex]\n",
    "    \n",
    "    # Calculate transition probability.\n",
    "    if yesterdayState == 0:\n",
    "        \n",
    "        # Includes month factor + probNino value + probNino value.\n",
    "        successProbabilityLogit = transitionsParametersDry['value'][yesterdayMonth] + yesterdayProbNino*transitionsParametersDry['value'][13] +  yesterdayProbNina*transitionsParametersDry['value'][14]\n",
    "        successProbability = (np.exp(successProbabilityLogit))/(1+np.exp(successProbabilityLogit))\n",
    "    elif yesterdayState == 1:\n",
    "        \n",
    "        # Includes month factor + probNino value + probNino value + prep value .\n",
    "        successProbabilityLogit = transitionsParametersDry['value'][yesterdayMonth] + yesterdayProbNino*transitionsParametersWet['value'][14] +  yesterdayProbNina*transitionsParametersWet['value'][15] + yesterdayPrep*transitionsParametersWet['value'][13] \n",
    "        successProbability = (np.exp(successProbabilityLogit))/(1+np.exp(successProbabilityLogit))\n",
    "    else:\n",
    "        print('State of date: ', simulationDataFrame.index[yesterdayIndex],' not found.')\n",
    "    \n",
    "    #print(successProbability)\n",
    "    #successProbability = monthTransitions['p'+str(yesterdayState)+'1'][yesterdayMonth] \n",
    "    \n",
    "    todayState = bernoulli.rvs(successProbability)\n",
    "    \n",
    "    return todayState "
   ]
  },
  {
   "cell_type": "code",
   "execution_count": 48,
   "metadata": {},
   "outputs": [],
   "source": [
    "# Simulates one run of simulation. \n",
    "def oneRun(simulationDataFrame, transitionsParametersDry, transitionsParametersWet, amountParametersGamma):\n",
    "    \n",
    "    # Define the total rainfall amount over the simulation.\n",
    "    rainfall = 0\n",
    "    \n",
    "    # Total rainfall days.\n",
    "    wetDays = 0\n",
    "    \n",
    "    # Loop over days in simulation to calculate rainfall ammount.\n",
    "    for day in range(1,len(simulationDataFrame)):\n",
    "        \n",
    "        # Get today date. \n",
    "        dateOfDay = datetime.datetime.strptime(simulationDataFrame.index[day],'%Y-%m-%d')\n",
    "       \n",
    "    \n",
    "        # Update today state based on the yesterday state. \n",
    "        todayState = updateState(day-1, simulationDataFrame, transitionsParametersDry, transitionsParametersWet)\n",
    "        \n",
    "        # Write new day information.\n",
    "        simulationDataFrame['state'][day] = todayState\n",
    "        simulationDataFrame['nextState'][day-1] = todayState\n",
    "        \n",
    "        # Computes total accumulated rainfall.\n",
    "        if todayState == 1:\n",
    "            \n",
    "            # Sum wet day.\n",
    "            wetDays+=1\n",
    "            \n",
    "            # Additional data of day.\n",
    "            todayProbNino = simulationDataFrame['probNino'][day]\n",
    "            todayProbNina = simulationDataFrame['probNina'][day]\n",
    "            todayMonth = simulationDataFrame['Month'][day]\n",
    "            \n",
    "            \n",
    "            '''\n",
    "            \n",
    "            # Calculates gamma log(mu).\n",
    "            gammaLogMu = amountParametersGamma['mu'][todayMonth]+ todayProbNino*amountParametersGamma['mu'][13]+todayProbNino*amountParametersGamma['mu'][13] \n",
    "            #print(gammaMu)\n",
    "            # Calculates gamma scale\n",
    "            gammaLogShape = amountParametersGamma['shape'][todayMonth]+ todayProbNino*amountParametersGamma['shape'][13]+todayProbNino*amountParametersGamma['shape'][13]\n",
    "            #print(gammaShape)\n",
    "            \n",
    "            # Update mu\n",
    "            gammaMu = np.exp(gammaLogMu)\n",
    "            \n",
    "            # Update shape\n",
    "            gammaShape = np.exp(gammaLogShape)\n",
    "            \n",
    "            # Calculate gamma scale.\n",
    "            gammaScale = gammaMu / gammaShape\n",
    "            \n",
    "            # Generate random rainfall.\n",
    "            todayRainfall = gamma.rvs(a = gammaShape, scale = gammaScale)\n",
    "            \n",
    "            '''\n",
    "            \n",
    "            # !!!!!! Delete !!!!!!!!!!!!!11. \n",
    "            todayRainfall = gamma.rvs(amountParametersGamma['Shape'][0],amountParametersGamma['Loc'][0],amountParametersGamma['Scale'][0]) \n",
    "            \n",
    "            \n",
    "            \n",
    "            # Write new day information.\n",
    "            simulationDataFrame['Prep'][day] = todayRainfall\n",
    "            \n",
    "            # Updates rainfall amount. \n",
    "            rainfall += todayRainfall\n",
    "            \n",
    "        else:\n",
    "            # Write new day information.\n",
    "            simulationDataFrame['Prep'][day] = 0\n",
    "            \n",
    "        \n",
    "        yesterdayState = todayState\n",
    "            \n",
    "    \n",
    "    return rainfall,wetDays"
   ]
  },
  {
   "cell_type": "code",
   "execution_count": 49,
   "metadata": {},
   "outputs": [
    {
     "data": {
      "text/plain": [
       "1"
      ]
     },
     "execution_count": 49,
     "metadata": {},
     "output_type": "execute_result"
    }
   ],
   "source": [
    "updateState(0, simulationDataFrame, transitionsParametersDry, transitionsParametersWet)"
   ]
  },
  {
   "cell_type": "code",
   "execution_count": 50,
   "metadata": {},
   "outputs": [
    {
     "data": {
      "text/plain": [
       "(105.84241810560518, 25)"
      ]
     },
     "execution_count": 50,
     "metadata": {},
     "output_type": "execute_result"
    }
   ],
   "source": [
    "# Run only one iteration(Print structure of results)\n",
    "\n",
    "# Simulations iterations.\n",
    "iterations = 10000\n",
    "\n",
    "oneRun(simulationDataFrame, transitionsParametersDry, transitionsParametersWet, amountParametersGamma)\n"
   ]
  },
  {
   "cell_type": "markdown",
   "metadata": {},
   "source": [
    "## Complete Simulation"
   ]
  },
  {
   "cell_type": "code",
   "execution_count": 51,
   "metadata": {},
   "outputs": [],
   "source": [
    "# Run total iterations.\n",
    "def totalRun(simulationDataFrame, transitionsParametersDry, transitionsParametersWet, amountParametersGamma,iterations):\n",
    "    \n",
    "    # Initialize time \n",
    "    startTime = time.time()\n",
    "    \n",
    "    # Array to store all precipitations.\n",
    "    rainfallPerIteration = [None]*iterations\n",
    "    \n",
    "    wetDaysPerIteration = [None]*iterations\n",
    "    \n",
    "    # Loop over each iteration(simulation)\n",
    "    \n",
    "    for i in range(iterations):\n",
    "        \n",
    "        simulationDataFrameC = simulationDataFrame.copy()\n",
    "        \n",
    "        iterationRainfall,wetDays = oneRun(simulationDataFrameC, transitionsParametersDry, transitionsParametersWet, amountParametersGamma)\n",
    "        \n",
    "        rainfallPerIteration[i] = iterationRainfall\n",
    "        \n",
    "        wetDaysPerIteration[i] = wetDays\n",
    "    \n",
    "    # Calculate time\n",
    "    currentTime = time.time() - startTime \n",
    "    \n",
    "    # Print mean of wet days. \n",
    "    \n",
    "    print('The mean of wet days is: ', np.mean(wetDaysPerIteration))\n",
    "    \n",
    "    # Logging time.\n",
    "    print('The elapsed time over simulation is: ', currentTime, ' seconds.')\n",
    "    \n",
    "    return rainfallPerIteration"
   ]
  },
  {
   "cell_type": "code",
   "execution_count": 52,
   "metadata": {},
   "outputs": [
    {
     "name": "stderr",
     "output_type": "stream",
     "text": [
      "/usr/local/lib/python3.5/dist-packages/ipykernel_launcher.py:7: SettingWithCopyWarning: \n",
      "A value is trying to be set on a copy of a slice from a DataFrame\n",
      "\n",
      "See the caveats in the documentation: http://pandas.pydata.org/pandas-docs/stable/indexing.html#indexing-view-versus-copy\n",
      "  import sys\n"
     ]
    },
    {
     "data": {
      "text/html": [
       "<div>\n",
       "<style scoped>\n",
       "    .dataframe tbody tr th:only-of-type {\n",
       "        vertical-align: middle;\n",
       "    }\n",
       "\n",
       "    .dataframe tbody tr th {\n",
       "        vertical-align: top;\n",
       "    }\n",
       "\n",
       "    .dataframe thead th {\n",
       "        text-align: right;\n",
       "    }\n",
       "</style>\n",
       "<table border=\"1\" class=\"dataframe\">\n",
       "  <thead>\n",
       "    <tr style=\"text-align: right;\">\n",
       "      <th></th>\n",
       "      <th>state</th>\n",
       "      <th>Prep</th>\n",
       "      <th>Month</th>\n",
       "      <th>probNina</th>\n",
       "      <th>probNino</th>\n",
       "      <th>nextState</th>\n",
       "    </tr>\n",
       "  </thead>\n",
       "  <tbody>\n",
       "    <tr>\n",
       "      <th>2017-12-18</th>\n",
       "      <td>1</td>\n",
       "      <td>0.4</td>\n",
       "      <td>12</td>\n",
       "      <td>0.83</td>\n",
       "      <td>0</td>\n",
       "      <td>NaN</td>\n",
       "    </tr>\n",
       "    <tr>\n",
       "      <th>2017-12-19</th>\n",
       "      <td>NaN</td>\n",
       "      <td>NaN</td>\n",
       "      <td>12</td>\n",
       "      <td>0.83</td>\n",
       "      <td>0</td>\n",
       "      <td>NaN</td>\n",
       "    </tr>\n",
       "    <tr>\n",
       "      <th>2017-12-20</th>\n",
       "      <td>NaN</td>\n",
       "      <td>NaN</td>\n",
       "      <td>12</td>\n",
       "      <td>0.83</td>\n",
       "      <td>0</td>\n",
       "      <td>NaN</td>\n",
       "    </tr>\n",
       "    <tr>\n",
       "      <th>2017-12-21</th>\n",
       "      <td>NaN</td>\n",
       "      <td>NaN</td>\n",
       "      <td>12</td>\n",
       "      <td>0.83</td>\n",
       "      <td>0</td>\n",
       "      <td>NaN</td>\n",
       "    </tr>\n",
       "    <tr>\n",
       "      <th>2017-12-22</th>\n",
       "      <td>NaN</td>\n",
       "      <td>NaN</td>\n",
       "      <td>12</td>\n",
       "      <td>0.83</td>\n",
       "      <td>0</td>\n",
       "      <td>NaN</td>\n",
       "    </tr>\n",
       "  </tbody>\n",
       "</table>\n",
       "</div>"
      ],
      "text/plain": [
       "           state Prep Month probNina probNino nextState\n",
       "2017-12-18     1  0.4    12     0.83        0       NaN\n",
       "2017-12-19   NaN  NaN    12     0.83        0       NaN\n",
       "2017-12-20   NaN  NaN    12     0.83        0       NaN\n",
       "2017-12-21   NaN  NaN    12     0.83        0       NaN\n",
       "2017-12-22   NaN  NaN    12     0.83        0       NaN"
      ]
     },
     "execution_count": 52,
     "metadata": {},
     "output_type": "execute_result"
    }
   ],
   "source": [
    "#### Define parameters simulation.\n",
    "\n",
    "# Simulations iterations.\n",
    "iterations = 1000\n",
    "\n",
    "# Create dataframe to simulate. \n",
    "simulationDataFrame = createTotalDataFrame(daysNumber= 30, startDate = '2017-12-18', initialState = 1 , initialPrep =  0.4, ensoForecast = ensoForecast)\n",
    "simulationDataFrame.head()"
   ]
  },
  {
   "cell_type": "markdown",
   "metadata": {},
   "source": [
    "## Final Results"
   ]
  },
  {
   "cell_type": "code",
   "execution_count": 53,
   "metadata": {},
   "outputs": [
    {
     "name": "stdout",
     "output_type": "stream",
     "text": [
      "The mean of wet days is:  15.827\n",
      "The elapsed time over simulation is:  25.631917238235474  seconds.\n"
     ]
    }
   ],
   "source": [
    "# Final Analysis.\n",
    "\n",
    "finalSimulation = totalRun(simulationDataFrame, transitionsParametersDry, transitionsParametersWet, amountParametersGamma,iterations)\n"
   ]
  },
  {
   "cell_type": "code",
   "execution_count": 12,
   "metadata": {
    "scrolled": false
   },
   "outputs": [
    {
     "data": {
      "image/png": "[encoded data removed]",
      "text/plain": [
       "<Figure size 1440x720 with 1 Axes>"
      ]
     },
     "metadata": {},
     "output_type": "display_data"
    }
   ],
   "source": [
    "fig = plt.figure(figsize=(20, 10))\n",
    "\n",
    "plt.hist(finalSimulation,facecolor='steelblue',bins=100, density=True,\n",
    "         histtype='stepfilled', edgecolor = 'black' , hatch = '+')\n",
    "\n",
    "plt.title('Rainfall Simulation')\n",
    "plt.xlabel('Rainfall Amount [mm]')\n",
    "plt.ylabel('Probability ')\n",
    "plt.grid()\n",
    "plt.show()"
   ]
  },
  {
   "cell_type": "markdown",
   "metadata": {},
   "source": [
    "### Enero "
   ]
  },
  {
   "cell_type": "code",
   "execution_count": 13,
   "metadata": {},
   "outputs": [
    {
     "name": "stderr",
     "output_type": "stream",
     "text": [
      "/usr/local/lib/python3.5/dist-packages/ipykernel_launcher.py:7: SettingWithCopyWarning: \n",
      "A value is trying to be set on a copy of a slice from a DataFrame\n",
      "\n",
      "See the caveats in the documentation: http://pandas.pydata.org/pandas-docs/stable/indexing.html#indexing-view-versus-copy\n",
      "  import sys\n"
     ]
    },
    {
     "name": "stdout",
     "output_type": "stream",
     "text": [
      "The elapsed time over simulation is:  23.477059841156006  seconds.\n"
     ]
    },
    {
     "data": {
      "image/png": "[encoded data removed]",
      "text/plain": [
       "<Figure size 1440x720 with 1 Axes>"
      ]
     },
     "metadata": {},
     "output_type": "display_data"
    }
   ],
   "source": [
    "#### Define parameters simulation.\n",
    "\n",
    "# Simulations iterations.\n",
    "iterations = 1000\n",
    "\n",
    "# Create dataframe to simulate. \n",
    "simulationDataFrame = createTotalDataFrame(daysNumber= 30, startDate = '2017-01-01', initialState = 0 , initialPrep =  0.4, ensoForecast = ensoForecast)\n",
    "\n",
    "# Final Analysis.\n",
    "finalSimulation = totalRun(simulationDataFrame, transitionsParametersDry, transitionsParametersWet, amountParametersGamma,iterations)\n",
    "\n",
    "fig = plt.figure(figsize=(20, 10))\n",
    "\n",
    "plt.hist(finalSimulation,facecolor='lightgreen',bins=100, density=True,\n",
    "         histtype='stepfilled', edgecolor = 'black' , hatch = '+')\n",
    "\n",
    "plt.title('Rainfall Simulation')\n",
    "plt.xlabel('Rainfall Amount [mm]')\n",
    "plt.ylabel('Probability ')\n",
    "plt.grid()\n",
    "plt.show()"
   ]
  },
  {
   "cell_type": "code",
   "execution_count": 14,
   "metadata": {},
   "outputs": [
    {
     "name": "stderr",
     "output_type": "stream",
     "text": [
      "/usr/local/lib/python3.5/dist-packages/ipykernel_launcher.py:7: SettingWithCopyWarning: \n",
      "A value is trying to be set on a copy of a slice from a DataFrame\n",
      "\n",
      "See the caveats in the documentation: http://pandas.pydata.org/pandas-docs/stable/indexing.html#indexing-view-versus-copy\n",
      "  import sys\n"
     ]
    },
    {
     "name": "stdout",
     "output_type": "stream",
     "text": [
      "The elapsed time over simulation is:  24.640351057052612  seconds.\n"
     ]
    },
    {
     "data": {
      "image/png": "[encoded data removed]",
      "text/plain": [
       "<Figure size 1440x720 with 1 Axes>"
      ]
     },
     "metadata": {},
     "output_type": "display_data"
    }
   ],
   "source": [
    "#### Define parameters simulation.\n",
    "\n",
    "# Simulations iterations.\n",
    "iterations = 1000\n",
    "\n",
    "# Create dataframe to simulate. \n",
    "simulationDataFrame = createTotalDataFrame(daysNumber= 30, startDate = '2017-01-01', initialState = 1 , initialPrep =  0.4, ensoForecast = ensoForecast)\n",
    "\n",
    "# Final Analysis.\n",
    "finalSimulation = totalRun(simulationDataFrame, transitionsParametersDry, transitionsParametersWet, amountParametersGamma,iterations)\n",
    "\n",
    "fig = plt.figure(figsize=(20, 10))\n",
    "\n",
    "plt.hist(finalSimulation,facecolor='skyblue',bins=100, density=True,\n",
    "         histtype='stepfilled', edgecolor = 'black' , hatch = '+')\n",
    "\n",
    "plt.title('Rainfall Simulation')\n",
    "plt.xlabel('Rainfall Amount [mm]')\n",
    "plt.ylabel('Probability ')\n",
    "plt.grid()\n",
    "plt.show()"
   ]
  },
  {
   "cell_type": "code",
   "execution_count": 15,
   "metadata": {},
   "outputs": [
    {
     "name": "stderr",
     "output_type": "stream",
     "text": [
      "/usr/local/lib/python3.5/dist-packages/ipykernel_launcher.py:7: SettingWithCopyWarning: \n",
      "A value is trying to be set on a copy of a slice from a DataFrame\n",
      "\n",
      "See the caveats in the documentation: http://pandas.pydata.org/pandas-docs/stable/indexing.html#indexing-view-versus-copy\n",
      "  import sys\n"
     ]
    },
    {
     "name": "stdout",
     "output_type": "stream",
     "text": [
      "The elapsed time over simulation is:  25.675694465637207  seconds.\n"
     ]
    },
    {
     "data": {
      "image/png": "[encoded data removed]",
      "text/plain": [
       "<Figure size 1440x720 with 1 Axes>"
      ]
     },
     "metadata": {},
     "output_type": "display_data"
    }
   ],
   "source": [
    "#### Define parameters simulation.\n",
    "\n",
    "# Simulations iterations.\n",
    "iterations = 1000\n",
    "\n",
    "# Create dataframe to simulate. \n",
    "simulationDataFrame = createTotalDataFrame(daysNumber= 30, startDate = '2017-01-01', initialState = 1 , initialPrep =  5.0, ensoForecast = ensoForecast)\n",
    "\n",
    "# Final Analysis.\n",
    "finalSimulation = totalRun(simulationDataFrame, transitionsParametersDry, transitionsParametersWet, amountParametersGamma,iterations)\n",
    "\n",
    "fig = plt.figure(figsize=(20, 10))\n",
    "\n",
    "plt.hist(finalSimulation,facecolor='steelblue',bins=100, density=True,\n",
    "         histtype='stepfilled', edgecolor = 'black' , hatch = '+')\n",
    "\n",
    "plt.title('Rainfall Simulation')\n",
    "plt.xlabel('Rainfall Amount [mm]')\n",
    "plt.ylabel('Probability ')\n",
    "plt.grid()\n",
    "plt.show()"
   ]
  },
  {
   "cell_type": "markdown",
   "metadata": {},
   "source": [
    "### Abril"
   ]
  },
  {
   "cell_type": "code",
   "execution_count": 16,
   "metadata": {},
   "outputs": [
    {
     "name": "stderr",
     "output_type": "stream",
     "text": [
      "/usr/local/lib/python3.5/dist-packages/ipykernel_launcher.py:7: SettingWithCopyWarning: \n",
      "A value is trying to be set on a copy of a slice from a DataFrame\n",
      "\n",
      "See the caveats in the documentation: http://pandas.pydata.org/pandas-docs/stable/indexing.html#indexing-view-versus-copy\n",
      "  import sys\n"
     ]
    },
    {
     "name": "stdout",
     "output_type": "stream",
     "text": [
      "The elapsed time over simulation is:  28.975367546081543  seconds.\n"
     ]
    },
    {
     "data": {
      "image/png": "[encoded data removed]",
      "text/plain": [
       "<Figure size 1440x720 with 1 Axes>"
      ]
     },
     "metadata": {},
     "output_type": "display_data"
    }
   ],
   "source": [
    "#### Define parameters simulation.\n",
    "\n",
    "# Simulations iterations.\n",
    "iterations = 1000\n",
    "\n",
    "# Create dataframe to simulate. \n",
    "simulationDataFrame = createTotalDataFrame(daysNumber= 30, startDate = '2017-04-01', initialState = 0 , initialPrep =  0.4, ensoForecast = ensoForecast)\n",
    "\n",
    "# Final Analysis.\n",
    "finalSimulation = totalRun(simulationDataFrame, transitionsParametersDry, transitionsParametersWet, amountParametersGamma,iterations)\n",
    "\n",
    "fig = plt.figure(figsize=(20, 10))\n",
    "\n",
    "plt.hist(finalSimulation,facecolor='lightgreen',bins=100, density=True,\n",
    "         histtype='stepfilled', edgecolor = 'black' , hatch = '+')\n",
    "\n",
    "plt.title('Rainfall Simulation')\n",
    "plt.xlabel('Rainfall Amount [mm]')\n",
    "plt.ylabel('Probability ')\n",
    "plt.grid()\n",
    "plt.show()"
   ]
  },
  {
   "cell_type": "code",
   "execution_count": 17,
   "metadata": {},
   "outputs": [
    {
     "name": "stderr",
     "output_type": "stream",
     "text": [
      "/usr/local/lib/python3.5/dist-packages/ipykernel_launcher.py:7: SettingWithCopyWarning: \n",
      "A value is trying to be set on a copy of a slice from a DataFrame\n",
      "\n",
      "See the caveats in the documentation: http://pandas.pydata.org/pandas-docs/stable/indexing.html#indexing-view-versus-copy\n",
      "  import sys\n"
     ]
    },
    {
     "name": "stdout",
     "output_type": "stream",
     "text": [
      "The elapsed time over simulation is:  33.15093421936035  seconds.\n"
     ]
    },
    {
     "data": {
      "image/png": "[encoded data removed]",
      "text/plain": [
       "<Figure size 1440x720 with 1 Axes>"
      ]
     },
     "metadata": {},
     "output_type": "display_data"
    }
   ],
   "source": [
    "#### Define parameters simulation.\n",
    "\n",
    "# Simulations iterations.\n",
    "iterations = 1000\n",
    "\n",
    "# Create dataframe to simulate. \n",
    "simulationDataFrame = createTotalDataFrame(daysNumber= 30, startDate = '2017-04-01', initialState = 1 , initialPrep =  0.4, ensoForecast = ensoForecast)\n",
    "\n",
    "# Final Analysis.\n",
    "finalSimulation = totalRun(simulationDataFrame, transitionsParametersDry, transitionsParametersWet, amountParametersGamma,iterations)\n",
    "\n",
    "fig = plt.figure(figsize=(20, 10))\n",
    "\n",
    "plt.hist(finalSimulation,facecolor='skyblue',bins=100, density=True,\n",
    "         histtype='stepfilled', edgecolor = 'black' , hatch = '+')\n",
    "\n",
    "plt.title('Rainfall Simulation')\n",
    "plt.xlabel('Rainfall Amount [mm]')\n",
    "plt.ylabel('Probability ')\n",
    "plt.grid()\n",
    "plt.show()"
   ]
  },
  {
   "cell_type": "code",
   "execution_count": 18,
   "metadata": {},
   "outputs": [
    {
     "name": "stderr",
     "output_type": "stream",
     "text": [
      "/usr/local/lib/python3.5/dist-packages/ipykernel_launcher.py:7: SettingWithCopyWarning: \n",
      "A value is trying to be set on a copy of a slice from a DataFrame\n",
      "\n",
      "See the caveats in the documentation: http://pandas.pydata.org/pandas-docs/stable/indexing.html#indexing-view-versus-copy\n",
      "  import sys\n"
     ]
    },
    {
     "name": "stdout",
     "output_type": "stream",
     "text": [
      "The elapsed time over simulation is:  30.36116909980774  seconds.\n"
     ]
    },
    {
     "data": {
      "image/png": "[encoded data removed]",
      "text/plain": [
       "<Figure size 1440x720 with 1 Axes>"
      ]
     },
     "metadata": {},
     "output_type": "display_data"
    }
   ],
   "source": [
    "#### Define parameters simulation.\n",
    "\n",
    "# Simulations iterations.\n",
    "iterations = 1000\n",
    "\n",
    "# Create dataframe to simulate. \n",
    "simulationDataFrame = createTotalDataFrame(daysNumber= 30, startDate = '2017-04-01', initialState = 1 , initialPrep =  5.0, ensoForecast = ensoForecast)\n",
    "\n",
    "# Final Analysis.\n",
    "finalSimulation = totalRun(simulationDataFrame, transitionsParametersDry, transitionsParametersWet, amountParametersGamma,iterations)\n",
    "\n",
    "fig = plt.figure(figsize=(20, 10))\n",
    "\n",
    "plt.hist(finalSimulation,facecolor='steelblue',bins=100, density=True,\n",
    "         histtype='stepfilled', edgecolor = 'black' , hatch = '+')\n",
    "\n",
    "plt.title('Rainfall Simulation')\n",
    "plt.xlabel('Rainfall Amount [mm]')\n",
    "plt.ylabel('Probability ')\n",
    "plt.grid()\n",
    "plt.show()"
   ]
  },
  {
   "cell_type": "markdown",
   "metadata": {},
   "source": [
    "### Octubre"
   ]
  },
  {
   "cell_type": "code",
   "execution_count": 19,
   "metadata": {},
   "outputs": [
    {
     "name": "stderr",
     "output_type": "stream",
     "text": [
      "/usr/local/lib/python3.5/dist-packages/ipykernel_launcher.py:7: SettingWithCopyWarning: \n",
      "A value is trying to be set on a copy of a slice from a DataFrame\n",
      "\n",
      "See the caveats in the documentation: http://pandas.pydata.org/pandas-docs/stable/indexing.html#indexing-view-versus-copy\n",
      "  import sys\n"
     ]
    },
    {
     "name": "stdout",
     "output_type": "stream",
     "text": [
      "The elapsed time over simulation is:  30.829380989074707  seconds.\n"
     ]
    },
    {
     "data": {
      "image/png": "[encoded data removed]",
      "text/plain": [
       "<Figure size 1440x720 with 1 Axes>"
      ]
     },
     "metadata": {},
     "output_type": "display_data"
    }
   ],
   "source": [
    "#### Define parameters simulation.\n",
    "\n",
    "# Simulations iterations.\n",
    "iterations = 1000\n",
    "\n",
    "# Create dataframe to simulate. \n",
    "simulationDataFrame = createTotalDataFrame(daysNumber= 30, startDate = '2017-10-01', initialState = 0 , initialPrep =  0.4, ensoForecast = ensoForecast)\n",
    "\n",
    "# Final Analysis.\n",
    "finalSimulation = totalRun(simulationDataFrame, transitionsParametersDry, transitionsParametersWet, amountParametersGamma,iterations)\n",
    "\n",
    "fig = plt.figure(figsize=(20, 10))\n",
    "\n",
    "plt.hist(finalSimulation,facecolor='lightgreen',bins=100, density=True,\n",
    "         histtype='stepfilled', edgecolor = 'black' , hatch = '+')\n",
    "\n",
    "plt.title('Rainfall Simulation')\n",
    "plt.xlabel('Rainfall Amount [mm]')\n",
    "plt.ylabel('Probability ')\n",
    "plt.grid()\n",
    "plt.show()"
   ]
  },
  {
   "cell_type": "code",
   "execution_count": 20,
   "metadata": {},
   "outputs": [
    {
     "name": "stderr",
     "output_type": "stream",
     "text": [
      "/usr/local/lib/python3.5/dist-packages/ipykernel_launcher.py:7: SettingWithCopyWarning: \n",
      "A value is trying to be set on a copy of a slice from a DataFrame\n",
      "\n",
      "See the caveats in the documentation: http://pandas.pydata.org/pandas-docs/stable/indexing.html#indexing-view-versus-copy\n",
      "  import sys\n"
     ]
    },
    {
     "name": "stdout",
     "output_type": "stream",
     "text": [
      "The elapsed time over simulation is:  32.321375608444214  seconds.\n"
     ]
    },
    {
     "data": {
      "image/png": "[encoded data removed]",
      "text/plain": [
       "<Figure size 1440x720 with 1 Axes>"
      ]
     },
     "metadata": {},
     "output_type": "display_data"
    }
   ],
   "source": [
    "#### Define parameters simulation.\n",
    "\n",
    "# Simulations iterations.\n",
    "iterations = 1000\n",
    "\n",
    "# Create dataframe to simulate. \n",
    "simulationDataFrame = createTotalDataFrame(daysNumber= 30, startDate = '2017-10-01', initialState = 1 , initialPrep =  0.4, ensoForecast = ensoForecast)\n",
    "\n",
    "# Final Analysis.\n",
    "finalSimulation = totalRun(simulationDataFrame, transitionsParametersDry, transitionsParametersWet, amountParametersGamma,iterations)\n",
    "\n",
    "fig = plt.figure(figsize=(20, 10))\n",
    "\n",
    "plt.hist(finalSimulation,facecolor='skyblue',bins=100, density=True,\n",
    "         histtype='stepfilled', edgecolor = 'black' , hatch = '+')\n",
    "\n",
    "plt.title('Rainfall Simulation')\n",
    "plt.xlabel('Rainfall Amount [mm]')\n",
    "plt.ylabel('Probability ')\n",
    "plt.grid()\n",
    "plt.show()"
   ]
  },
  {
   "cell_type": "code",
   "execution_count": 21,
   "metadata": {},
   "outputs": [
    {
     "name": "stderr",
     "output_type": "stream",
     "text": [
      "/usr/local/lib/python3.5/dist-packages/ipykernel_launcher.py:7: SettingWithCopyWarning: \n",
      "A value is trying to be set on a copy of a slice from a DataFrame\n",
      "\n",
      "See the caveats in the documentation: http://pandas.pydata.org/pandas-docs/stable/indexing.html#indexing-view-versus-copy\n",
      "  import sys\n"
     ]
    },
    {
     "name": "stdout",
     "output_type": "stream",
     "text": [
      "The elapsed time over simulation is:  34.07685160636902  seconds.\n"
     ]
    },
    {
     "data": {
      "image/png": "[encoded data removed]",
      "text/plain": [
       "<Figure size 1440x720 with 1 Axes>"
      ]
     },
     "metadata": {},
     "output_type": "display_data"
    }
   ],
   "source": [
    "#### Define parameters simulation.\n",
    "\n",
    "# Simulations iterations.\n",
    "iterations = 1000\n",
    "\n",
    "# Create dataframe to simulate. \n",
    "simulationDataFrame = createTotalDataFrame(daysNumber= 30, startDate = '2017-10-01', initialState = 1 , initialPrep =  5.0, ensoForecast = ensoForecast)\n",
    "\n",
    "# Final Analysis.\n",
    "finalSimulation = totalRun(simulationDataFrame, transitionsParametersDry, transitionsParametersWet, amountParametersGamma,iterations)\n",
    "\n",
    "fig = plt.figure(figsize=(20, 10))\n",
    "\n",
    "plt.hist(finalSimulation,facecolor='steelblue',bins=100, density=True,\n",
    "         histtype='stepfilled', edgecolor = 'black' , hatch = '+')\n",
    "\n",
    "plt.title('Rainfall Simulation')\n",
    "plt.xlabel('Rainfall Amount [mm]')\n",
    "plt.ylabel('Probability ')\n",
    "plt.grid()\n",
    "plt.show()"
   ]
  },
  {
   "cell_type": "markdown",
   "metadata": {},
   "source": [
    "# Financial Analysis"
   ]
  },
  {
   "cell_type": "code",
   "execution_count": 41,
   "metadata": {},
   "outputs": [],
   "source": [
    "def calculatePrice(strikePrice, interestRate, finalSimulationData):\n",
    "    \n",
    "    presentValueArray = [0]*len(finalSimulationData)\n",
    "    \n",
    "    for i in range(len(finalSimulationData)):\n",
    "        tempDiff = finalSimulationData[i]-strikePrice\n",
    "        \n",
    "        realDiff = max(0,tempDiff)\n",
    "        \n",
    "        presentValue = realDiff*np.exp(-interestRate/12)\n",
    "        \n",
    "        presentValueArray[i] = presentValue \n",
    "    \n",
    "    print('The option price should be: \\n ' , np.mean(presentValueArray))"
   ]
  },
  {
   "cell_type": "code",
   "execution_count": 42,
   "metadata": {},
   "outputs": [
    {
     "name": "stdout",
     "output_type": "stream",
     "text": [
      "The option price should be: \n",
      "  4.811110942406386\n"
     ]
    }
   ],
   "source": [
    "calculatePrice(50,0.20,finalSimulation)"
   ]
  },
  {
   "cell_type": "markdown",
   "metadata": {},
   "source": [
    "## Compare Data"
   ]
  },
  {
   "cell_type": "code",
   "execution_count": 35,
   "metadata": {},
   "outputs": [],
   "source": [
    "import pickle \n",
    "path = '../datasets'\n",
    "allDataDataframe = pickle.load(open(path+'/fullDataset/completeDailyDataset.pickle','rb'))"
   ]
  },
  {
   "cell_type": "code",
   "execution_count": 36,
   "metadata": {},
   "outputs": [
    {
     "data": {
      "text/html": [
       "<div>\n",
       "<style scoped>\n",
       "    .dataframe tbody tr th:only-of-type {\n",
       "        vertical-align: middle;\n",
       "    }\n",
       "\n",
       "    .dataframe tbody tr th {\n",
       "        vertical-align: top;\n",
       "    }\n",
       "\n",
       "    .dataframe thead th {\n",
       "        text-align: right;\n",
       "    }\n",
       "</style>\n",
       "<table border=\"1\" class=\"dataframe\">\n",
       "  <thead>\n",
       "    <tr style=\"text-align: right;\">\n",
       "      <th></th>\n",
       "      <th>Prep</th>\n",
       "      <th>Month</th>\n",
       "      <th>nino34</th>\n",
       "      <th>probNeutral</th>\n",
       "      <th>probNino</th>\n",
       "      <th>probNina</th>\n",
       "      <th>state</th>\n",
       "      <th>nextState</th>\n",
       "    </tr>\n",
       "  </thead>\n",
       "  <tbody>\n",
       "    <tr>\n",
       "      <th>2015-12-26</th>\n",
       "      <td>0</td>\n",
       "      <td>12</td>\n",
       "      <td>2.43192</td>\n",
       "      <td>0</td>\n",
       "      <td>1</td>\n",
       "      <td>0</td>\n",
       "      <td>0</td>\n",
       "      <td>0</td>\n",
       "    </tr>\n",
       "    <tr>\n",
       "      <th>2015-12-27</th>\n",
       "      <td>0</td>\n",
       "      <td>12</td>\n",
       "      <td>2.44873</td>\n",
       "      <td>0</td>\n",
       "      <td>1</td>\n",
       "      <td>0</td>\n",
       "      <td>0</td>\n",
       "      <td>0</td>\n",
       "    </tr>\n",
       "    <tr>\n",
       "      <th>2015-12-28</th>\n",
       "      <td>0</td>\n",
       "      <td>12</td>\n",
       "      <td>2.395</td>\n",
       "      <td>0</td>\n",
       "      <td>1</td>\n",
       "      <td>0</td>\n",
       "      <td>0</td>\n",
       "      <td>0</td>\n",
       "    </tr>\n",
       "    <tr>\n",
       "      <th>2015-12-29</th>\n",
       "      <td>0</td>\n",
       "      <td>12</td>\n",
       "      <td>2.42051</td>\n",
       "      <td>0</td>\n",
       "      <td>1</td>\n",
       "      <td>0</td>\n",
       "      <td>0</td>\n",
       "      <td>0</td>\n",
       "    </tr>\n",
       "    <tr>\n",
       "      <th>2015-12-30</th>\n",
       "      <td>0</td>\n",
       "      <td>12</td>\n",
       "      <td>2.36802</td>\n",
       "      <td>0</td>\n",
       "      <td>1</td>\n",
       "      <td>0</td>\n",
       "      <td>0</td>\n",
       "      <td>0</td>\n",
       "    </tr>\n",
       "  </tbody>\n",
       "</table>\n",
       "</div>"
      ],
      "text/plain": [
       "           Prep Month   nino34 probNeutral probNino probNina state nextState\n",
       "2015-12-26    0    12  2.43192           0        1        0     0         0\n",
       "2015-12-27    0    12  2.44873           0        1        0     0         0\n",
       "2015-12-28    0    12    2.395           0        1        0     0         0\n",
       "2015-12-29    0    12  2.42051           0        1        0     0         0\n",
       "2015-12-30    0    12  2.36802           0        1        0     0         0"
      ]
     },
     "execution_count": 36,
     "metadata": {},
     "output_type": "execute_result"
    }
   ],
   "source": [
    "allDataDataframe.tail()"
   ]
  },
  {
   "cell_type": "code",
   "execution_count": null,
   "metadata": {},
   "outputs": [
    {
     "name": "stderr",
     "output_type": "stream",
     "text": [
      "/usr/local/lib/python3.5/dist-packages/ipykernel_launcher.py:7: SettingWithCopyWarning: \n",
      "A value is trying to be set on a copy of a slice from a DataFrame\n",
      "\n",
      "See the caveats in the documentation: http://pandas.pydata.org/pandas-docs/stable/indexing.html#indexing-view-versus-copy\n",
      "  import sys\n"
     ]
    }
   ],
   "source": [
    "#### Define parameters simulation.\n",
    "\n",
    "# Simulations iterations.\n",
    "iterations = 1000\n",
    "\n",
    "# Create dataframe to simulate. \n",
    "simulationDataFrame = createTotalDataFrame(daysNumber= 30, startDate = '2011-06-01', initialState = 1 , initialPrep =  10, ensoForecast = ensoForecast)\n",
    "\n",
    "# Final Analysis.\n",
    "finalSimulation = totalRun(simulationDataFrame, transitionsParametersDry, transitionsParametersWet, amountParametersGamma,iterations)\n",
    "\n",
    "fig = plt.figure(figsize=(20, 10))\n",
    "\n",
    "plt.hist(finalSimulation,facecolor='steelblue',bins=100, density=True,\n",
    "         histtype='stepfilled', edgecolor = 'black' , hatch = '+')\n",
    "\n",
    "plt.title('Rainfall Simulation')\n",
    "plt.xlabel('Rainfall Amount [mm]')\n",
    "plt.ylabel('Probability ')\n",
    "plt.grid()\n",
    "plt.show()"
   ]
  },
  {
   "cell_type": "code",
   "execution_count": null,
   "metadata": {},
   "outputs": [],
   "source": [
    "allDataDataframe['2011-06-01':'2011-06-30']['state'].sum()"
   ]
  },
  {
   "cell_type": "code",
   "execution_count": null,
   "metadata": {},
   "outputs": [],
   "source": [
    "allDataDataframe['2011-06-01':'2011-06-30']['Prep'].sum()"
   ]
  },
  {
   "cell_type": "code",
   "execution_count": 28,
   "metadata": {},
   "outputs": [
    {
     "name": "stderr",
     "output_type": "stream",
     "text": [
      "/usr/local/lib/python3.5/dist-packages/ipykernel_launcher.py:1: DeprecationWarning: \n",
      ".ix is deprecated. Please use\n",
      ".loc for label based indexing or\n",
      ".iloc for positional indexing\n",
      "\n",
      "See the documentation here:\n",
      "http://pandas.pydata.org/pandas-docs/stable/indexing.html#ix-indexer-is-deprecated\n",
      "  \"\"\"Entry point for launching an IPython kernel.\n"
     ]
    },
    {
     "data": {
      "text/plain": [
       "Prep               2.6\n",
       "Month               10\n",
       "nino34         2.14768\n",
       "probNeutral          0\n",
       "probNino             1\n",
       "probNina             0\n",
       "state                1\n",
       "nextState            1\n",
       "Name: 2015-10-01, dtype: object"
      ]
     },
     "execution_count": 28,
     "metadata": {},
     "output_type": "execute_result"
    }
   ],
   "source": [
    "allDataDataframe.ix['2012-04-01']"
   ]
  },
  {
   "cell_type": "code",
   "execution_count": 34,
   "metadata": {},
   "outputs": [
    {
     "data": {
      "text/html": [
       "<div>\n",
       "<style scoped>\n",
       "    .dataframe tbody tr th:only-of-type {\n",
       "        vertical-align: middle;\n",
       "    }\n",
       "\n",
       "    .dataframe tbody tr th {\n",
       "        vertical-align: top;\n",
       "    }\n",
       "\n",
       "    .dataframe thead th {\n",
       "        text-align: right;\n",
       "    }\n",
       "</style>\n",
       "<table border=\"1\" class=\"dataframe\">\n",
       "  <thead>\n",
       "    <tr style=\"text-align: right;\">\n",
       "      <th></th>\n",
       "      <th>Prep</th>\n",
       "      <th>Month</th>\n",
       "      <th>nino34</th>\n",
       "      <th>probNeutral</th>\n",
       "      <th>probNino</th>\n",
       "      <th>probNina</th>\n",
       "      <th>state</th>\n",
       "      <th>nextState</th>\n",
       "    </tr>\n",
       "  </thead>\n",
       "  <tbody>\n",
       "    <tr>\n",
       "      <th>2012-04-01</th>\n",
       "      <td>0</td>\n",
       "      <td>4</td>\n",
       "      <td>-0.327419</td>\n",
       "      <td>0.88</td>\n",
       "      <td>0.02</td>\n",
       "      <td>0.1</td>\n",
       "      <td>0</td>\n",
       "      <td>0</td>\n",
       "    </tr>\n",
       "    <tr>\n",
       "      <th>2012-04-02</th>\n",
       "      <td>0</td>\n",
       "      <td>4</td>\n",
       "      <td>-0.241092</td>\n",
       "      <td>0.88</td>\n",
       "      <td>0.02</td>\n",
       "      <td>0.1</td>\n",
       "      <td>0</td>\n",
       "      <td>0</td>\n",
       "    </tr>\n",
       "    <tr>\n",
       "      <th>2012-04-03</th>\n",
       "      <td>0</td>\n",
       "      <td>4</td>\n",
       "      <td>-0.138925</td>\n",
       "      <td>0.88</td>\n",
       "      <td>0.02</td>\n",
       "      <td>0.1</td>\n",
       "      <td>0</td>\n",
       "      <td>0</td>\n",
       "    </tr>\n",
       "    <tr>\n",
       "      <th>2012-04-04</th>\n",
       "      <td>0</td>\n",
       "      <td>4</td>\n",
       "      <td>-0.251277</td>\n",
       "      <td>0.88</td>\n",
       "      <td>0.02</td>\n",
       "      <td>0.1</td>\n",
       "      <td>0</td>\n",
       "      <td>0</td>\n",
       "    </tr>\n",
       "    <tr>\n",
       "      <th>2012-04-05</th>\n",
       "      <td>0</td>\n",
       "      <td>4</td>\n",
       "      <td>-0.325644</td>\n",
       "      <td>0.88</td>\n",
       "      <td>0.02</td>\n",
       "      <td>0.1</td>\n",
       "      <td>0</td>\n",
       "      <td>1</td>\n",
       "    </tr>\n",
       "    <tr>\n",
       "      <th>2012-04-06</th>\n",
       "      <td>6</td>\n",
       "      <td>4</td>\n",
       "      <td>-0.395549</td>\n",
       "      <td>0.88</td>\n",
       "      <td>0.02</td>\n",
       "      <td>0.1</td>\n",
       "      <td>1</td>\n",
       "      <td>1</td>\n",
       "    </tr>\n",
       "    <tr>\n",
       "      <th>2012-04-07</th>\n",
       "      <td>3.4</td>\n",
       "      <td>4</td>\n",
       "      <td>-0.492909</td>\n",
       "      <td>0.88</td>\n",
       "      <td>0.02</td>\n",
       "      <td>0.1</td>\n",
       "      <td>1</td>\n",
       "      <td>1</td>\n",
       "    </tr>\n",
       "    <tr>\n",
       "      <th>2012-04-08</th>\n",
       "      <td>8.6</td>\n",
       "      <td>4</td>\n",
       "      <td>-0.511054</td>\n",
       "      <td>0.88</td>\n",
       "      <td>0.02</td>\n",
       "      <td>0.1</td>\n",
       "      <td>1</td>\n",
       "      <td>1</td>\n",
       "    </tr>\n",
       "    <tr>\n",
       "      <th>2012-04-09</th>\n",
       "      <td>1.5</td>\n",
       "      <td>4</td>\n",
       "      <td>-0.434751</td>\n",
       "      <td>0.88</td>\n",
       "      <td>0.02</td>\n",
       "      <td>0.1</td>\n",
       "      <td>1</td>\n",
       "      <td>1</td>\n",
       "    </tr>\n",
       "    <tr>\n",
       "      <th>2012-04-10</th>\n",
       "      <td>56.8</td>\n",
       "      <td>4</td>\n",
       "      <td>-0.403892</td>\n",
       "      <td>0.88</td>\n",
       "      <td>0.02</td>\n",
       "      <td>0.1</td>\n",
       "      <td>1</td>\n",
       "      <td>1</td>\n",
       "    </tr>\n",
       "    <tr>\n",
       "      <th>2012-04-11</th>\n",
       "      <td>31.5</td>\n",
       "      <td>4</td>\n",
       "      <td>-0.464456</td>\n",
       "      <td>0.88</td>\n",
       "      <td>0.02</td>\n",
       "      <td>0.1</td>\n",
       "      <td>1</td>\n",
       "      <td>1</td>\n",
       "    </tr>\n",
       "    <tr>\n",
       "      <th>2012-04-12</th>\n",
       "      <td>7</td>\n",
       "      <td>4</td>\n",
       "      <td>-0.553769</td>\n",
       "      <td>0.88</td>\n",
       "      <td>0.02</td>\n",
       "      <td>0.1</td>\n",
       "      <td>1</td>\n",
       "      <td>1</td>\n",
       "    </tr>\n",
       "    <tr>\n",
       "      <th>2012-04-13</th>\n",
       "      <td>0.6</td>\n",
       "      <td>4</td>\n",
       "      <td>-0.625848</td>\n",
       "      <td>0.88</td>\n",
       "      <td>0.02</td>\n",
       "      <td>0.1</td>\n",
       "      <td>1</td>\n",
       "      <td>1</td>\n",
       "    </tr>\n",
       "    <tr>\n",
       "      <th>2012-04-14</th>\n",
       "      <td>27.4</td>\n",
       "      <td>4</td>\n",
       "      <td>-0.611329</td>\n",
       "      <td>0.88</td>\n",
       "      <td>0.02</td>\n",
       "      <td>0.1</td>\n",
       "      <td>1</td>\n",
       "      <td>1</td>\n",
       "    </tr>\n",
       "    <tr>\n",
       "      <th>2012-04-15</th>\n",
       "      <td>4</td>\n",
       "      <td>4</td>\n",
       "      <td>-0.581445</td>\n",
       "      <td>0.88</td>\n",
       "      <td>0.02</td>\n",
       "      <td>0.1</td>\n",
       "      <td>1</td>\n",
       "      <td>1</td>\n",
       "    </tr>\n",
       "    <tr>\n",
       "      <th>2012-04-16</th>\n",
       "      <td>8.7</td>\n",
       "      <td>4</td>\n",
       "      <td>-0.608696</td>\n",
       "      <td>0.88</td>\n",
       "      <td>0.02</td>\n",
       "      <td>0.1</td>\n",
       "      <td>1</td>\n",
       "      <td>1</td>\n",
       "    </tr>\n",
       "    <tr>\n",
       "      <th>2012-04-17</th>\n",
       "      <td>0.2</td>\n",
       "      <td>4</td>\n",
       "      <td>-0.595064</td>\n",
       "      <td>0.88</td>\n",
       "      <td>0.02</td>\n",
       "      <td>0.1</td>\n",
       "      <td>1</td>\n",
       "      <td>0</td>\n",
       "    </tr>\n",
       "    <tr>\n",
       "      <th>2012-04-18</th>\n",
       "      <td>0</td>\n",
       "      <td>4</td>\n",
       "      <td>-0.542932</td>\n",
       "      <td>0.88</td>\n",
       "      <td>0.02</td>\n",
       "      <td>0.1</td>\n",
       "      <td>0</td>\n",
       "      <td>1</td>\n",
       "    </tr>\n",
       "    <tr>\n",
       "      <th>2012-04-19</th>\n",
       "      <td>0.1</td>\n",
       "      <td>4</td>\n",
       "      <td>-0.479534</td>\n",
       "      <td>0.88</td>\n",
       "      <td>0.02</td>\n",
       "      <td>0.1</td>\n",
       "      <td>1</td>\n",
       "      <td>1</td>\n",
       "    </tr>\n",
       "    <tr>\n",
       "      <th>2012-04-20</th>\n",
       "      <td>39.3</td>\n",
       "      <td>4</td>\n",
       "      <td>-0.442565</td>\n",
       "      <td>0.88</td>\n",
       "      <td>0.02</td>\n",
       "      <td>0.1</td>\n",
       "      <td>1</td>\n",
       "      <td>1</td>\n",
       "    </tr>\n",
       "    <tr>\n",
       "      <th>2012-04-21</th>\n",
       "      <td>8.4</td>\n",
       "      <td>4</td>\n",
       "      <td>-0.407027</td>\n",
       "      <td>0.88</td>\n",
       "      <td>0.02</td>\n",
       "      <td>0.1</td>\n",
       "      <td>1</td>\n",
       "      <td>1</td>\n",
       "    </tr>\n",
       "    <tr>\n",
       "      <th>2012-04-22</th>\n",
       "      <td>2.8</td>\n",
       "      <td>4</td>\n",
       "      <td>-0.340395</td>\n",
       "      <td>0.88</td>\n",
       "      <td>0.02</td>\n",
       "      <td>0.1</td>\n",
       "      <td>1</td>\n",
       "      <td>1</td>\n",
       "    </tr>\n",
       "    <tr>\n",
       "      <th>2012-04-23</th>\n",
       "      <td>3.4</td>\n",
       "      <td>4</td>\n",
       "      <td>-0.282242</td>\n",
       "      <td>0.88</td>\n",
       "      <td>0.02</td>\n",
       "      <td>0.1</td>\n",
       "      <td>1</td>\n",
       "      <td>0</td>\n",
       "    </tr>\n",
       "    <tr>\n",
       "      <th>2012-04-24</th>\n",
       "      <td>0</td>\n",
       "      <td>4</td>\n",
       "      <td>-0.261688</td>\n",
       "      <td>0.88</td>\n",
       "      <td>0.02</td>\n",
       "      <td>0.1</td>\n",
       "      <td>0</td>\n",
       "      <td>0</td>\n",
       "    </tr>\n",
       "    <tr>\n",
       "      <th>2012-04-25</th>\n",
       "      <td>0</td>\n",
       "      <td>4</td>\n",
       "      <td>-0.187668</td>\n",
       "      <td>0.88</td>\n",
       "      <td>0.02</td>\n",
       "      <td>0.1</td>\n",
       "      <td>0</td>\n",
       "      <td>1</td>\n",
       "    </tr>\n",
       "    <tr>\n",
       "      <th>2012-04-26</th>\n",
       "      <td>1.9</td>\n",
       "      <td>4</td>\n",
       "      <td>-0.194833</td>\n",
       "      <td>0.88</td>\n",
       "      <td>0.02</td>\n",
       "      <td>0.1</td>\n",
       "      <td>1</td>\n",
       "      <td>1</td>\n",
       "    </tr>\n",
       "    <tr>\n",
       "      <th>2012-04-27</th>\n",
       "      <td>1.5</td>\n",
       "      <td>4</td>\n",
       "      <td>-0.227768</td>\n",
       "      <td>0.88</td>\n",
       "      <td>0.02</td>\n",
       "      <td>0.1</td>\n",
       "      <td>1</td>\n",
       "      <td>1</td>\n",
       "    </tr>\n",
       "    <tr>\n",
       "      <th>2012-04-28</th>\n",
       "      <td>2.6</td>\n",
       "      <td>4</td>\n",
       "      <td>-0.205639</td>\n",
       "      <td>0.88</td>\n",
       "      <td>0.02</td>\n",
       "      <td>0.1</td>\n",
       "      <td>1</td>\n",
       "      <td>1</td>\n",
       "    </tr>\n",
       "    <tr>\n",
       "      <th>2012-04-29</th>\n",
       "      <td>0.3</td>\n",
       "      <td>4</td>\n",
       "      <td>-0.223231</td>\n",
       "      <td>0.88</td>\n",
       "      <td>0.02</td>\n",
       "      <td>0.1</td>\n",
       "      <td>1</td>\n",
       "      <td>1</td>\n",
       "    </tr>\n",
       "    <tr>\n",
       "      <th>2012-04-30</th>\n",
       "      <td>16.3</td>\n",
       "      <td>4</td>\n",
       "      <td>-0.259688</td>\n",
       "      <td>0.88</td>\n",
       "      <td>0.02</td>\n",
       "      <td>0.1</td>\n",
       "      <td>1</td>\n",
       "      <td>1</td>\n",
       "    </tr>\n",
       "  </tbody>\n",
       "</table>\n",
       "</div>"
      ],
      "text/plain": [
       "            Prep Month    nino34 probNeutral probNino probNina state nextState\n",
       "2012-04-01     0     4 -0.327419        0.88     0.02      0.1     0         0\n",
       "2012-04-02     0     4 -0.241092        0.88     0.02      0.1     0         0\n",
       "2012-04-03     0     4 -0.138925        0.88     0.02      0.1     0         0\n",
       "2012-04-04     0     4 -0.251277        0.88     0.02      0.1     0         0\n",
       "2012-04-05     0     4 -0.325644        0.88     0.02      0.1     0         1\n",
       "2012-04-06     6     4 -0.395549        0.88     0.02      0.1     1         1\n",
       "2012-04-07   3.4     4 -0.492909        0.88     0.02      0.1     1         1\n",
       "2012-04-08   8.6     4 -0.511054        0.88     0.02      0.1     1         1\n",
       "2012-04-09   1.5     4 -0.434751        0.88     0.02      0.1     1         1\n",
       "2012-04-10  56.8     4 -0.403892        0.88     0.02      0.1     1         1\n",
       "2012-04-11  31.5     4 -0.464456        0.88     0.02      0.1     1         1\n",
       "2012-04-12     7     4 -0.553769        0.88     0.02      0.1     1         1\n",
       "2012-04-13   0.6     4 -0.625848        0.88     0.02      0.1     1         1\n",
       "2012-04-14  27.4     4 -0.611329        0.88     0.02      0.1     1         1\n",
       "2012-04-15     4     4 -0.581445        0.88     0.02      0.1     1         1\n",
       "2012-04-16   8.7     4 -0.608696        0.88     0.02      0.1     1         1\n",
       "2012-04-17   0.2     4 -0.595064        0.88     0.02      0.1     1         0\n",
       "2012-04-18     0     4 -0.542932        0.88     0.02      0.1     0         1\n",
       "2012-04-19   0.1     4 -0.479534        0.88     0.02      0.1     1         1\n",
       "2012-04-20  39.3     4 -0.442565        0.88     0.02      0.1     1         1\n",
       "2012-04-21   8.4     4 -0.407027        0.88     0.02      0.1     1         1\n",
       "2012-04-22   2.8     4 -0.340395        0.88     0.02      0.1     1         1\n",
       "2012-04-23   3.4     4 -0.282242        0.88     0.02      0.1     1         0\n",
       "2012-04-24     0     4 -0.261688        0.88     0.02      0.1     0         0\n",
       "2012-04-25     0     4 -0.187668        0.88     0.02      0.1     0         1\n",
       "2012-04-26   1.9     4 -0.194833        0.88     0.02      0.1     1         1\n",
       "2012-04-27   1.5     4 -0.227768        0.88     0.02      0.1     1         1\n",
       "2012-04-28   2.6     4 -0.205639        0.88     0.02      0.1     1         1\n",
       "2012-04-29   0.3     4 -0.223231        0.88     0.02      0.1     1         1\n",
       "2012-04-30  16.3     4 -0.259688        0.88     0.02      0.1     1         1"
      ]
     },
     "execution_count": 34,
     "metadata": {},
     "output_type": "execute_result"
    }
   ],
   "source": [
    "allDataDataframe['2012-04-01':'2012-04-30']"
   ]
  },
  {
   "cell_type": "code",
   "execution_count": 47,
   "metadata": {},
   "outputs": [
    {
     "data": {
      "text/plain": [
       "15.031375437498246"
      ]
     },
     "execution_count": 47,
     "metadata": {},
     "output_type": "execute_result"
    }
   ],
   "source": [
    "bbbb = gamma.rvs(a = 5, scale = 3,size = 10000)\n",
    "np.mean(bbbb)"
   ]
  },
  {
   "cell_type": "code",
   "execution_count": 48,
   "metadata": {},
   "outputs": [
    {
     "data": {
      "text/plain": [
       "44.11103067660477"
      ]
     },
     "execution_count": 48,
     "metadata": {},
     "output_type": "execute_result"
    }
   ],
   "source": [
    "np.var(bbbb)"
   ]
  },
  {
   "cell_type": "code",
   "execution_count": null,
   "metadata": {},
   "outputs": [],
   "source": []
  }
 ],
 "metadata": {
  "kernelspec": {
   "display_name": "Python 3",
   "language": "python",
   "name": "python3"
  },
  "language_info": {
   "codemirror_mode": {
    "name": "ipython",
    "version": 3
   },
   "file_extension": ".py",
   "mimetype": "text/x-python",
   "name": "python",
   "nbconvert_exporter": "python",
   "pygments_lexer": "ipython3",
   "version": "3.5.2"
  }
 },
 "nbformat": 4,
 "nbformat_minor": 2
}
