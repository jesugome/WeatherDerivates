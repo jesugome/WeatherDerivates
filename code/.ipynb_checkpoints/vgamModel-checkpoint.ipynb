{
 "cells": [
  {
   "cell_type": "markdown",
   "metadata": {},
   "source": [
    "<h1><font size=12>\n",
    "Weather Derivatites </h1>\n",
    "<h1> Vgam Model - Parameters Estimation <br></h1>\n",
    "\n",
    "Developed by [Jesus Solano](mailto:ja.solano588@uniandes.edu.co) <br>  \n",
    "5 October 2018 \n"
   ]
  },
  {
   "cell_type": "code",
   "execution_count": 1,
   "metadata": {},
   "outputs": [],
   "source": [
    "# Load fulldataset \n",
    "\n",
    "allData <- read.csv(file='../datasets/fullDataset/completeDailyDataset.csv', header=TRUE, sep=\",\", row.names = 'X' ) \n",
    "myData <- read.csv(file='../datasets/fullDataset/completeDailyDataset.csv', header=TRUE, sep=\",\") "
   ]
  },
  {
   "cell_type": "code",
   "execution_count": 2,
   "metadata": {},
   "outputs": [
    {
     "data": {
      "text/html": [
       "<table>\n",
       "<thead><tr><th scope=col>X</th><th scope=col>Prep</th><th scope=col>Month</th><th scope=col>nino34</th><th scope=col>probNeutral</th><th scope=col>probNino</th><th scope=col>state</th><th scope=col>nextState</th></tr></thead>\n",
       "<tbody>\n",
       "\t<tr><td>2005-01-01</td><td>0.0       </td><td>1         </td><td>0.6061863 </td><td>0.15      </td><td>0.85      </td><td>0         </td><td>0         </td></tr>\n",
       "\t<tr><td>2005-01-02</td><td>0.0       </td><td>1         </td><td>0.5993582 </td><td>0.15      </td><td>0.85      </td><td>0         </td><td>0         </td></tr>\n",
       "\t<tr><td>2005-01-03</td><td>0.0       </td><td>1         </td><td>0.6467837 </td><td>0.15      </td><td>0.85      </td><td>0         </td><td>1         </td></tr>\n",
       "\t<tr><td>2005-01-04</td><td>1.6       </td><td>1         </td><td>0.6636958 </td><td>0.15      </td><td>0.85      </td><td>1         </td><td>0         </td></tr>\n",
       "\t<tr><td>2005-01-05</td><td>0.0       </td><td>1         </td><td>0.7113302 </td><td>0.15      </td><td>0.85      </td><td>0         </td><td>0         </td></tr>\n",
       "\t<tr><td>2005-01-06</td><td>0.0       </td><td>1         </td><td>0.6791847 </td><td>0.15      </td><td>0.85      </td><td>0         </td><td>0         </td></tr>\n",
       "</tbody>\n",
       "</table>\n"
      ],
      "text/latex": [
       "\\begin{tabular}{r|llllllll}\n",
       " X & Prep & Month & nino34 & probNeutral & probNino & state & nextState\\\\\n",
       "\\hline\n",
       "\t 2005-01-01 & 0.0        & 1          & 0.6061863  & 0.15       & 0.85       & 0          & 0         \\\\\n",
       "\t 2005-01-02 & 0.0        & 1          & 0.5993582  & 0.15       & 0.85       & 0          & 0         \\\\\n",
       "\t 2005-01-03 & 0.0        & 1          & 0.6467837  & 0.15       & 0.85       & 0          & 1         \\\\\n",
       "\t 2005-01-04 & 1.6        & 1          & 0.6636958  & 0.15       & 0.85       & 1          & 0         \\\\\n",
       "\t 2005-01-05 & 0.0        & 1          & 0.7113302  & 0.15       & 0.85       & 0          & 0         \\\\\n",
       "\t 2005-01-06 & 0.0        & 1          & 0.6791847  & 0.15       & 0.85       & 0          & 0         \\\\\n",
       "\\end{tabular}\n"
      ],
      "text/markdown": [
       "\n",
       "X | Prep | Month | nino34 | probNeutral | probNino | state | nextState | \n",
       "|---|---|---|---|---|---|\n",
       "| 2005-01-01 | 0.0        | 1          | 0.6061863  | 0.15       | 0.85       | 0          | 0          | \n",
       "| 2005-01-02 | 0.0        | 1          | 0.5993582  | 0.15       | 0.85       | 0          | 0          | \n",
       "| 2005-01-03 | 0.0        | 1          | 0.6467837  | 0.15       | 0.85       | 0          | 1          | \n",
       "| 2005-01-04 | 1.6        | 1          | 0.6636958  | 0.15       | 0.85       | 1          | 0          | \n",
       "| 2005-01-05 | 0.0        | 1          | 0.7113302  | 0.15       | 0.85       | 0          | 0          | \n",
       "| 2005-01-06 | 0.0        | 1          | 0.6791847  | 0.15       | 0.85       | 0          | 0          | \n",
       "\n",
       "\n"
      ],
      "text/plain": [
       "  X          Prep Month nino34    probNeutral probNino state nextState\n",
       "1 2005-01-01 0.0  1     0.6061863 0.15        0.85     0     0        \n",
       "2 2005-01-02 0.0  1     0.5993582 0.15        0.85     0     0        \n",
       "3 2005-01-03 0.0  1     0.6467837 0.15        0.85     0     1        \n",
       "4 2005-01-04 1.6  1     0.6636958 0.15        0.85     1     0        \n",
       "5 2005-01-05 0.0  1     0.7113302 0.15        0.85     0     0        \n",
       "6 2005-01-06 0.0  1     0.6791847 0.15        0.85     0     0        "
      ]
     },
     "metadata": {},
     "output_type": "display_data"
    }
   ],
   "source": [
    "# Show a preview of dataset.\n",
    "head(myData)"
   ]
  },
  {
   "cell_type": "code",
   "execution_count": 7,
   "metadata": {},
   "outputs": [
    {
     "data": {
      "text/plain": [
       "      Prep            Month          nino34          probNeutral    \n",
       " Min.   : 0.000   1      : 341   Min.   :-2.02452   Min.   :0.0000  \n",
       " 1st Qu.: 0.000   3      : 341   1st Qu.:-0.57617   1st Qu.:0.1400  \n",
       " Median : 0.200   5      : 341   Median :-0.01589   Median :0.4400  \n",
       " Mean   : 2.781   7      : 341   Mean   : 0.04185   Mean   :0.4604  \n",
       " 3rd Qu.: 2.700   8      : 341   3rd Qu.: 0.55833   3rd Qu.:0.7500  \n",
       " Max.   :78.500   10     : 341   Max.   : 3.28767   Max.   :1.0000  \n",
       "                  (Other):1970                                      \n",
       "    probNino      state    nextState\n",
       " Min.   :0.0000   0:1741   0:1741   \n",
       " 1st Qu.:0.0100   1:2275   1:2275   \n",
       " Median :0.0500                     \n",
       " Mean   :0.2895                     \n",
       " 3rd Qu.:0.5900                     \n",
       " Max.   :1.0000                     \n",
       "                                    "
      ]
     },
     "metadata": {},
     "output_type": "display_data"
    }
   ],
   "source": [
    "# Split dataset into dry and wet days.\n",
    "\n",
    "allData$nextState=as.factor(allData$nextState)\n",
    "allData$state=as.factor(allData$state)\n",
    "allData$Month=as.factor(allData$Month)\n",
    "\n",
    "\n",
    "dryDays <- allData[allData$state == 0,]\n",
    "wetDays <- allData[allData$state == 1,]\n",
    "\n",
    "summary(allData)\n"
   ]
  },
  {
   "cell_type": "code",
   "execution_count": 8,
   "metadata": {},
   "outputs": [],
   "source": [
    "# Apply vgam model for transitions. \n",
    "library(VGAM)\n",
    "\n",
    "# La siguiente es la ideal pero por correlaciones no fucniona.\n",
    "# vglm(nextState ~ Prep + Month +nino34 + probNeutral + probNino, data=dryDays ,family = binomialff())\n",
    "\n"
   ]
  },
  {
   "cell_type": "code",
   "execution_count": 11,
   "metadata": {},
   "outputs": [
    {
     "data": {
      "text/plain": [
       "\n",
       "Call:  glm(formula = nextState ~ Month + probNeutral + probNino, family = binomial, \n",
       "    data = dryDays)\n",
       "\n",
       "Coefficients:\n",
       "(Intercept)       Month2       Month3       Month4       Month5       Month6  \n",
       "    -0.9911       0.3466       0.8488       1.5630       1.5674       1.1324  \n",
       "     Month7       Month8       Month9      Month10      Month11      Month12  \n",
       "     1.3110       1.4327       0.9249       1.5876       1.3565       0.5184  \n",
       "probNeutral     probNino  \n",
       "    -0.1767      -0.6303  \n",
       "\n",
       "Degrees of Freedom: 1740 Total (i.e. Null);  1727 Residual\n",
       "Null Deviance:\t    2369 \n",
       "Residual Deviance: 2249 \tAIC: 2277"
      ]
     },
     "metadata": {},
     "output_type": "display_data"
    }
   ],
   "source": [
    "# Fit to dryDays (Transitions)\n",
    "fitDry = glm(nextState ~ Month  + probNeutral + probNino, data=dryDays ,family = binomial)\n",
    "fitDry"
   ]
  },
  {
   "cell_type": "code",
   "execution_count": null,
   "metadata": {},
   "outputs": [],
   "source": []
  },
  {
   "cell_type": "code",
   "execution_count": 10,
   "metadata": {},
   "outputs": [
    {
     "data": {
      "text/html": [
       "<dl class=dl-horizontal>\n",
       "\t<dt>(Intercept)</dt>\n",
       "\t\t<dd>-0.99106648485256</dd>\n",
       "\t<dt>Month2</dt>\n",
       "\t\t<dd>0.346646274919159</dd>\n",
       "\t<dt>Month3</dt>\n",
       "\t\t<dd>0.848788366796289</dd>\n",
       "\t<dt>Month4</dt>\n",
       "\t\t<dd>1.5630193680544</dd>\n",
       "\t<dt>Month5</dt>\n",
       "\t\t<dd>1.56741835366667</dd>\n",
       "\t<dt>Month6</dt>\n",
       "\t\t<dd>1.13242537234851</dd>\n",
       "\t<dt>Month7</dt>\n",
       "\t\t<dd>1.31102065355619</dd>\n",
       "\t<dt>Month8</dt>\n",
       "\t\t<dd>1.43272739387901</dd>\n",
       "\t<dt>Month9</dt>\n",
       "\t\t<dd>0.924879296160024</dd>\n",
       "\t<dt>Month10</dt>\n",
       "\t\t<dd>1.5875859592788</dd>\n",
       "\t<dt>Month11</dt>\n",
       "\t\t<dd>1.35650845522659</dd>\n",
       "\t<dt>Month12</dt>\n",
       "\t\t<dd>0.518435096334732</dd>\n",
       "\t<dt>probNeutral</dt>\n",
       "\t\t<dd>-0.176726446673743</dd>\n",
       "\t<dt>probNino</dt>\n",
       "\t\t<dd>-0.630347372724259</dd>\n",
       "</dl>\n"
      ],
      "text/latex": [
       "\\begin{description*}\n",
       "\\item[(Intercept)] -0.99106648485256\n",
       "\\item[Month2] 0.346646274919159\n",
       "\\item[Month3] 0.848788366796289\n",
       "\\item[Month4] 1.5630193680544\n",
       "\\item[Month5] 1.56741835366667\n",
       "\\item[Month6] 1.13242537234851\n",
       "\\item[Month7] 1.31102065355619\n",
       "\\item[Month8] 1.43272739387901\n",
       "\\item[Month9] 0.924879296160024\n",
       "\\item[Month10] 1.5875859592788\n",
       "\\item[Month11] 1.35650845522659\n",
       "\\item[Month12] 0.518435096334732\n",
       "\\item[probNeutral] -0.176726446673743\n",
       "\\item[probNino] -0.630347372724259\n",
       "\\end{description*}\n"
      ],
      "text/markdown": [
       "(Intercept)\n",
       ":   -0.99106648485256Month2\n",
       ":   0.346646274919159Month3\n",
       ":   0.848788366796289Month4\n",
       ":   1.5630193680544Month5\n",
       ":   1.56741835366667Month6\n",
       ":   1.13242537234851Month7\n",
       ":   1.31102065355619Month8\n",
       ":   1.43272739387901Month9\n",
       ":   0.924879296160024Month10\n",
       ":   1.5875859592788Month11\n",
       ":   1.35650845522659Month12\n",
       ":   0.518435096334732probNeutral\n",
       ":   -0.176726446673743probNino\n",
       ":   -0.630347372724259\n",
       "\n"
      ],
      "text/plain": [
       "(Intercept)      Month2      Month3      Month4      Month5      Month6 \n",
       " -0.9910665   0.3466463   0.8487884   1.5630194   1.5674184   1.1324254 \n",
       "     Month7      Month8      Month9     Month10     Month11     Month12 \n",
       "  1.3110207   1.4327274   0.9248793   1.5875860   1.3565085   0.5184351 \n",
       "probNeutral    probNino \n",
       " -0.1767264  -0.6303474 "
      ]
     },
     "metadata": {},
     "output_type": "display_data"
    }
   ],
   "source": [
    "coef(fitDry)"
   ]
  },
  {
   "cell_type": "code",
   "execution_count": null,
   "metadata": {},
   "outputs": [],
   "source": [
    "summary(fitW)"
   ]
  },
  {
   "cell_type": "code",
   "execution_count": 81,
   "metadata": {
    "scrolled": true
   },
   "outputs": [
    {
     "data": {
      "text/plain": [
       "\n",
       "Call:\n",
       "vgam(formula = nextState ~ Prep + Month + nino34 + probNino + \n",
       "    probNeutral, family = binomialff(), data = wetDays)\n",
       "\n",
       "\n",
       "Degrees of Freedom: 2275 Total; 2269 Residual\n",
       "Residual deviance: 2807.628 \n",
       "Log-likelihood: -1403.814 "
      ]
     },
     "metadata": {},
     "output_type": "display_data"
    }
   ],
   "source": [
    "# Fit to wetDays (Transitions)\n",
    "fitWet = vgam(nextState ~ Prep + Month +nino34+probNino+probNeutral, data=wetDays ,family = binomialff())\n",
    "fitWet"
   ]
  },
  {
   "cell_type": "code",
   "execution_count": 82,
   "metadata": {},
   "outputs": [
    {
     "data": {
      "text/html": [
       "<dl class=dl-horizontal>\n",
       "\t<dt>(Intercept)</dt>\n",
       "\t\t<dd>1.43031706589754</dd>\n",
       "\t<dt>Prep</dt>\n",
       "\t\t<dd>0.036494519080984</dd>\n",
       "\t<dt>Month</dt>\n",
       "\t\t<dd>-0.0179815760482465</dd>\n",
       "\t<dt>nino34</dt>\n",
       "\t\t<dd>0.322168782210966</dd>\n",
       "\t<dt>probNino</dt>\n",
       "\t\t<dd>-1.23149483110769</dd>\n",
       "\t<dt>probNeutral</dt>\n",
       "\t\t<dd>-0.847519152251372</dd>\n",
       "</dl>\n"
      ],
      "text/latex": [
       "\\begin{description*}\n",
       "\\item[(Intercept)] 1.43031706589754\n",
       "\\item[Prep] 0.036494519080984\n",
       "\\item[Month] -0.0179815760482465\n",
       "\\item[nino34] 0.322168782210966\n",
       "\\item[probNino] -1.23149483110769\n",
       "\\item[probNeutral] -0.847519152251372\n",
       "\\end{description*}\n"
      ],
      "text/markdown": [
       "(Intercept)\n",
       ":   1.43031706589754Prep\n",
       ":   0.036494519080984Month\n",
       ":   -0.0179815760482465nino34\n",
       ":   0.322168782210966probNino\n",
       ":   -1.23149483110769probNeutral\n",
       ":   -0.847519152251372\n",
       "\n"
      ],
      "text/plain": [
       "(Intercept)        Prep       Month      nino34    probNino probNeutral \n",
       " 1.43031707  0.03649452 -0.01798158  0.32216878 -1.23149483 -0.84751915 "
      ]
     },
     "metadata": {},
     "output_type": "display_data"
    }
   ],
   "source": [
    "coef(fitWet)"
   ]
  },
  {
   "cell_type": "markdown",
   "metadata": {},
   "source": [
    "## Review Input Data"
   ]
  },
  {
   "cell_type": "code",
   "execution_count": 35,
   "metadata": {},
   "outputs": [
    {
     "data": {
      "text/html": [
       "<table>\n",
       "<thead><tr><th></th><th scope=col>Prep</th><th scope=col>Month</th><th scope=col>nino34</th><th scope=col>probNeutral</th><th scope=col>probNino</th></tr></thead>\n",
       "<tbody>\n",
       "\t<tr><th scope=row>Prep</th><td> 1.00000000</td><td> 0.02737880</td><td>-0.08380009</td><td> 0.04517260</td><td>-0.1153749 </td></tr>\n",
       "\t<tr><th scope=row>Month</th><td> 0.02737880</td><td> 1.00000000</td><td> 0.19838837</td><td>-0.08863285</td><td> 0.1474402 </td></tr>\n",
       "\t<tr><th scope=row>nino34</th><td>-0.08380009</td><td> 0.19838837</td><td> 1.00000000</td><td>-0.18957436</td><td> 0.8411257 </td></tr>\n",
       "\t<tr><th scope=row>probNeutral</th><td> 0.04517260</td><td>-0.08863285</td><td>-0.18957436</td><td> 1.00000000</td><td>-0.5310060 </td></tr>\n",
       "\t<tr><th scope=row>probNino</th><td>-0.11537493</td><td> 0.14744020</td><td> 0.84112566</td><td>-0.53100596</td><td> 1.0000000 </td></tr>\n",
       "</tbody>\n",
       "</table>\n"
      ],
      "text/latex": [
       "\\begin{tabular}{r|lllll}\n",
       "  & Prep & Month & nino34 & probNeutral & probNino\\\\\n",
       "\\hline\n",
       "\tPrep &  1.00000000 &  0.02737880 & -0.08380009 &  0.04517260 & -0.1153749 \\\\\n",
       "\tMonth &  0.02737880 &  1.00000000 &  0.19838837 & -0.08863285 &  0.1474402 \\\\\n",
       "\tnino34 & -0.08380009 &  0.19838837 &  1.00000000 & -0.18957436 &  0.8411257 \\\\\n",
       "\tprobNeutral &  0.04517260 & -0.08863285 & -0.18957436 &  1.00000000 & -0.5310060 \\\\\n",
       "\tprobNino & -0.11537493 &  0.14744020 &  0.84112566 & -0.53100596 &  1.0000000 \\\\\n",
       "\\end{tabular}\n"
      ],
      "text/markdown": [
       "\n",
       "| <!--/--> | Prep | Month | nino34 | probNeutral | probNino | \n",
       "|---|---|---|---|---|\n",
       "| Prep |  1.00000000 |  0.02737880 | -0.08380009 |  0.04517260 | -0.1153749  | \n",
       "| Month |  0.02737880 |  1.00000000 |  0.19838837 | -0.08863285 |  0.1474402  | \n",
       "| nino34 | -0.08380009 |  0.19838837 |  1.00000000 | -0.18957436 |  0.8411257  | \n",
       "| probNeutral |  0.04517260 | -0.08863285 | -0.18957436 |  1.00000000 | -0.5310060  | \n",
       "| probNino | -0.11537493 |  0.14744020 |  0.84112566 | -0.53100596 |  1.0000000  | \n",
       "\n",
       "\n"
      ],
      "text/plain": [
       "            Prep        Month       nino34      probNeutral probNino  \n",
       "Prep         1.00000000  0.02737880 -0.08380009  0.04517260 -0.1153749\n",
       "Month        0.02737880  1.00000000  0.19838837 -0.08863285  0.1474402\n",
       "nino34      -0.08380009  0.19838837  1.00000000 -0.18957436  0.8411257\n",
       "probNeutral  0.04517260 -0.08863285 -0.18957436  1.00000000 -0.5310060\n",
       "probNino    -0.11537493  0.14744020  0.84112566 -0.53100596  1.0000000"
      ]
     },
     "metadata": {},
     "output_type": "display_data"
    }
   ],
   "source": [
    "cor(allData[,1:5], method = c(\"pearson\", \"kendall\", \"spearman\"))"
   ]
  },
  {
   "cell_type": "code",
   "execution_count": 45,
   "metadata": {},
   "outputs": [
    {
     "data": {
      "text/html": [
       "<table>\n",
       "<thead><tr><th></th><th scope=col>Month</th><th scope=col>nino34</th><th scope=col>probNeutral</th><th scope=col>probNino</th></tr></thead>\n",
       "<tbody>\n",
       "\t<tr><th scope=row>Month</th><td> 1.00000000</td><td> 0.2620895 </td><td>-0.02423478</td><td> 0.1566853 </td></tr>\n",
       "\t<tr><th scope=row>nino34</th><td> 0.26208950</td><td> 1.0000000 </td><td>-0.25411784</td><td> 0.8378201 </td></tr>\n",
       "\t<tr><th scope=row>probNeutral</th><td>-0.02423478</td><td>-0.2541178 </td><td> 1.00000000</td><td>-0.5793464 </td></tr>\n",
       "\t<tr><th scope=row>probNino</th><td> 0.15668526</td><td> 0.8378201 </td><td>-0.57934635</td><td> 1.0000000 </td></tr>\n",
       "</tbody>\n",
       "</table>\n"
      ],
      "text/latex": [
       "\\begin{tabular}{r|llll}\n",
       "  & Month & nino34 & probNeutral & probNino\\\\\n",
       "\\hline\n",
       "\tMonth &  1.00000000 &  0.2620895  & -0.02423478 &  0.1566853 \\\\\n",
       "\tnino34 &  0.26208950 &  1.0000000  & -0.25411784 &  0.8378201 \\\\\n",
       "\tprobNeutral & -0.02423478 & -0.2541178  &  1.00000000 & -0.5793464 \\\\\n",
       "\tprobNino &  0.15668526 &  0.8378201  & -0.57934635 &  1.0000000 \\\\\n",
       "\\end{tabular}\n"
      ],
      "text/markdown": [
       "\n",
       "| <!--/--> | Month | nino34 | probNeutral | probNino | \n",
       "|---|---|---|---|\n",
       "| Month |  1.00000000 |  0.2620895  | -0.02423478 |  0.1566853  | \n",
       "| nino34 |  0.26208950 |  1.0000000  | -0.25411784 |  0.8378201  | \n",
       "| probNeutral | -0.02423478 | -0.2541178  |  1.00000000 | -0.5793464  | \n",
       "| probNino |  0.15668526 |  0.8378201  | -0.57934635 |  1.0000000  | \n",
       "\n",
       "\n"
      ],
      "text/plain": [
       "            Month       nino34     probNeutral probNino  \n",
       "Month        1.00000000  0.2620895 -0.02423478  0.1566853\n",
       "nino34       0.26208950  1.0000000 -0.25411784  0.8378201\n",
       "probNeutral -0.02423478 -0.2541178  1.00000000 -0.5793464\n",
       "probNino     0.15668526  0.8378201 -0.57934635  1.0000000"
      ]
     },
     "metadata": {},
     "output_type": "display_data"
    }
   ],
   "source": [
    "cor(dryDays[,2:5], method = c(\"pearson\", \"kendall\", \"spearman\"))"
   ]
  },
  {
   "cell_type": "code",
   "execution_count": 46,
   "metadata": {},
   "outputs": [
    {
     "data": {
      "text/html": [
       "<table>\n",
       "<thead><tr><th></th><th scope=col>Prep</th><th scope=col>Month</th><th scope=col>nino34</th><th scope=col>probNeutral</th><th scope=col>probNino</th></tr></thead>\n",
       "<tbody>\n",
       "\t<tr><th scope=row>Prep</th><td> 1.00000000</td><td> 0.00459538</td><td>-0.09493637</td><td> 0.0520622 </td><td>-0.1235443 </td></tr>\n",
       "\t<tr><th scope=row>Month</th><td> 0.00459538</td><td> 1.00000000</td><td> 0.14332016</td><td>-0.1513913 </td><td> 0.1503415 </td></tr>\n",
       "\t<tr><th scope=row>nino34</th><td>-0.09493637</td><td> 0.14332016</td><td> 1.00000000</td><td>-0.1300576 </td><td> 0.8437394 </td></tr>\n",
       "\t<tr><th scope=row>probNeutral</th><td> 0.05206220</td><td>-0.15139132</td><td>-0.13005763</td><td> 1.0000000 </td><td>-0.4892475 </td></tr>\n",
       "\t<tr><th scope=row>probNino</th><td>-0.12354434</td><td> 0.15034146</td><td> 0.84373943</td><td>-0.4892475 </td><td> 1.0000000 </td></tr>\n",
       "</tbody>\n",
       "</table>\n"
      ],
      "text/latex": [
       "\\begin{tabular}{r|lllll}\n",
       "  & Prep & Month & nino34 & probNeutral & probNino\\\\\n",
       "\\hline\n",
       "\tPrep &  1.00000000 &  0.00459538 & -0.09493637 &  0.0520622  & -0.1235443 \\\\\n",
       "\tMonth &  0.00459538 &  1.00000000 &  0.14332016 & -0.1513913  &  0.1503415 \\\\\n",
       "\tnino34 & -0.09493637 &  0.14332016 &  1.00000000 & -0.1300576  &  0.8437394 \\\\\n",
       "\tprobNeutral &  0.05206220 & -0.15139132 & -0.13005763 &  1.0000000  & -0.4892475 \\\\\n",
       "\tprobNino & -0.12354434 &  0.15034146 &  0.84373943 & -0.4892475  &  1.0000000 \\\\\n",
       "\\end{tabular}\n"
      ],
      "text/markdown": [
       "\n",
       "| <!--/--> | Prep | Month | nino34 | probNeutral | probNino | \n",
       "|---|---|---|---|---|\n",
       "| Prep |  1.00000000 |  0.00459538 | -0.09493637 |  0.0520622  | -0.1235443  | \n",
       "| Month |  0.00459538 |  1.00000000 |  0.14332016 | -0.1513913  |  0.1503415  | \n",
       "| nino34 | -0.09493637 |  0.14332016 |  1.00000000 | -0.1300576  |  0.8437394  | \n",
       "| probNeutral |  0.05206220 | -0.15139132 | -0.13005763 |  1.0000000  | -0.4892475  | \n",
       "| probNino | -0.12354434 |  0.15034146 |  0.84373943 | -0.4892475  |  1.0000000  | \n",
       "\n",
       "\n"
      ],
      "text/plain": [
       "            Prep        Month       nino34      probNeutral probNino  \n",
       "Prep         1.00000000  0.00459538 -0.09493637  0.0520622  -0.1235443\n",
       "Month        0.00459538  1.00000000  0.14332016 -0.1513913   0.1503415\n",
       "nino34      -0.09493637  0.14332016  1.00000000 -0.1300576   0.8437394\n",
       "probNeutral  0.05206220 -0.15139132 -0.13005763  1.0000000  -0.4892475\n",
       "probNino    -0.12354434  0.15034146  0.84373943 -0.4892475   1.0000000"
      ]
     },
     "metadata": {},
     "output_type": "display_data"
    }
   ],
   "source": [
    "cor(wetDays[,1:5], method = c(\"pearson\", \"kendall\", \"spearman\"))"
   ]
  },
  {
   "cell_type": "code",
   "execution_count": 36,
   "metadata": {},
   "outputs": [
    {
     "data": {
      "text/plain": [
       "      Prep            Month            nino34          probNeutral    \n",
       " Min.   : 0.000   Min.   : 1.000   Min.   :-2.02452   Min.   :0.0000  \n",
       " 1st Qu.: 0.000   1st Qu.: 4.000   1st Qu.:-0.57617   1st Qu.:0.1400  \n",
       " Median : 0.200   Median : 7.000   Median :-0.01589   Median :0.4400  \n",
       " Mean   : 2.781   Mean   : 6.522   Mean   : 0.04185   Mean   :0.4604  \n",
       " 3rd Qu.: 2.700   3rd Qu.:10.000   3rd Qu.: 0.55833   3rd Qu.:0.7500  \n",
       " Max.   :78.500   Max.   :12.000   Max.   : 3.28767   Max.   :1.0000  \n",
       "    probNino      state    nextState\n",
       " Min.   :0.0000   0:1741   0:1741   \n",
       " 1st Qu.:0.0100   1:2275   1:2275   \n",
       " Median :0.0500                     \n",
       " Mean   :0.2895                     \n",
       " 3rd Qu.:0.5900                     \n",
       " Max.   :1.0000                     "
      ]
     },
     "metadata": {},
     "output_type": "display_data"
    }
   ],
   "source": [
    "summary(allData)"
   ]
  },
  {
   "cell_type": "markdown",
   "metadata": {},
   "source": [
    "# Gamma Fit with vgam "
   ]
  },
  {
   "cell_type": "code",
   "execution_count": 87,
   "metadata": {},
   "outputs": [
    {
     "name": "stdout",
     "output_type": "stream",
     "text": [
      "VGAM  vlm.wfit  loop  1 :  coefficients = \n",
      " 2.8137408148, -2.5660433863,  0.0025799472, -0.0154241351,  0.3018139026, \n",
      " 0.5220119498\n",
      "VGAM  vlm.wfit  loop  2 :  coefficients = \n",
      " 2.1604503724, -1.8148968572,  0.0041961041,  0.0098501879,  0.1854706162, \n",
      " 0.2314154809\n",
      "VGAM  vlm.wfit  loop  3 :  coefficients = \n",
      " 1.8409751156, -1.1829036184,  0.0067468698,  0.0564062386,  0.0080549642, \n",
      "-0.2740292609\n",
      "VGAM  vlm.wfit  loop  4 :  coefficients = \n",
      " 1.8025455293, -0.7322265210,  0.0094001894,  0.1081097005, -0.1189201192, \n",
      "-0.7704601359\n",
      "VGAM  vlm.wfit  loop  5 :  coefficients = \n",
      " 1.810358475, -0.537801461,  0.011871645,  0.133710615, -0.144444560, \n",
      "-0.957857429\n",
      "VGAM  vlm.wfit  loop  6 :  coefficients = \n",
      " 1.807939567, -0.510140670,  0.012918397,  0.138561200, -0.145064552, \n",
      "-0.981081703\n",
      "VGAM  vlm.wfit  loop  7 :  coefficients = \n",
      " 1.807356433, -0.509659471,  0.012995728,  0.138719876, -0.144200799, \n",
      "-0.982444554\n",
      "VGAM  vlm.wfit  loop  8 :  coefficients = \n",
      " 1.807270108, -0.509659173,  0.013011007,  0.138754259, -0.144147672, \n",
      "-0.982601043\n",
      "VGAM  vlm.wfit  loop  9 :  coefficients = \n",
      " 1.807262429, -0.509659171,  0.013011571,  0.138753912, -0.144133676, \n",
      "-0.982611101\n",
      "VGAM  vlm.wfit  loop  10 :  coefficients = \n",
      " 1.807261349, -0.509659171,  0.013011793,  0.138754464, -0.144133445, \n",
      "-0.982613060\n",
      "VGAM  vlm.wfit  loop  11 :  coefficients = \n",
      " 1.807261276, -0.509659171,  0.013011791,  0.138754431, -0.144133227, \n",
      "-0.982613125\n",
      "VGAM  vlm.wfit  loop  12 :  coefficients = \n",
      " 1.807261262, -0.509659171,  0.013011795,  0.138754442, -0.144133234, \n",
      "-0.982613154\n",
      "VGAM  vlm.wfit  loop  13 :  coefficients = \n",
      " 1.807261261, -0.509659171,  0.013011795,  0.138754441, -0.144133230, \n",
      "-0.982613154\n"
     ]
    }
   ],
   "source": [
    "gammaFull = vgam(Prep ~  1 + Month + nino34 + probNeutral + probNino  , data=wetDays ,family = gamma2 ,trace='True',  crit = \"coef\")"
   ]
  },
  {
   "cell_type": "code",
   "execution_count": 89,
   "metadata": {},
   "outputs": [
    {
     "data": {
      "text/html": [
       "<table>\n",
       "<thead><tr><th></th><th scope=col>loge(mu)</th><th scope=col>loge(shape)</th></tr></thead>\n",
       "<tbody>\n",
       "\t<tr><th scope=row>(Intercept)</th><td> 1.80726126</td><td>-0.5096592 </td></tr>\n",
       "\t<tr><th scope=row>Month</th><td> 0.01301179</td><td> 0.0000000 </td></tr>\n",
       "\t<tr><th scope=row>nino34</th><td> 0.13875444</td><td> 0.0000000 </td></tr>\n",
       "\t<tr><th scope=row>probNeutral</th><td>-0.14413323</td><td> 0.0000000 </td></tr>\n",
       "\t<tr><th scope=row>probNino</th><td>-0.98261315</td><td> 0.0000000 </td></tr>\n",
       "</tbody>\n",
       "</table>\n"
      ],
      "text/latex": [
       "\\begin{tabular}{r|ll}\n",
       "  & loge(mu) & loge(shape)\\\\\n",
       "\\hline\n",
       "\t(Intercept) &  1.80726126 & -0.5096592 \\\\\n",
       "\tMonth &  0.01301179 &  0.0000000 \\\\\n",
       "\tnino34 &  0.13875444 &  0.0000000 \\\\\n",
       "\tprobNeutral & -0.14413323 &  0.0000000 \\\\\n",
       "\tprobNino & -0.98261315 &  0.0000000 \\\\\n",
       "\\end{tabular}\n"
      ],
      "text/markdown": [
       "\n",
       "| <!--/--> | loge(mu) | loge(shape) | \n",
       "|---|---|---|---|---|\n",
       "| (Intercept) |  1.80726126 | -0.5096592  | \n",
       "| Month |  0.01301179 |  0.0000000  | \n",
       "| nino34 |  0.13875444 |  0.0000000  | \n",
       "| probNeutral | -0.14413323 |  0.0000000  | \n",
       "| probNino | -0.98261315 |  0.0000000  | \n",
       "\n",
       "\n"
      ],
      "text/plain": [
       "            loge(mu)    loge(shape)\n",
       "(Intercept)  1.80726126 -0.5096592 \n",
       "Month        0.01301179  0.0000000 \n",
       "nino34       0.13875444  0.0000000 \n",
       "probNeutral -0.14413323  0.0000000 \n",
       "probNino    -0.98261315  0.0000000 "
      ]
     },
     "metadata": {},
     "output_type": "display_data"
    }
   ],
   "source": [
    "coef(gammaFull,matrix = TRUE)"
   ]
  },
  {
   "cell_type": "code",
   "execution_count": 90,
   "metadata": {},
   "outputs": [
    {
     "name": "stdout",
     "output_type": "stream",
     "text": [
      "VGAM  vlm.wfit  loop  1 :  coefficients =  3.0928700, -2.5787726\n",
      "VGAM  vlm.wfit  loop  2 :  coefficients =  2.3156214, -1.8234200\n",
      "VGAM  vlm.wfit  loop  3 :  coefficients =  1.8002122, -1.1856438\n",
      "VGAM  vlm.wfit  loop  4 :  coefficients =  1.61157399, -0.73528729\n",
      "VGAM  vlm.wfit  loop  5 :  coefficients =  1.59137772, -0.55205754\n",
      "VGAM  vlm.wfit  loop  6 :  coefficients =  1.5911710, -0.5288453\n",
      "VGAM  vlm.wfit  loop  7 :  coefficients =  1.59117098, -0.52851914\n",
      "VGAM  vlm.wfit  loop  8 :  coefficients =  1.59117098, -0.52851907\n",
      "VGAM  vlm.wfit  loop  9 :  coefficients =  1.59117098, -0.52851907\n"
     ]
    }
   ],
   "source": [
    "gammaN = vgam(Prep ~  1, data=wetDays ,family = gamma2 ,trace='True',  crit = \"coef\")"
   ]
  },
  {
   "cell_type": "code",
   "execution_count": 91,
   "metadata": {},
   "outputs": [
    {
     "data": {
      "text/html": [
       "<table>\n",
       "<thead><tr><th></th><th scope=col>loge(mu)</th><th scope=col>loge(shape)</th></tr></thead>\n",
       "<tbody>\n",
       "\t<tr><th scope=row>(Intercept)</th><td>1.591171  </td><td>-0.5285191</td></tr>\n",
       "</tbody>\n",
       "</table>\n"
      ],
      "text/latex": [
       "\\begin{tabular}{r|ll}\n",
       "  & loge(mu) & loge(shape)\\\\\n",
       "\\hline\n",
       "\t(Intercept) & 1.591171   & -0.5285191\\\\\n",
       "\\end{tabular}\n"
      ],
      "text/markdown": [
       "\n",
       "| <!--/--> | loge(mu) | loge(shape) | \n",
       "|---|\n",
       "| (Intercept) | 1.591171   | -0.5285191 | \n",
       "\n",
       "\n"
      ],
      "text/plain": [
       "            loge(mu) loge(shape)\n",
       "(Intercept) 1.591171 -0.5285191 "
      ]
     },
     "metadata": {},
     "output_type": "display_data"
    }
   ],
   "source": [
    "coef(gammaN,matrix = TRUE)"
   ]
  },
  {
   "cell_type": "code",
   "execution_count": null,
   "metadata": {},
   "outputs": [],
   "source": []
  }
 ],
 "metadata": {
  "kernelspec": {
   "display_name": "R",
   "language": "R",
   "name": "ir"
  },
  "language_info": {
   "codemirror_mode": "r",
   "file_extension": ".r",
   "mimetype": "text/x-r-source",
   "name": "R",
   "pygments_lexer": "r",
   "version": "3.4.4"
  }
 },
 "nbformat": 4,
 "nbformat_minor": 2
}
