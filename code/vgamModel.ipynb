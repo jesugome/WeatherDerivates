{
 "cells": [
  {
   "cell_type": "markdown",
   "metadata": {},
   "source": [
    "<h1><font size=12>\n",
    "Weather Derivatites </h1>\n",
    "<h1> Vgam Model - Parameters Estimation <br></h1>\n",
    "\n",
    "Developed by [Jesus Solano](mailto:ja.solano588@uniandes.edu.co) <br>  \n",
    "5 October 2018 \n"
   ]
  },
  {
   "cell_type": "code",
   "execution_count": 1,
   "metadata": {},
   "outputs": [],
   "source": [
    "# Load fulldataset \n",
    "\n",
    "allData <- read.csv(file='../datasets/fullDataset/completeDailyDataset.csv', header=TRUE, sep=\",\", row.names = 'X' ) \n",
    "myData <- read.csv(file='../datasets/fullDataset/completeDailyDataset.csv', header=TRUE, sep=\",\") "
   ]
  },
  {
   "cell_type": "code",
   "execution_count": 2,
   "metadata": {},
   "outputs": [
    {
     "data": {
      "text/html": [
       "<table>\n",
       "<thead><tr><th scope=col>X</th><th scope=col>Prep</th><th scope=col>Month</th><th scope=col>nino34</th><th scope=col>probNeutral</th><th scope=col>probNino</th><th scope=col>probNina</th><th scope=col>state</th><th scope=col>nextState</th></tr></thead>\n",
       "<tbody>\n",
       "\t<tr><td>2005-01-01</td><td>0.0       </td><td>1         </td><td>0.6061863 </td><td>0.15      </td><td>0.85      </td><td>0         </td><td>0         </td><td>0         </td></tr>\n",
       "\t<tr><td>2005-01-02</td><td>0.0       </td><td>1         </td><td>0.5993582 </td><td>0.15      </td><td>0.85      </td><td>0         </td><td>0         </td><td>0         </td></tr>\n",
       "\t<tr><td>2005-01-03</td><td>0.0       </td><td>1         </td><td>0.6467837 </td><td>0.15      </td><td>0.85      </td><td>0         </td><td>0         </td><td>1         </td></tr>\n",
       "\t<tr><td>2005-01-04</td><td>1.6       </td><td>1         </td><td>0.6636958 </td><td>0.15      </td><td>0.85      </td><td>0         </td><td>1         </td><td>0         </td></tr>\n",
       "\t<tr><td>2005-01-05</td><td>0.0       </td><td>1         </td><td>0.7113302 </td><td>0.15      </td><td>0.85      </td><td>0         </td><td>0         </td><td>0         </td></tr>\n",
       "\t<tr><td>2005-01-06</td><td>0.0       </td><td>1         </td><td>0.6791847 </td><td>0.15      </td><td>0.85      </td><td>0         </td><td>0         </td><td>0         </td></tr>\n",
       "</tbody>\n",
       "</table>\n"
      ],
      "text/latex": [
       "\\begin{tabular}{r|lllllllll}\n",
       " X & Prep & Month & nino34 & probNeutral & probNino & probNina & state & nextState\\\\\n",
       "\\hline\n",
       "\t 2005-01-01 & 0.0        & 1          & 0.6061863  & 0.15       & 0.85       & 0          & 0          & 0         \\\\\n",
       "\t 2005-01-02 & 0.0        & 1          & 0.5993582  & 0.15       & 0.85       & 0          & 0          & 0         \\\\\n",
       "\t 2005-01-03 & 0.0        & 1          & 0.6467837  & 0.15       & 0.85       & 0          & 0          & 1         \\\\\n",
       "\t 2005-01-04 & 1.6        & 1          & 0.6636958  & 0.15       & 0.85       & 0          & 1          & 0         \\\\\n",
       "\t 2005-01-05 & 0.0        & 1          & 0.7113302  & 0.15       & 0.85       & 0          & 0          & 0         \\\\\n",
       "\t 2005-01-06 & 0.0        & 1          & 0.6791847  & 0.15       & 0.85       & 0          & 0          & 0         \\\\\n",
       "\\end{tabular}\n"
      ],
      "text/markdown": [
       "\n",
       "X | Prep | Month | nino34 | probNeutral | probNino | probNina | state | nextState | \n",
       "|---|---|---|---|---|---|\n",
       "| 2005-01-01 | 0.0        | 1          | 0.6061863  | 0.15       | 0.85       | 0          | 0          | 0          | \n",
       "| 2005-01-02 | 0.0        | 1          | 0.5993582  | 0.15       | 0.85       | 0          | 0          | 0          | \n",
       "| 2005-01-03 | 0.0        | 1          | 0.6467837  | 0.15       | 0.85       | 0          | 0          | 1          | \n",
       "| 2005-01-04 | 1.6        | 1          | 0.6636958  | 0.15       | 0.85       | 0          | 1          | 0          | \n",
       "| 2005-01-05 | 0.0        | 1          | 0.7113302  | 0.15       | 0.85       | 0          | 0          | 0          | \n",
       "| 2005-01-06 | 0.0        | 1          | 0.6791847  | 0.15       | 0.85       | 0          | 0          | 0          | \n",
       "\n",
       "\n"
      ],
      "text/plain": [
       "  X          Prep Month nino34    probNeutral probNino probNina state nextState\n",
       "1 2005-01-01 0.0  1     0.6061863 0.15        0.85     0        0     0        \n",
       "2 2005-01-02 0.0  1     0.5993582 0.15        0.85     0        0     0        \n",
       "3 2005-01-03 0.0  1     0.6467837 0.15        0.85     0        0     1        \n",
       "4 2005-01-04 1.6  1     0.6636958 0.15        0.85     0        1     0        \n",
       "5 2005-01-05 0.0  1     0.7113302 0.15        0.85     0        0     0        \n",
       "6 2005-01-06 0.0  1     0.6791847 0.15        0.85     0        0     0        "
      ]
     },
     "metadata": {},
     "output_type": "display_data"
    }
   ],
   "source": [
    "# Show a preview of dataset.\n",
    "head(myData)"
   ]
  },
  {
   "cell_type": "code",
   "execution_count": 3,
   "metadata": {},
   "outputs": [
    {
     "data": {
      "text/plain": [
       "      Prep            Month          nino34          probNeutral    \n",
       " Min.   : 0.000   1      : 341   Min.   :-2.02452   Min.   :0.0000  \n",
       " 1st Qu.: 0.000   3      : 341   1st Qu.:-0.57617   1st Qu.:0.1400  \n",
       " Median : 0.200   5      : 341   Median :-0.01589   Median :0.4400  \n",
       " Mean   : 2.781   7      : 341   Mean   : 0.04185   Mean   :0.4604  \n",
       " 3rd Qu.: 2.700   8      : 341   3rd Qu.: 0.55833   3rd Qu.:0.7500  \n",
       " Max.   :78.500   10     : 341   Max.   : 3.28767   Max.   :1.0000  \n",
       "                  (Other):1970                                      \n",
       "    probNino         probNina      state    nextState\n",
       " Min.   :0.0000   Min.   :0.0000   0:1741   0:1741   \n",
       " 1st Qu.:0.0100   1st Qu.:0.0000   1:2275   1:2275   \n",
       " Median :0.0500   Median :0.0500                     \n",
       " Mean   :0.2895   Mean   :0.2504                     \n",
       " 3rd Qu.:0.5900   3rd Qu.:0.5000                     \n",
       " Max.   :1.0000   Max.   :0.9900                     \n",
       "                                                     "
      ]
     },
     "metadata": {},
     "output_type": "display_data"
    }
   ],
   "source": [
    "# Split dataset into dry and wet days.\n",
    "\n",
    "allData$nextState=as.factor(allData$nextState)\n",
    "allData$state=as.factor(allData$state)\n",
    "allData$Month=as.factor(allData$Month)\n",
    "\n",
    "\n",
    "dryDays <- allData[allData$state == 0,]\n",
    "wetDays <- allData[allData$state == 1,]\n",
    "\n",
    "summary(allData)\n"
   ]
  },
  {
   "cell_type": "code",
   "execution_count": 4,
   "metadata": {},
   "outputs": [
    {
     "name": "stderr",
     "output_type": "stream",
     "text": [
      "Loading required package: stats4\n",
      "Loading required package: splines\n"
     ]
    }
   ],
   "source": [
    "# Apply vgam model for transitions. \n",
    "library(VGAM)\n",
    "\n",
    "# La siguiente es la ideal pero por correlaciones no fucniona.\n",
    "# vglm(nextState ~ Prep + Month +nino34 + probNeutral + probNino, data=dryDays ,family = binomialff())\n",
    "\n"
   ]
  },
  {
   "cell_type": "code",
   "execution_count": 5,
   "metadata": {},
   "outputs": [
    {
     "data": {
      "text/plain": [
       "\n",
       "Call:  glm(formula = nextState ~ Month + probNino + probNina, family = binomial, \n",
       "    data = dryDays)\n",
       "\n",
       "Coefficients:\n",
       "(Intercept)       Month2       Month3       Month4       Month5       Month6  \n",
       "    -1.1680       0.3467       0.8489       1.5632       1.5676       1.1326  \n",
       "     Month7       Month8       Month9      Month10      Month11      Month12  \n",
       "     1.3112       1.4329       0.9249       1.5877       1.3566       0.5185  \n",
       "   probNino     probNina  \n",
       "    -0.4535       0.1769  \n",
       "\n",
       "Degrees of Freedom: 1740 Total (i.e. Null);  1727 Residual\n",
       "Null Deviance:\t    2369 \n",
       "Residual Deviance: 2249 \tAIC: 2277"
      ]
     },
     "metadata": {},
     "output_type": "display_data"
    }
   ],
   "source": [
    "# Fit to dryDays (Transitions)\n",
    "fitDry = glm(nextState ~ Month  + probNino + probNina , data=dryDays ,family = binomial)\n",
    "fitDry"
   ]
  },
  {
   "cell_type": "code",
   "execution_count": 6,
   "metadata": {},
   "outputs": [
    {
     "data": {
      "text/plain": [
       "\n",
       "Call:\n",
       "glm(formula = nextState ~ Month + probNino + probNina, family = binomial, \n",
       "    data = dryDays)\n",
       "\n",
       "Deviance Residuals: \n",
       "    Min       1Q   Median       3Q      Max  \n",
       "-1.4380  -1.0648  -0.7571   1.1648   1.8921  \n",
       "\n",
       "Coefficients:\n",
       "            Estimate Std. Error z value Pr(>|z|)    \n",
       "(Intercept)  -1.1680     0.1891  -6.175 6.61e-10 ***\n",
       "Month2        0.3467     0.2302   1.506 0.131997    \n",
       "Month3        0.8489     0.2299   3.692 0.000223 ***\n",
       "Month4        1.5632     0.2685   5.821 5.85e-09 ***\n",
       "Month5        1.5676     0.2592   6.049 1.46e-09 ***\n",
       "Month6        1.1326     0.2437   4.648 3.36e-06 ***\n",
       "Month7        1.3112     0.2351   5.577 2.45e-08 ***\n",
       "Month8        1.4329     0.2334   6.139 8.33e-10 ***\n",
       "Month9        0.9249     0.2245   4.121 3.77e-05 ***\n",
       "Month10       1.5877     0.2465   6.440 1.19e-10 ***\n",
       "Month11       1.3566     0.2448   5.542 2.99e-08 ***\n",
       "Month12       0.5185     0.2244   2.310 0.020862 *  \n",
       "probNino     -0.4535     0.1686  -2.691 0.007133 ** \n",
       "probNina      0.1769     0.1943   0.911 0.362440    \n",
       "---\n",
       "Signif. codes:  0 ‘***’ 0.001 ‘**’ 0.01 ‘*’ 0.05 ‘.’ 0.1 ‘ ’ 1\n",
       "\n",
       "(Dispersion parameter for binomial family taken to be 1)\n",
       "\n",
       "    Null deviance: 2369.3  on 1740  degrees of freedom\n",
       "Residual deviance: 2249.3  on 1727  degrees of freedom\n",
       "AIC: 2277.3\n",
       "\n",
       "Number of Fisher Scoring iterations: 4\n"
      ]
     },
     "metadata": {},
     "output_type": "display_data"
    }
   ],
   "source": [
    "summary(fitDry)"
   ]
  },
  {
   "cell_type": "code",
   "execution_count": 34,
   "metadata": {
    "scrolled": true
   },
   "outputs": [
    {
     "data": {
      "text/plain": [
       "\n",
       "Call:  glm(formula = nextState ~ Month + Prep + probNino + probNina, \n",
       "    family = binomial, data = wetDays)\n",
       "\n",
       "Coefficients:\n",
       "(Intercept)       Month2       Month3       Month4       Month5       Month6  \n",
       "   -0.56317      0.58388      0.83200      1.46846      1.30417      1.10322  \n",
       "     Month7       Month8       Month9      Month10      Month11      Month12  \n",
       "    0.88102      0.67001      0.48877      0.89717      0.93912      0.31088  \n",
       "       Prep     probNino     probNina  \n",
       "    0.03326      0.30711      0.89078  \n",
       "\n",
       "Degrees of Freedom: 2274 Total (i.e. Null);  2260 Residual\n",
       "Null Deviance:\t    2858 \n",
       "Residual Deviance: 2754 \tAIC: 2784"
      ]
     },
     "metadata": {},
     "output_type": "display_data"
    }
   ],
   "source": [
    "# Fit to wetDays (Transitions)\n",
    "fitWet = glm(nextState ~ Month + Prep+probNino+probNina, data=wetDays ,family = binomial)\n",
    "fitWet"
   ]
  },
  {
   "cell_type": "code",
   "execution_count": 35,
   "metadata": {},
   "outputs": [
    {
     "data": {
      "text/plain": [
       "\n",
       "Call:\n",
       "glm(formula = nextState ~ Month + Prep + probNino + probNina, \n",
       "    family = binomial, data = wetDays)\n",
       "\n",
       "Deviance Residuals: \n",
       "    Min       1Q   Median       3Q      Max  \n",
       "-2.4640  -1.3169   0.7459   0.9045   1.4012  \n",
       "\n",
       "Coefficients:\n",
       "             Estimate Std. Error z value Pr(>|z|)    \n",
       "(Intercept) -0.563174   0.228420  -2.466 0.013681 *  \n",
       "Month2       0.583879   0.267843   2.180 0.029262 *  \n",
       "Month3       0.832002   0.256657   3.242 0.001188 ** \n",
       "Month4       1.468464   0.260971   5.627 1.83e-08 ***\n",
       "Month5       1.304174   0.256437   5.086 3.66e-07 ***\n",
       "Month6       1.103216   0.256153   4.307 1.66e-05 ***\n",
       "Month7       0.881016   0.252816   3.485 0.000492 ***\n",
       "Month8       0.670010   0.250244   2.677 0.007419 ** \n",
       "Month9       0.488770   0.259206   1.886 0.059343 .  \n",
       "Month10      0.897170   0.250806   3.577 0.000347 ***\n",
       "Month11      0.939116   0.254333   3.692 0.000222 ***\n",
       "Month12      0.310877   0.259380   1.199 0.230706    \n",
       "Prep         0.033265   0.007723   4.307 1.65e-05 ***\n",
       "probNino     0.307107   0.162959   1.885 0.059489 .  \n",
       "probNina     0.890775   0.177598   5.016 5.28e-07 ***\n",
       "---\n",
       "Signif. codes:  0 ‘***’ 0.001 ‘**’ 0.01 ‘*’ 0.05 ‘.’ 0.1 ‘ ’ 1\n",
       "\n",
       "(Dispersion parameter for binomial family taken to be 1)\n",
       "\n",
       "    Null deviance: 2858.3  on 2274  degrees of freedom\n",
       "Residual deviance: 2754.1  on 2260  degrees of freedom\n",
       "AIC: 2784.1\n",
       "\n",
       "Number of Fisher Scoring iterations: 4\n"
      ]
     },
     "metadata": {},
     "output_type": "display_data"
    }
   ],
   "source": [
    "summary(fitWet)"
   ]
  },
  {
   "cell_type": "markdown",
   "metadata": {},
   "source": [
    "## Review Input Data"
   ]
  },
  {
   "cell_type": "code",
   "execution_count": 15,
   "metadata": {},
   "outputs": [
    {
     "data": {
      "text/html": [
       "<table>\n",
       "<thead><tr><th></th><th scope=col>Prep</th><th scope=col>nino34</th><th scope=col>probNeutral</th><th scope=col>probNino</th><th scope=col>probNina</th></tr></thead>\n",
       "<tbody>\n",
       "\t<tr><th scope=row>Prep</th><td> 1.00000000</td><td>-0.08380009</td><td> 0.0451726 </td><td>-0.1153749 </td><td> 0.08082622</td></tr>\n",
       "\t<tr><th scope=row>nino34</th><td>-0.08380009</td><td> 1.00000000</td><td>-0.1895744 </td><td> 0.8411257 </td><td>-0.72492841</td></tr>\n",
       "\t<tr><th scope=row>probNeutral</th><td> 0.04517260</td><td>-0.18957436</td><td> 1.0000000 </td><td>-0.5310060 </td><td>-0.40018698</td></tr>\n",
       "\t<tr><th scope=row>probNino</th><td>-0.11537493</td><td> 0.84112566</td><td>-0.5310060 </td><td> 1.0000000 </td><td>-0.56405273</td></tr>\n",
       "\t<tr><th scope=row>probNina</th><td> 0.08082622</td><td>-0.72492841</td><td>-0.4001870 </td><td>-0.5640527 </td><td> 1.00000000</td></tr>\n",
       "</tbody>\n",
       "</table>\n"
      ],
      "text/latex": [
       "\\begin{tabular}{r|lllll}\n",
       "  & Prep & nino34 & probNeutral & probNino & probNina\\\\\n",
       "\\hline\n",
       "\tPrep &  1.00000000 & -0.08380009 &  0.0451726  & -0.1153749  &  0.08082622\\\\\n",
       "\tnino34 & -0.08380009 &  1.00000000 & -0.1895744  &  0.8411257  & -0.72492841\\\\\n",
       "\tprobNeutral &  0.04517260 & -0.18957436 &  1.0000000  & -0.5310060  & -0.40018698\\\\\n",
       "\tprobNino & -0.11537493 &  0.84112566 & -0.5310060  &  1.0000000  & -0.56405273\\\\\n",
       "\tprobNina &  0.08082622 & -0.72492841 & -0.4001870  & -0.5640527  &  1.00000000\\\\\n",
       "\\end{tabular}\n"
      ],
      "text/markdown": [
       "\n",
       "| <!--/--> | Prep | nino34 | probNeutral | probNino | probNina | \n",
       "|---|---|---|---|---|\n",
       "| Prep |  1.00000000 | -0.08380009 |  0.0451726  | -0.1153749  |  0.08082622 | \n",
       "| nino34 | -0.08380009 |  1.00000000 | -0.1895744  |  0.8411257  | -0.72492841 | \n",
       "| probNeutral |  0.04517260 | -0.18957436 |  1.0000000  | -0.5310060  | -0.40018698 | \n",
       "| probNino | -0.11537493 |  0.84112566 | -0.5310060  |  1.0000000  | -0.56405273 | \n",
       "| probNina |  0.08082622 | -0.72492841 | -0.4001870  | -0.5640527  |  1.00000000 | \n",
       "\n",
       "\n"
      ],
      "text/plain": [
       "            Prep        nino34      probNeutral probNino   probNina   \n",
       "Prep         1.00000000 -0.08380009  0.0451726  -0.1153749  0.08082622\n",
       "nino34      -0.08380009  1.00000000 -0.1895744   0.8411257 -0.72492841\n",
       "probNeutral  0.04517260 -0.18957436  1.0000000  -0.5310060 -0.40018698\n",
       "probNino    -0.11537493  0.84112566 -0.5310060   1.0000000 -0.56405273\n",
       "probNina     0.08082622 -0.72492841 -0.4001870  -0.5640527  1.00000000"
      ]
     },
     "metadata": {},
     "output_type": "display_data"
    }
   ],
   "source": [
    "cor(allData[,c(1,3,4,5,6)], method = c(\"pearson\", \"kendall\", \"spearman\"))"
   ]
  },
  {
   "cell_type": "code",
   "execution_count": 18,
   "metadata": {},
   "outputs": [
    {
     "data": {
      "text/html": [
       "<table>\n",
       "<thead><tr><th></th><th scope=col>nino34</th><th scope=col>probNeutral</th><th scope=col>probNino</th><th scope=col>probNina</th></tr></thead>\n",
       "<tbody>\n",
       "\t<tr><th scope=row>nino34</th><td> 1.0000000</td><td>-0.2541178</td><td> 0.8378201</td><td>-0.7038257</td></tr>\n",
       "\t<tr><th scope=row>probNeutral</th><td>-0.2541178</td><td> 1.0000000</td><td>-0.5793464</td><td>-0.3515599</td></tr>\n",
       "\t<tr><th scope=row>probNino</th><td> 0.8378201</td><td>-0.5793464</td><td> 1.0000000</td><td>-0.5593739</td></tr>\n",
       "\t<tr><th scope=row>probNina</th><td>-0.7038257</td><td>-0.3515599</td><td>-0.5593739</td><td> 1.0000000</td></tr>\n",
       "</tbody>\n",
       "</table>\n"
      ],
      "text/latex": [
       "\\begin{tabular}{r|llll}\n",
       "  & nino34 & probNeutral & probNino & probNina\\\\\n",
       "\\hline\n",
       "\tnino34 &  1.0000000 & -0.2541178 &  0.8378201 & -0.7038257\\\\\n",
       "\tprobNeutral & -0.2541178 &  1.0000000 & -0.5793464 & -0.3515599\\\\\n",
       "\tprobNino &  0.8378201 & -0.5793464 &  1.0000000 & -0.5593739\\\\\n",
       "\tprobNina & -0.7038257 & -0.3515599 & -0.5593739 &  1.0000000\\\\\n",
       "\\end{tabular}\n"
      ],
      "text/markdown": [
       "\n",
       "| <!--/--> | nino34 | probNeutral | probNino | probNina | \n",
       "|---|---|---|---|\n",
       "| nino34 |  1.0000000 | -0.2541178 |  0.8378201 | -0.7038257 | \n",
       "| probNeutral | -0.2541178 |  1.0000000 | -0.5793464 | -0.3515599 | \n",
       "| probNino |  0.8378201 | -0.5793464 |  1.0000000 | -0.5593739 | \n",
       "| probNina | -0.7038257 | -0.3515599 | -0.5593739 |  1.0000000 | \n",
       "\n",
       "\n"
      ],
      "text/plain": [
       "            nino34     probNeutral probNino   probNina  \n",
       "nino34       1.0000000 -0.2541178   0.8378201 -0.7038257\n",
       "probNeutral -0.2541178  1.0000000  -0.5793464 -0.3515599\n",
       "probNino     0.8378201 -0.5793464   1.0000000 -0.5593739\n",
       "probNina    -0.7038257 -0.3515599  -0.5593739  1.0000000"
      ]
     },
     "metadata": {},
     "output_type": "display_data"
    }
   ],
   "source": [
    "cor(dryDays[,c(3,4,5,6)], method = c(\"pearson\", \"kendall\", \"spearman\"))"
   ]
  },
  {
   "cell_type": "code",
   "execution_count": 20,
   "metadata": {},
   "outputs": [
    {
     "data": {
      "text/html": [
       "<table>\n",
       "<thead><tr><th></th><th scope=col>nino34</th><th scope=col>probNeutral</th><th scope=col>probNino</th><th scope=col>probNina</th></tr></thead>\n",
       "<tbody>\n",
       "\t<tr><th scope=row>nino34</th><td> 1.0000000</td><td>-0.1300576</td><td> 0.8437394</td><td>-0.7442706</td></tr>\n",
       "\t<tr><th scope=row>probNeutral</th><td>-0.1300576</td><td> 1.0000000</td><td>-0.4892475</td><td>-0.4430306</td></tr>\n",
       "\t<tr><th scope=row>probNino</th><td> 0.8437394</td><td>-0.4892475</td><td> 1.0000000</td><td>-0.5651301</td></tr>\n",
       "\t<tr><th scope=row>probNina</th><td>-0.7442706</td><td>-0.4430306</td><td>-0.5651301</td><td> 1.0000000</td></tr>\n",
       "</tbody>\n",
       "</table>\n"
      ],
      "text/latex": [
       "\\begin{tabular}{r|llll}\n",
       "  & nino34 & probNeutral & probNino & probNina\\\\\n",
       "\\hline\n",
       "\tnino34 &  1.0000000 & -0.1300576 &  0.8437394 & -0.7442706\\\\\n",
       "\tprobNeutral & -0.1300576 &  1.0000000 & -0.4892475 & -0.4430306\\\\\n",
       "\tprobNino &  0.8437394 & -0.4892475 &  1.0000000 & -0.5651301\\\\\n",
       "\tprobNina & -0.7442706 & -0.4430306 & -0.5651301 &  1.0000000\\\\\n",
       "\\end{tabular}\n"
      ],
      "text/markdown": [
       "\n",
       "| <!--/--> | nino34 | probNeutral | probNino | probNina | \n",
       "|---|---|---|---|\n",
       "| nino34 |  1.0000000 | -0.1300576 |  0.8437394 | -0.7442706 | \n",
       "| probNeutral | -0.1300576 |  1.0000000 | -0.4892475 | -0.4430306 | \n",
       "| probNino |  0.8437394 | -0.4892475 |  1.0000000 | -0.5651301 | \n",
       "| probNina | -0.7442706 | -0.4430306 | -0.5651301 |  1.0000000 | \n",
       "\n",
       "\n"
      ],
      "text/plain": [
       "            nino34     probNeutral probNino   probNina  \n",
       "nino34       1.0000000 -0.1300576   0.8437394 -0.7442706\n",
       "probNeutral -0.1300576  1.0000000  -0.4892475 -0.4430306\n",
       "probNino     0.8437394 -0.4892475   1.0000000 -0.5651301\n",
       "probNina    -0.7442706 -0.4430306  -0.5651301  1.0000000"
      ]
     },
     "metadata": {},
     "output_type": "display_data"
    }
   ],
   "source": [
    "cor(wetDays[,3:6], method = c(\"pearson\", \"kendall\", \"spearman\"))"
   ]
  },
  {
   "cell_type": "code",
   "execution_count": 22,
   "metadata": {},
   "outputs": [
    {
     "data": {
      "text/plain": [
       "      Prep            Month          nino34          probNeutral    \n",
       " Min.   : 0.000   1      : 341   Min.   :-2.02452   Min.   :0.0000  \n",
       " 1st Qu.: 0.000   3      : 341   1st Qu.:-0.57617   1st Qu.:0.1400  \n",
       " Median : 0.200   5      : 341   Median :-0.01589   Median :0.4400  \n",
       " Mean   : 2.781   7      : 341   Mean   : 0.04185   Mean   :0.4604  \n",
       " 3rd Qu.: 2.700   8      : 341   3rd Qu.: 0.55833   3rd Qu.:0.7500  \n",
       " Max.   :78.500   10     : 341   Max.   : 3.28767   Max.   :1.0000  \n",
       "                  (Other):1970                                      \n",
       "    probNino         probNina      state    nextState\n",
       " Min.   :0.0000   Min.   :0.0000   0:1741   0:1741   \n",
       " 1st Qu.:0.0100   1st Qu.:0.0000   1:2275   1:2275   \n",
       " Median :0.0500   Median :0.0500                     \n",
       " Mean   :0.2895   Mean   :0.2504                     \n",
       " 3rd Qu.:0.5900   3rd Qu.:0.5000                     \n",
       " Max.   :1.0000   Max.   :0.9900                     \n",
       "                                                     "
      ]
     },
     "metadata": {},
     "output_type": "display_data"
    }
   ],
   "source": [
    "summary(allData)"
   ]
  },
  {
   "cell_type": "markdown",
   "metadata": {},
   "source": [
    "# Gamma Fit with vgam "
   ]
  },
  {
   "cell_type": "code",
   "execution_count": 44,
   "metadata": {},
   "outputs": [
    {
     "name": "stdout",
     "output_type": "stream",
     "text": [
      "VGLM    linear loop  1 :  coefficients = \n",
      " 3.0830622655, -2.5414467479, -0.0044785062,  0.0736657560,  0.1671985255, \n",
      " 0.1776198751, -0.3123034268, -0.4025294156, -0.6735232620, -0.2374868680, \n",
      " 0.2433602036,  0.1164215779,  0.1259203488,  0.1213634959, -0.2987984428\n",
      "VGLM    linear loop  2 :  coefficients = \n",
      " 2.283793419, -1.785846170,  0.023786445,  0.137265598,  0.239704997, \n",
      " 0.221062690, -0.255537292, -0.371598495, -0.588015934, -0.202316804, \n",
      " 0.306263383,  0.209023757,  0.169364085, -0.013122472, -0.206522215\n",
      "VGLM    linear loop  3 :  coefficients = \n",
      " 1.735558862, -1.146870275,  0.070977788,  0.240586522,  0.360579653, \n",
      " 0.293844939, -0.162773278, -0.327419095, -0.449098097, -0.142254526, \n",
      " 0.414937911,  0.357133936,  0.240272053, -0.258528151, -0.078652306\n",
      "VGLM    linear loop  4 :  coefficients = \n",
      " 1.5178382562, -0.6916647085,  0.1150651034,  0.3312951320,  0.4738299175, \n",
      " 0.3633051486, -0.0826522957, -0.3003923165, -0.3283419171, -0.0792949308, \n",
      " 0.5308582955,  0.4884259628,  0.3054594547, -0.5156720300, -0.0094377585\n",
      "VGLM    linear loop  5 :  coefficients = \n",
      " 1.478874365, -0.497229234,  0.134426654,  0.366405042,  0.522977446, \n",
      " 0.393569106, -0.058207108, -0.293804019, -0.285867783, -0.042660057, \n",
      " 0.598059583,  0.547731830,  0.336291329, -0.613487009, -0.008274448\n",
      "VGLM    linear loop  6 :  coefficients = \n",
      " 1.473609530, -0.469903618,  0.139044788,  0.373532543,  0.533598621, \n",
      " 0.399434535, -0.055843578, -0.289898339, -0.278530794, -0.032690540, \n",
      " 0.615994831,  0.563239390,  0.344666596, -0.627175476, -0.011000500\n",
      "VGLM    linear loop  7 :  coefficients = \n",
      " 1.473594674, -0.469428524,  0.139568818,  0.374200390,  0.534630909, \n",
      " 0.399839568, -0.055783938, -0.289076205, -0.277755840, -0.031582083, \n",
      " 0.618163538,  0.565221766,  0.345761645, -0.629812551, -0.011938234\n",
      "VGLM    linear loop  8 :  coefficients = \n",
      " 1.473571484, -0.469427922,  0.139679650,  0.374336136,  0.534824008, \n",
      " 0.399913959, -0.055787717, -0.288908525, -0.277632822, -0.031393284, \n",
      " 0.618549626,  0.565586759,  0.345953854, -0.630184939, -0.012122011\n",
      "VGLM    linear loop  9 :  coefficients = \n",
      " 1.473576057, -0.469427910,  0.139695452,  0.374353332,  0.534847534, \n",
      " 0.399920944, -0.055790324, -0.288881632, -0.277617044, -0.031369190, \n",
      " 0.618602062,  0.565637900,  0.345980917, -0.630252296, -0.012157275\n",
      "VGLM    linear loop  10 :  coefficients = \n",
      " 1.473576056, -0.469427910,  0.139698488,  0.374356738,  0.534852054, \n",
      " 0.399922497, -0.055790762, -0.288876739, -0.277614282, -0.031364860, \n",
      " 0.618611361,  0.565647058,  0.345985688, -0.630262191, -0.012163010\n",
      "VGLM    linear loop  11 :  coefficients = \n",
      " 1.473576188, -0.469427910,  0.139698930,  0.374357203,  0.534852660, \n",
      " 0.399922668, -0.055790856, -0.288875985, -0.277613895, -0.031364256, \n",
      " 0.618612706,  0.565648400,  0.345986392, -0.630263911, -0.012164003\n",
      "VGLM    linear loop  12 :  coefficients = \n",
      " 1.47357619, -0.46942791,  0.13969901,  0.37435729,  0.53485277,  0.39992270, \n",
      "-0.05579087, -0.28887585, -0.27761383, -0.03136415,  0.61861294,  0.56564863, \n",
      " 0.34598651, -0.63026417, -0.01216416\n",
      "VGLM    linear loop  13 :  coefficients = \n",
      " 1.473576197, -0.469427910,  0.139699020,  0.374357301,  0.534852787, \n",
      " 0.399922709, -0.055790873, -0.288875835, -0.277613818, -0.031364134, \n",
      " 0.618612974,  0.565648667,  0.345986531, -0.630264215, -0.012164186\n",
      "VGLM    linear loop  14 :  coefficients = \n",
      " 1.473576198, -0.469427910,  0.139699022,  0.374357303,  0.534852790, \n",
      " 0.399922710, -0.055790873, -0.288875831, -0.277613816, -0.031364132, \n",
      " 0.618612980,  0.565648673,  0.345986534, -0.630264221, -0.012164190\n",
      "VGLM    linear loop  15 :  coefficients = \n",
      " 1.473576198, -0.469427910,  0.139699023,  0.374357304,  0.534852790, \n",
      " 0.399922710, -0.055790873, -0.288875831, -0.277613816, -0.031364131, \n",
      " 0.618612981,  0.565648674,  0.345986534, -0.630264223, -0.012164191\n"
     ]
    }
   ],
   "source": [
    "gammaFull = vglm(Prep ~ Month + probNino +probNina , data=wetDays ,family = gamma2 ,trace='True',  crit = \"coef\")"
   ]
  },
  {
   "cell_type": "code",
   "execution_count": 45,
   "metadata": {},
   "outputs": [
    {
     "data": {
      "text/html": [
       "<table>\n",
       "<thead><tr><th></th><th scope=col>loge(mu)</th><th scope=col>loge(shape)</th></tr></thead>\n",
       "<tbody>\n",
       "\t<tr><th scope=row>(Intercept)</th><td> 1.47357620</td><td>-0.4694279 </td></tr>\n",
       "\t<tr><th scope=row>Month2</th><td> 0.13969902</td><td> 0.0000000 </td></tr>\n",
       "\t<tr><th scope=row>Month3</th><td> 0.37435730</td><td> 0.0000000 </td></tr>\n",
       "\t<tr><th scope=row>Month4</th><td> 0.53485279</td><td> 0.0000000 </td></tr>\n",
       "\t<tr><th scope=row>Month5</th><td> 0.39992271</td><td> 0.0000000 </td></tr>\n",
       "\t<tr><th scope=row>Month6</th><td>-0.05579087</td><td> 0.0000000 </td></tr>\n",
       "\t<tr><th scope=row>Month7</th><td>-0.28887583</td><td> 0.0000000 </td></tr>\n",
       "\t<tr><th scope=row>Month8</th><td>-0.27761382</td><td> 0.0000000 </td></tr>\n",
       "\t<tr><th scope=row>Month9</th><td>-0.03136413</td><td> 0.0000000 </td></tr>\n",
       "\t<tr><th scope=row>Month10</th><td> 0.61861298</td><td> 0.0000000 </td></tr>\n",
       "\t<tr><th scope=row>Month11</th><td> 0.56564867</td><td> 0.0000000 </td></tr>\n",
       "\t<tr><th scope=row>Month12</th><td> 0.34598653</td><td> 0.0000000 </td></tr>\n",
       "\t<tr><th scope=row>probNino</th><td>-0.63026422</td><td> 0.0000000 </td></tr>\n",
       "\t<tr><th scope=row>probNina</th><td>-0.01216419</td><td> 0.0000000 </td></tr>\n",
       "</tbody>\n",
       "</table>\n"
      ],
      "text/latex": [
       "\\begin{tabular}{r|ll}\n",
       "  & loge(mu) & loge(shape)\\\\\n",
       "\\hline\n",
       "\t(Intercept) &  1.47357620 & -0.4694279 \\\\\n",
       "\tMonth2 &  0.13969902 &  0.0000000 \\\\\n",
       "\tMonth3 &  0.37435730 &  0.0000000 \\\\\n",
       "\tMonth4 &  0.53485279 &  0.0000000 \\\\\n",
       "\tMonth5 &  0.39992271 &  0.0000000 \\\\\n",
       "\tMonth6 & -0.05579087 &  0.0000000 \\\\\n",
       "\tMonth7 & -0.28887583 &  0.0000000 \\\\\n",
       "\tMonth8 & -0.27761382 &  0.0000000 \\\\\n",
       "\tMonth9 & -0.03136413 &  0.0000000 \\\\\n",
       "\tMonth10 &  0.61861298 &  0.0000000 \\\\\n",
       "\tMonth11 &  0.56564867 &  0.0000000 \\\\\n",
       "\tMonth12 &  0.34598653 &  0.0000000 \\\\\n",
       "\tprobNino & -0.63026422 &  0.0000000 \\\\\n",
       "\tprobNina & -0.01216419 &  0.0000000 \\\\\n",
       "\\end{tabular}\n"
      ],
      "text/markdown": [
       "\n",
       "| <!--/--> | loge(mu) | loge(shape) | \n",
       "|---|---|---|---|---|---|---|---|---|---|---|---|---|---|\n",
       "| (Intercept) |  1.47357620 | -0.4694279  | \n",
       "| Month2 |  0.13969902 |  0.0000000  | \n",
       "| Month3 |  0.37435730 |  0.0000000  | \n",
       "| Month4 |  0.53485279 |  0.0000000  | \n",
       "| Month5 |  0.39992271 |  0.0000000  | \n",
       "| Month6 | -0.05579087 |  0.0000000  | \n",
       "| Month7 | -0.28887583 |  0.0000000  | \n",
       "| Month8 | -0.27761382 |  0.0000000  | \n",
       "| Month9 | -0.03136413 |  0.0000000  | \n",
       "| Month10 |  0.61861298 |  0.0000000  | \n",
       "| Month11 |  0.56564867 |  0.0000000  | \n",
       "| Month12 |  0.34598653 |  0.0000000  | \n",
       "| probNino | -0.63026422 |  0.0000000  | \n",
       "| probNina | -0.01216419 |  0.0000000  | \n",
       "\n",
       "\n"
      ],
      "text/plain": [
       "            loge(mu)    loge(shape)\n",
       "(Intercept)  1.47357620 -0.4694279 \n",
       "Month2       0.13969902  0.0000000 \n",
       "Month3       0.37435730  0.0000000 \n",
       "Month4       0.53485279  0.0000000 \n",
       "Month5       0.39992271  0.0000000 \n",
       "Month6      -0.05579087  0.0000000 \n",
       "Month7      -0.28887583  0.0000000 \n",
       "Month8      -0.27761382  0.0000000 \n",
       "Month9      -0.03136413  0.0000000 \n",
       "Month10      0.61861298  0.0000000 \n",
       "Month11      0.56564867  0.0000000 \n",
       "Month12      0.34598653  0.0000000 \n",
       "probNino    -0.63026422  0.0000000 \n",
       "probNina    -0.01216419  0.0000000 "
      ]
     },
     "metadata": {},
     "output_type": "display_data"
    }
   ],
   "source": [
    "coef(gammaFull,matrix = TRUE)"
   ]
  },
  {
   "cell_type": "code",
   "execution_count": 46,
   "metadata": {},
   "outputs": [
    {
     "data": {
      "text/plain": [
       "\n",
       "Call:\n",
       "vglm(formula = Prep ~ Month + probNino + probNina, family = gamma2, \n",
       "    data = wetDays, trace = \"True\", crit = \"coef\")\n",
       "\n",
       "\n",
       "Pearson residuals:\n",
       "               Min      1Q  Median     3Q     Max\n",
       "loge(mu)    -0.781 -0.7090 -0.4287 0.2064 11.8971\n",
       "loge(shape) -8.415 -0.4584  0.2312 0.6258  0.7322\n",
       "\n",
       "Coefficients: \n",
       "              Estimate Std. Error z value Pr(>|z|)    \n",
       "(Intercept):1  1.47358    0.13858  10.634  < 2e-16 ***\n",
       "(Intercept):2 -0.46943    0.02500 -18.780  < 2e-16 ***\n",
       "Month2         0.13970    0.16357   0.854 0.393069    \n",
       "Month3         0.37436    0.15517   2.412 0.015844 *  \n",
       "Month4         0.53485    0.15122   3.537 0.000405 ***\n",
       "Month5         0.39992    0.15193   2.632 0.008483 ** \n",
       "Month6        -0.05579    0.15423  -0.362 0.717556    \n",
       "Month7        -0.28888    0.15417  -1.874 0.060962 .  \n",
       "Month8        -0.27761    0.15411  -1.801 0.071643 .  \n",
       "Month9        -0.03136    0.16016  -0.196 0.844741    \n",
       "Month10        0.61861    0.15055   4.109 3.97e-05 ***\n",
       "Month11        0.56565    0.15186   3.725 0.000195 ***\n",
       "Month12        0.34599    0.15996   2.163 0.030545 *  \n",
       "probNino      -0.63026    0.09680  -6.511 7.48e-11 ***\n",
       "probNina      -0.01216    0.10129  -0.120 0.904406    \n",
       "---\n",
       "Signif. codes:  0 ‘***’ 0.001 ‘**’ 0.01 ‘*’ 0.05 ‘.’ 0.1 ‘ ’ 1\n",
       "\n",
       "Number of linear predictors:  2 \n",
       "\n",
       "Names of linear predictors: loge(mu), loge(shape)\n",
       "\n",
       "Log-likelihood: -5536.473 on 4535 degrees of freedom\n",
       "\n",
       "Number of iterations: 15 \n",
       "\n",
       "No Hauck-Donner effect found in any of the estimates"
      ]
     },
     "metadata": {},
     "output_type": "display_data"
    }
   ],
   "source": [
    "summary(gammaFull)"
   ]
  },
  {
   "cell_type": "code",
   "execution_count": 30,
   "metadata": {},
   "outputs": [
    {
     "name": "stdout",
     "output_type": "stream",
     "text": [
      "VGAM  vlm.wfit  loop  1 :  coefficients =  3.0928700, -2.5787726\n",
      "VGAM  vlm.wfit  loop  2 :  coefficients =  2.3156214, -1.8234200\n",
      "VGAM  vlm.wfit  loop  3 :  coefficients =  1.8002122, -1.1856438\n",
      "VGAM  vlm.wfit  loop  4 :  coefficients =  1.61157399, -0.73528729\n",
      "VGAM  vlm.wfit  loop  5 :  coefficients =  1.59137772, -0.55205754\n",
      "VGAM  vlm.wfit  loop  6 :  coefficients =  1.5911710, -0.5288453\n",
      "VGAM  vlm.wfit  loop  7 :  coefficients =  1.59117098, -0.52851914\n",
      "VGAM  vlm.wfit  loop  8 :  coefficients =  1.59117098, -0.52851907\n",
      "VGAM  vlm.wfit  loop  9 :  coefficients =  1.59117098, -0.52851907\n"
     ]
    }
   ],
   "source": [
    "gammaN = vgam(Prep ~  1, data=wetDays ,family = gamma2 ,trace='True',  crit = \"coef\")"
   ]
  },
  {
   "cell_type": "code",
   "execution_count": 31,
   "metadata": {},
   "outputs": [
    {
     "data": {
      "text/html": [
       "<table>\n",
       "<thead><tr><th></th><th scope=col>loge(mu)</th><th scope=col>loge(shape)</th></tr></thead>\n",
       "<tbody>\n",
       "\t<tr><th scope=row>(Intercept)</th><td>1.591171  </td><td>-0.5285191</td></tr>\n",
       "</tbody>\n",
       "</table>\n"
      ],
      "text/latex": [
       "\\begin{tabular}{r|ll}\n",
       "  & loge(mu) & loge(shape)\\\\\n",
       "\\hline\n",
       "\t(Intercept) & 1.591171   & -0.5285191\\\\\n",
       "\\end{tabular}\n"
      ],
      "text/markdown": [
       "\n",
       "| <!--/--> | loge(mu) | loge(shape) | \n",
       "|---|\n",
       "| (Intercept) | 1.591171   | -0.5285191 | \n",
       "\n",
       "\n"
      ],
      "text/plain": [
       "            loge(mu) loge(shape)\n",
       "(Intercept) 1.591171 -0.5285191 "
      ]
     },
     "metadata": {},
     "output_type": "display_data"
    }
   ],
   "source": [
    "coef(gammaN,matrix = TRUE)"
   ]
  },
  {
   "cell_type": "markdown",
   "metadata": {},
   "source": [
    "# Save and export results"
   ]
  },
  {
   "cell_type": "code",
   "execution_count": 38,
   "metadata": {},
   "outputs": [],
   "source": [
    "write.table(coef(fitDry, matrix = T),'../results/visibleMarkov/transitionsParametersDry.csv', col.names=F)\n",
    "write.table(coef(fitWet, matrix = T),'../results/visibleMarkov/transitionsParametersWet.csv', col.names=F)\n",
    "write.table(coef(gammaFull, matrix = T),'../results/visibleMarkov/amountGamma.csv', col.names=F)"
   ]
  },
  {
   "cell_type": "code",
   "execution_count": null,
   "metadata": {},
   "outputs": [],
   "source": []
  }
 ],
 "metadata": {
  "kernelspec": {
   "display_name": "R",
   "language": "R",
   "name": "ir"
  },
  "language_info": {
   "codemirror_mode": "r",
   "file_extension": ".r",
   "mimetype": "text/x-r-source",
   "name": "R",
   "pygments_lexer": "r",
   "version": "3.4.4"
  }
 },
 "nbformat": 4,
 "nbformat_minor": 2
}
