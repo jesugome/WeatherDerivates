{
 "cells": [
  {
   "cell_type": "markdown",
   "metadata": {},
   "source": [
    "<h1><font size=12>\n",
    "Weather Derivatites </h1>\n",
    "<h1> Rainfall Simulator -- Full modeling <br></h1>\n",
    "\n",
    "Developed by [Jesus Solano](mailto:ja.solano588@uniandes.edu.co) <br>  \n",
    "16 September 2018 \n"
   ]
  },
  {
   "cell_type": "code",
   "execution_count": 1,
   "metadata": {},
   "outputs": [],
   "source": [
    "# Import needed libraries. \n",
    "import numpy as np\n",
    "import pandas as pd\n",
    "import random as rand\n",
    "import matplotlib.pyplot as plt\n",
    "from scipy.stats import bernoulli\n",
    "from scipy.stats import gamma\n",
    "import pickle\n",
    "import time\n",
    "import datetime"
   ]
  },
  {
   "cell_type": "markdown",
   "metadata": {},
   "source": [
    "# Generate artificial Data"
   ]
  },
  {
   "cell_type": "code",
   "execution_count": 2,
   "metadata": {},
   "outputs": [
    {
     "data": {
      "text/html": [
       "<div>\n",
       "<style scoped>\n",
       "    .dataframe tbody tr th:only-of-type {\n",
       "        vertical-align: middle;\n",
       "    }\n",
       "\n",
       "    .dataframe tbody tr th {\n",
       "        vertical-align: top;\n",
       "    }\n",
       "\n",
       "    .dataframe thead th {\n",
       "        text-align: right;\n",
       "    }\n",
       "</style>\n",
       "<table border=\"1\" class=\"dataframe\">\n",
       "  <thead>\n",
       "    <tr style=\"text-align: right;\">\n",
       "      <th></th>\n",
       "      <th>Season</th>\n",
       "      <th>La Niña</th>\n",
       "      <th>Neutral</th>\n",
       "      <th>El Niño</th>\n",
       "    </tr>\n",
       "  </thead>\n",
       "  <tbody>\n",
       "    <tr>\n",
       "      <th>0</th>\n",
       "      <td>JFM 2005</td>\n",
       "      <td>0%</td>\n",
       "      <td>15%</td>\n",
       "      <td>85%</td>\n",
       "    </tr>\n",
       "    <tr>\n",
       "      <th>1</th>\n",
       "      <td>FMA 2005</td>\n",
       "      <td>0%</td>\n",
       "      <td>17%</td>\n",
       "      <td>83%</td>\n",
       "    </tr>\n",
       "    <tr>\n",
       "      <th>2</th>\n",
       "      <td>MAM 2005</td>\n",
       "      <td>1%</td>\n",
       "      <td>24%</td>\n",
       "      <td>75%</td>\n",
       "    </tr>\n",
       "    <tr>\n",
       "      <th>3</th>\n",
       "      <td>AMJ 2005</td>\n",
       "      <td>2%</td>\n",
       "      <td>43%</td>\n",
       "      <td>55%</td>\n",
       "    </tr>\n",
       "    <tr>\n",
       "      <th>4</th>\n",
       "      <td>MJJ 2005</td>\n",
       "      <td>4%</td>\n",
       "      <td>51%</td>\n",
       "      <td>45%</td>\n",
       "    </tr>\n",
       "    <tr>\n",
       "      <th>5</th>\n",
       "      <td>JJA 2005</td>\n",
       "      <td>6%</td>\n",
       "      <td>54%</td>\n",
       "      <td>40%</td>\n",
       "    </tr>\n",
       "    <tr>\n",
       "      <th>6</th>\n",
       "      <td>JAS 2005</td>\n",
       "      <td>8%</td>\n",
       "      <td>52%</td>\n",
       "      <td>40%</td>\n",
       "    </tr>\n",
       "    <tr>\n",
       "      <th>7</th>\n",
       "      <td>ASO 2005</td>\n",
       "      <td>9%</td>\n",
       "      <td>51%</td>\n",
       "      <td>40%</td>\n",
       "    </tr>\n",
       "    <tr>\n",
       "      <th>8</th>\n",
       "      <td>SON 2005</td>\n",
       "      <td>10%</td>\n",
       "      <td>50%</td>\n",
       "      <td>40%</td>\n",
       "    </tr>\n",
       "    <tr>\n",
       "      <th>9</th>\n",
       "      <td>OND 2005</td>\n",
       "      <td>10%</td>\n",
       "      <td>50%</td>\n",
       "      <td>40%</td>\n",
       "    </tr>\n",
       "  </tbody>\n",
       "</table>\n",
       "</div>"
      ],
      "text/plain": [
       "     Season La Niña Neutral El Niño\n",
       "0  JFM 2005      0%     15%     85%\n",
       "1  FMA 2005      0%     17%     83%\n",
       "2  MAM 2005      1%     24%     75%\n",
       "3  AMJ 2005      2%     43%     55%\n",
       "4  MJJ 2005      4%     51%     45%\n",
       "5  JJA 2005      6%     54%     40%\n",
       "6  JAS 2005      8%     52%     40%\n",
       "7  ASO 2005      9%     51%     40%\n",
       "8  SON 2005     10%     50%     40%\n",
       "9  OND 2005     10%     50%     40%"
      ]
     },
     "execution_count": 2,
     "metadata": {},
     "output_type": "execute_result"
    }
   ],
   "source": [
    "### ENSO probabilistic forecast.\n",
    "\n",
    "# Open saved data.\n",
    "ensoForecast = pickle.load(open('../datasets/ensoForecastProb/ensoForecastProbabilities.pickle','rb'))\n",
    "\n",
    "# Print an example .. ( Format needed)\n",
    "\n",
    "ensoForecast['2005-01']"
   ]
  },
  {
   "cell_type": "code",
   "execution_count": 3,
   "metadata": {},
   "outputs": [
    {
     "name": "stderr",
     "output_type": "stream",
     "text": [
      "/usr/local/lib/python3.5/dist-packages/ipykernel_launcher.py:53: SettingWithCopyWarning: \n",
      "A value is trying to be set on a copy of a slice from a DataFrame\n",
      "\n",
      "See the caveats in the documentation: http://pandas.pydata.org/pandas-docs/stable/indexing.html#indexing-view-versus-copy\n"
     ]
    },
    {
     "data": {
      "text/html": [
       "<div>\n",
       "<style scoped>\n",
       "    .dataframe tbody tr th:only-of-type {\n",
       "        vertical-align: middle;\n",
       "    }\n",
       "\n",
       "    .dataframe tbody tr th {\n",
       "        vertical-align: top;\n",
       "    }\n",
       "\n",
       "    .dataframe thead th {\n",
       "        text-align: right;\n",
       "    }\n",
       "</style>\n",
       "<table border=\"1\" class=\"dataframe\">\n",
       "  <thead>\n",
       "    <tr style=\"text-align: right;\">\n",
       "      <th></th>\n",
       "      <th>state</th>\n",
       "      <th>Prep</th>\n",
       "      <th>Month</th>\n",
       "      <th>probNina</th>\n",
       "      <th>probNino</th>\n",
       "      <th>nextState</th>\n",
       "    </tr>\n",
       "  </thead>\n",
       "  <tbody>\n",
       "    <tr>\n",
       "      <th>2017-08-18</th>\n",
       "      <td>1</td>\n",
       "      <td>0.4</td>\n",
       "      <td>8</td>\n",
       "      <td>0.09</td>\n",
       "      <td>0.09</td>\n",
       "      <td>NaN</td>\n",
       "    </tr>\n",
       "    <tr>\n",
       "      <th>2017-08-19</th>\n",
       "      <td>NaN</td>\n",
       "      <td>NaN</td>\n",
       "      <td>8</td>\n",
       "      <td>0.09</td>\n",
       "      <td>0.09</td>\n",
       "      <td>NaN</td>\n",
       "    </tr>\n",
       "    <tr>\n",
       "      <th>2017-08-20</th>\n",
       "      <td>NaN</td>\n",
       "      <td>NaN</td>\n",
       "      <td>8</td>\n",
       "      <td>0.09</td>\n",
       "      <td>0.09</td>\n",
       "      <td>NaN</td>\n",
       "    </tr>\n",
       "    <tr>\n",
       "      <th>2017-08-21</th>\n",
       "      <td>NaN</td>\n",
       "      <td>NaN</td>\n",
       "      <td>8</td>\n",
       "      <td>0.09</td>\n",
       "      <td>0.09</td>\n",
       "      <td>NaN</td>\n",
       "    </tr>\n",
       "    <tr>\n",
       "      <th>2017-08-22</th>\n",
       "      <td>NaN</td>\n",
       "      <td>NaN</td>\n",
       "      <td>8</td>\n",
       "      <td>0.09</td>\n",
       "      <td>0.09</td>\n",
       "      <td>NaN</td>\n",
       "    </tr>\n",
       "  </tbody>\n",
       "</table>\n",
       "</div>"
      ],
      "text/plain": [
       "           state Prep Month probNina probNino nextState\n",
       "2017-08-18     1  0.4     8     0.09     0.09       NaN\n",
       "2017-08-19   NaN  NaN     8     0.09     0.09       NaN\n",
       "2017-08-20   NaN  NaN     8     0.09     0.09       NaN\n",
       "2017-08-21   NaN  NaN     8     0.09     0.09       NaN\n",
       "2017-08-22   NaN  NaN     8     0.09     0.09       NaN"
      ]
     },
     "execution_count": 3,
     "metadata": {},
     "output_type": "execute_result"
    }
   ],
   "source": [
    "### Create total dataframe.\n",
    "\n",
    "def createTotalDataFrame(daysNumber, startDate , initialState , initialPrep , ensoForecast ):\n",
    "    # Set variables names.\n",
    "    totalDataframeColumns = ['state','Prep','Month','probNina','probNino', 'nextState']\n",
    "\n",
    "    # Create dataframe.\n",
    "\n",
    "    allDataDataframe = pd.DataFrame(columns=totalDataframeColumns) \n",
    "\n",
    "    # Number of simulation days(i.e 30, 60)\n",
    "    daysNumber = daysNumber\n",
    "\n",
    "    # Simulation start date ('1995-04-22')\n",
    "    startDate = startDate\n",
    "\n",
    "    # State of rainfall last day before start date --> Remember 0 means dry and 1 means wet.\n",
    "    initialState = initialState\n",
    "    initialPrep = initialPrep   # Only fill when initialState == 1  \n",
    "\n",
    "\n",
    "    dates = pd.date_range(startDate, periods = daysNumber + 2 , freq='D')\n",
    "\n",
    "    for date in dates: \n",
    "\n",
    "        # Fill precipitation amount.\n",
    "        allDataDataframe.loc[date.strftime('%Y-%m-%d'),'Prep'] = np.nan\n",
    "\n",
    "        # Fill month of date \n",
    "        allDataDataframe.loc[date.strftime('%Y-%m-%d'),'Month'] = date.month\n",
    "\n",
    "        # Fill El Nino ENSO forecast probability. \n",
    "        allDataDataframe.loc[date.strftime('%Y-%m-%d'),'probNino'] = float(ensoForecast[date.strftime('%Y-%m')].loc[0,'El Niño'].strip('%').strip('~'))/100\n",
    "\n",
    "        # Fill La Nina ENSO forecast probability. \n",
    "        allDataDataframe.loc[date.strftime('%Y-%m-%d'),'probNina'] = float(ensoForecast[date.strftime('%Y-%m')].loc[0,'La Niña'].strip('%').strip('~'))/100\n",
    "\n",
    "        # Fill State. \n",
    "        allDataDataframe.loc[date.strftime('%Y-%m-%d'),'state'] = np.nan\n",
    "\n",
    "\n",
    "    simulationDataFrame = allDataDataframe[:-1]\n",
    "\n",
    "    # Fill initial conditions. \n",
    "    simulationDataFrame['state'][0] = initialState\n",
    "    if initialState == 1:\n",
    "        simulationDataFrame['Prep'][0] = initialPrep\n",
    "    else:\n",
    "        simulationDataFrame['Prep'][0] = 0.0\n",
    "    \n",
    "    return simulationDataFrame\n",
    "\n",
    "simulationDataFrame = createTotalDataFrame(daysNumber= 30, startDate = '2017-08-18', initialState = 1 , initialPrep =  0.4, ensoForecast = ensoForecast)\n",
    "simulationDataFrame.head()"
   ]
  },
  {
   "cell_type": "code",
   "execution_count": 5,
   "metadata": {},
   "outputs": [
    {
     "name": "stdout",
     "output_type": "stream",
     "text": [
      "       variable     value\n",
      "1   (Intercept) -1.168017\n",
      "2        Month2  0.346713\n",
      "3        Month3  0.848934\n",
      "4        Month4  1.563185\n",
      "5        Month5  1.567584\n",
      "6        Month6  1.132592\n",
      "7        Month7  1.311161\n",
      "8        Month8  1.432857\n",
      "9        Month9  0.924944\n",
      "10      Month10  1.587704\n",
      "11      Month11  1.356612\n",
      "12      Month12  0.518480\n",
      "13     probNino -0.453497\n",
      "14     probNina  0.176919\n",
      "\n",
      " * Intercept means firts month (January) \n"
     ]
    }
   ],
   "source": [
    "### Load transitions and amount parameters.\n",
    "\n",
    "# Transitions probabilites.\n",
    "transitionsParametersDry = pd.read_csv('../results/visibleMarkov/transitionsParametersDry.csv', sep = ' ', header=None, names = ['variable', 'value'])\n",
    "transitionsParametersDry.index += 1 \n",
    "transitionsParametersDry\n",
    "\n",
    "transitionsParametersWet = pd.read_csv('../results/visibleMarkov/transitionsParametersWet.csv', sep = ' ', header=None, names = ['variable', 'value'])\n",
    "transitionsParametersWet.index += 1 \n",
    "transitionsParametersWet\n",
    "\n",
    "amountParametersGamma = pd.read_csv('../results/visibleMarkov/amountGamma.csv', sep = ' ', header=None, names = ['variable', 'loge(mu)', 'loge(shape)'])\n",
    "amountParametersGamma.index += 1 \n",
    "print(transitionsParametersDry)\n",
    "\n",
    "print('\\n * Intercept means firts month (January) ')\n"
   ]
  },
  {
   "cell_type": "markdown",
   "metadata": {},
   "source": [
    "## Simulation Function Core"
   ]
  },
  {
   "cell_type": "code",
   "execution_count": 18,
   "metadata": {},
   "outputs": [],
   "source": [
    "### Build the simulation core.\n",
    "\n",
    "# Updates the state of the day based on yesterday state. \n",
    "def updateState(yesterdayIndex, simulationDataFrame, transitionsParametersDry, transitionsParametersWet):\n",
    "    \n",
    "    # Additional data of day.\n",
    "    yesterdayState = simulationDataFrame['state'][yesterdayIndex]\n",
    "    yesterdayPrep = simulationDataFrame['Prep'][yesterdayIndex]\n",
    "    yesterdayProbNino = simulationDataFrame['probNino'][yesterdayIndex]\n",
    "    yesterdayProbNina = simulationDataFrame['probNina'][yesterdayIndex]\n",
    "    yesterdayMonth = simulationDataFrame['Month'][yesterdayIndex]\n",
    "    \n",
    "    # Calculate transition probability.\n",
    "    if yesterdayState == 0:\n",
    "        \n",
    "        # Includes month factor + probNino value + probNino value.\n",
    "        successProbabilityLogit = transitionsParametersDry['value'][yesterdayMonth] + yesterdayProbNino*transitionsParametersDry['value'][13] +  yesterdayProbNina*transitionsParametersDry['value'][14]\n",
    "        successProbability = (np.exp(successProbabilityLogit))/(1+np.exp(successProbabilityLogit))\n",
    "    elif yesterdayState == 1:\n",
    "        \n",
    "        # Includes month factor + probNino value + probNino value + prep value .\n",
    "        successProbabilityLogit = transitionsParametersDry['value'][yesterdayMonth] + yesterdayProbNino*transitionsParametersWet['value'][14] +  yesterdayProbNina*transitionsParametersWet['value'][15] + yesterdayPrep*transitionsParametersWet['value'][13] \n",
    "        successProbability = (np.exp(successProbabilityLogit))/(1+np.exp(successProbabilityLogit))\n",
    "    else:\n",
    "        print('State of date: ', simulationDataFrame.index[yesterdayIndex],' not found.')\n",
    "    \n",
    "    #print(successProbability)\n",
    "    #successProbability = monthTransitions['p'+str(yesterdayState)+'1'][yesterdayMonth] \n",
    "    \n",
    "    todayState = bernoulli.rvs(successProbability)\n",
    "    \n",
    "    return todayState "
   ]
  },
  {
   "cell_type": "code",
   "execution_count": 19,
   "metadata": {},
   "outputs": [],
   "source": [
    "# Simulates one run of simulation. \n",
    "def oneRun(simulationDataFrame, transitionsParametersDry, transitionsParametersWet, amountParametersGamma):\n",
    "    \n",
    "    # Define the total rainfall amount over the simulation.\n",
    "    rainfall = 0\n",
    "    \n",
    "    # Loop over days in simulation to calculate rainfall ammount.\n",
    "    for day in range(1,len(simulationDataFrame)):\n",
    "        \n",
    "        # Get today date. \n",
    "        dateOfDay = datetime.datetime.strptime(simulationDataFrame.index[day],'%Y-%m-%d')\n",
    "       \n",
    "    \n",
    "        # Update today state based on the yesterday state. \n",
    "        todayState = updateState(day-1, simulationDataFrame, transitionsParametersDry, transitionsParametersWet)\n",
    "        \n",
    "        # Write new day information.\n",
    "        simulationDataFrame['state'][day] = todayState\n",
    "        simulationDataFrame['nextState'][day-1] = todayState\n",
    "        \n",
    "        # Computes total accumulated rainfall.\n",
    "        if todayState == 1:\n",
    "            \n",
    "            # Additional data of day.\n",
    "            todayProbNino = simulationDataFrame['probNino'][day]\n",
    "            todayProbNina = simulationDataFrame['probNina'][day]\n",
    "            todayMonth = simulationDataFrame['Month'][day]\n",
    "    \n",
    "            \n",
    "            # Calculates gamma log(mu).\n",
    "            gammaLogMU = amountParametersGamma['loge(mu)'][todayMonth]+ todayProbNino*amountParametersGamma['loge(mu)'][13]+todayProbNino*amountParametersGamma['loge(mu)'][13] \n",
    "            \n",
    "            # Calculates gamma scale\n",
    "            gammaLogShape = amountParametersGamma['loge(shape)'][1]\n",
    "            \n",
    "            # Update mu\n",
    "            gammaMu = np.exp(gammaLogMU)\n",
    "            \n",
    "            # Update shape\n",
    "            gammaShape = np.exp(gammaLogShape)\n",
    "            \n",
    "            # Calculate gamma scale.\n",
    "            gammaScale = gammaMu / gammaShape\n",
    "            \n",
    "            # Generate random rainfall.\n",
    "            todayRainfall = gamma.rvs(a = gammaShape, scale = gammaScale)\n",
    "            \n",
    "            # Write new day information.\n",
    "            simulationDataFrame['Prep'][day] = todayRainfall\n",
    "            \n",
    "            # Updates rainfall amount. \n",
    "            rainfall += todayRainfall\n",
    "            \n",
    "        else:\n",
    "            # Write new day information.\n",
    "            simulationDataFrame['Prep'][day] = 0\n",
    "            \n",
    "        \n",
    "        yesterdayState = todayState\n",
    "            \n",
    "        \n",
    "    return rainfall"
   ]
  },
  {
   "cell_type": "code",
   "execution_count": 20,
   "metadata": {},
   "outputs": [
    {
     "data": {
      "text/plain": [
       "1"
      ]
     },
     "execution_count": 20,
     "metadata": {},
     "output_type": "execute_result"
    }
   ],
   "source": [
    "updateState(0, simulationDataFrame, transitionsParametersDry, transitionsParametersWet)"
   ]
  },
  {
   "cell_type": "code",
   "execution_count": 21,
   "metadata": {},
   "outputs": [
    {
     "data": {
      "text/plain": [
       "25.81394659510146"
      ]
     },
     "execution_count": 21,
     "metadata": {},
     "output_type": "execute_result"
    }
   ],
   "source": [
    "# Run only one iteration(Print structure of results)\n",
    "\n",
    "# Simulations iterations.\n",
    "iterations = 10000\n",
    "\n",
    "oneRun(simulationDataFrame, transitionsParametersDry, transitionsParametersWet, amountParametersGamma)\n"
   ]
  },
  {
   "cell_type": "markdown",
   "metadata": {},
   "source": [
    "## Complete Simulation"
   ]
  },
  {
   "cell_type": "code",
   "execution_count": 22,
   "metadata": {},
   "outputs": [],
   "source": [
    "# Run total iterations.\n",
    "def totalRun(simulationDataFrame, transitionsParametersDry, transitionsParametersWet, amountParametersGamma,iterations):\n",
    "    \n",
    "    # Initialize time \n",
    "    startTime = time.time()\n",
    "    \n",
    "    # Array to store all precipitations.\n",
    "    rainfallPerIteration = [None]*iterations\n",
    "    \n",
    "    \n",
    "    # Loop over each iteration(simulation)\n",
    "    \n",
    "    for i in range(iterations):\n",
    "        \n",
    "        simulationDataFrameC = simulationDataFrame.copy()\n",
    "        \n",
    "        iterationRainfall = oneRun(simulationDataFrameC, transitionsParametersDry, transitionsParametersWet, amountParametersGamma)\n",
    "        \n",
    "        rainfallPerIteration[i] = iterationRainfall\n",
    "    \n",
    "    # Calculate time\n",
    "    currentTime = time.time() - startTime \n",
    "    \n",
    "    # Logging time.\n",
    "    print('The elapsed time over simulation is: ', currentTime, ' seconds.')\n",
    "    \n",
    "    return rainfallPerIteration"
   ]
  },
  {
   "cell_type": "code",
   "execution_count": 30,
   "metadata": {},
   "outputs": [
    {
     "name": "stderr",
     "output_type": "stream",
     "text": [
      "/usr/local/lib/python3.5/dist-packages/ipykernel_launcher.py:7: SettingWithCopyWarning: \n",
      "A value is trying to be set on a copy of a slice from a DataFrame\n",
      "\n",
      "See the caveats in the documentation: http://pandas.pydata.org/pandas-docs/stable/indexing.html#indexing-view-versus-copy\n",
      "  import sys\n"
     ]
    },
    {
     "data": {
      "text/html": [
       "<div>\n",
       "<style scoped>\n",
       "    .dataframe tbody tr th:only-of-type {\n",
       "        vertical-align: middle;\n",
       "    }\n",
       "\n",
       "    .dataframe tbody tr th {\n",
       "        vertical-align: top;\n",
       "    }\n",
       "\n",
       "    .dataframe thead th {\n",
       "        text-align: right;\n",
       "    }\n",
       "</style>\n",
       "<table border=\"1\" class=\"dataframe\">\n",
       "  <thead>\n",
       "    <tr style=\"text-align: right;\">\n",
       "      <th></th>\n",
       "      <th>state</th>\n",
       "      <th>Prep</th>\n",
       "      <th>Month</th>\n",
       "      <th>probNina</th>\n",
       "      <th>probNino</th>\n",
       "      <th>nextState</th>\n",
       "    </tr>\n",
       "  </thead>\n",
       "  <tbody>\n",
       "    <tr>\n",
       "      <th>2017-12-18</th>\n",
       "      <td>1</td>\n",
       "      <td>0.4</td>\n",
       "      <td>12</td>\n",
       "      <td>0.83</td>\n",
       "      <td>0</td>\n",
       "      <td>NaN</td>\n",
       "    </tr>\n",
       "    <tr>\n",
       "      <th>2017-12-19</th>\n",
       "      <td>NaN</td>\n",
       "      <td>NaN</td>\n",
       "      <td>12</td>\n",
       "      <td>0.83</td>\n",
       "      <td>0</td>\n",
       "      <td>NaN</td>\n",
       "    </tr>\n",
       "    <tr>\n",
       "      <th>2017-12-20</th>\n",
       "      <td>NaN</td>\n",
       "      <td>NaN</td>\n",
       "      <td>12</td>\n",
       "      <td>0.83</td>\n",
       "      <td>0</td>\n",
       "      <td>NaN</td>\n",
       "    </tr>\n",
       "    <tr>\n",
       "      <th>2017-12-21</th>\n",
       "      <td>NaN</td>\n",
       "      <td>NaN</td>\n",
       "      <td>12</td>\n",
       "      <td>0.83</td>\n",
       "      <td>0</td>\n",
       "      <td>NaN</td>\n",
       "    </tr>\n",
       "    <tr>\n",
       "      <th>2017-12-22</th>\n",
       "      <td>NaN</td>\n",
       "      <td>NaN</td>\n",
       "      <td>12</td>\n",
       "      <td>0.83</td>\n",
       "      <td>0</td>\n",
       "      <td>NaN</td>\n",
       "    </tr>\n",
       "  </tbody>\n",
       "</table>\n",
       "</div>"
      ],
      "text/plain": [
       "           state Prep Month probNina probNino nextState\n",
       "2017-12-18     1  0.4    12     0.83        0       NaN\n",
       "2017-12-19   NaN  NaN    12     0.83        0       NaN\n",
       "2017-12-20   NaN  NaN    12     0.83        0       NaN\n",
       "2017-12-21   NaN  NaN    12     0.83        0       NaN\n",
       "2017-12-22   NaN  NaN    12     0.83        0       NaN"
      ]
     },
     "execution_count": 30,
     "metadata": {},
     "output_type": "execute_result"
    }
   ],
   "source": [
    "#### Define parameters simulation.\n",
    "\n",
    "# Simulations iterations.\n",
    "iterations = 1000\n",
    "\n",
    "# Create dataframe to simulate. \n",
    "simulationDataFrame = createTotalDataFrame(daysNumber= 30, startDate = '2017-12-18', initialState = 1 , initialPrep =  0.4, ensoForecast = ensoForecast)\n",
    "simulationDataFrame.head()"
   ]
  },
  {
   "cell_type": "markdown",
   "metadata": {},
   "source": [
    "## Final Results"
   ]
  },
  {
   "cell_type": "code",
   "execution_count": 31,
   "metadata": {},
   "outputs": [
    {
     "name": "stdout",
     "output_type": "stream",
     "text": [
      "The elapsed time over simulation is:  23.72859287261963  seconds.\n"
     ]
    }
   ],
   "source": [
    "# Final Analysis.\n",
    "\n",
    "finalSimulation = totalRun(simulationDataFrame, transitionsParametersDry, transitionsParametersWet, amountParametersGamma,iterations)\n"
   ]
  },
  {
   "cell_type": "code",
   "execution_count": 32,
   "metadata": {
    "scrolled": false
   },
   "outputs": [
    {
     "data": {
      "image/png": "[encoded data removed]",
      "text/plain": [
       "<Figure size 1440x720 with 1 Axes>"
      ]
     },
     "metadata": {},
     "output_type": "display_data"
    }
   ],
   "source": [
    "fig = plt.figure(figsize=(20, 10))\n",
    "\n",
    "plt.hist(finalSimulation,facecolor='steelblue',bins=100, density=True,\n",
    "         histtype='stepfilled', edgecolor = 'black' , hatch = '+')\n",
    "\n",
    "plt.title('Rainfall Simulation')\n",
    "plt.xlabel('Rainfall Amount [mm]')\n",
    "plt.ylabel('Probability ')\n",
    "plt.grid()\n",
    "plt.show()"
   ]
  },
  {
   "cell_type": "markdown",
   "metadata": {},
   "source": [
    "# Financial Analysis"
   ]
  },
  {
   "cell_type": "code",
   "execution_count": null,
   "metadata": {},
   "outputs": [],
   "source": []
  }
 ],
 "metadata": {
  "kernelspec": {
   "display_name": "Python 3",
   "language": "python",
   "name": "python3"
  },
  "language_info": {
   "codemirror_mode": {
    "name": "ipython",
    "version": 3
   },
   "file_extension": ".py",
   "mimetype": "text/x-python",
   "name": "python",
   "nbconvert_exporter": "python",
   "pygments_lexer": "ipython3",
   "version": "3.5.2"
  }
 },
 "nbformat": 4,
 "nbformat_minor": 2
}
