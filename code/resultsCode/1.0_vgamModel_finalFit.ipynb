{
 "cells": [
  {
   "cell_type": "markdown",
   "metadata": {},
   "source": [
    "<h1><font size=12>\n",
    "Weather Derivatites </h1>\n",
    "<h1> Vglm Model - Parameters Estimation <br></h1>\n",
    "\n",
    "Developed by [Jesus Solano](mailto:ja.solano588@uniandes.edu.co) <br>  \n",
    "5 October 2018 \n"
   ]
  },
  {
   "cell_type": "code",
   "execution_count": 21,
   "metadata": {},
   "outputs": [],
   "source": [
    "# Load fulldataset \n",
    "\n",
    "allData <- read.csv(file='../../datasets/fullDataset/completeDailyDataset_2005-01-01_2015-12-31.csv', header=TRUE, sep=\",\", row.names = 'X' ) \n",
    "myData <- read.csv(file='../../datasets/fullDataset/completeDailyDataset_2005-01-01_2015-12-31.csv', header=TRUE, sep=\",\") "
   ]
  },
  {
   "cell_type": "code",
   "execution_count": 22,
   "metadata": {},
   "outputs": [
    {
     "data": {
      "text/html": [
       "<table>\n",
       "<thead><tr><th scope=col>X</th><th scope=col>Prep</th><th scope=col>Month</th><th scope=col>nino34</th><th scope=col>probNeutral</th><th scope=col>probNino</th><th scope=col>probNina</th><th scope=col>state</th><th scope=col>nextState</th></tr></thead>\n",
       "<tbody>\n",
       "\t<tr><td>2005-01-01</td><td>0.0       </td><td>1         </td><td>0.6061863 </td><td>0.15      </td><td>0.85      </td><td>0         </td><td>0         </td><td>0         </td></tr>\n",
       "\t<tr><td>2005-01-02</td><td>0.0       </td><td>1         </td><td>0.5993582 </td><td>0.15      </td><td>0.85      </td><td>0         </td><td>0         </td><td>0         </td></tr>\n",
       "\t<tr><td>2005-01-03</td><td>0.0       </td><td>1         </td><td>0.6467837 </td><td>0.15      </td><td>0.85      </td><td>0         </td><td>0         </td><td>1         </td></tr>\n",
       "\t<tr><td>2005-01-04</td><td>1.6       </td><td>1         </td><td>0.6636958 </td><td>0.15      </td><td>0.85      </td><td>0         </td><td>1         </td><td>0         </td></tr>\n",
       "\t<tr><td>2005-01-05</td><td>0.0       </td><td>1         </td><td>0.7113302 </td><td>0.15      </td><td>0.85      </td><td>0         </td><td>0         </td><td>0         </td></tr>\n",
       "\t<tr><td>2005-01-06</td><td>0.0       </td><td>1         </td><td>0.6791847 </td><td>0.15      </td><td>0.85      </td><td>0         </td><td>0         </td><td>0         </td></tr>\n",
       "</tbody>\n",
       "</table>\n"
      ],
      "text/latex": [
       "\\begin{tabular}{r|lllllllll}\n",
       " X & Prep & Month & nino34 & probNeutral & probNino & probNina & state & nextState\\\\\n",
       "\\hline\n",
       "\t 2005-01-01 & 0.0        & 1          & 0.6061863  & 0.15       & 0.85       & 0          & 0          & 0         \\\\\n",
       "\t 2005-01-02 & 0.0        & 1          & 0.5993582  & 0.15       & 0.85       & 0          & 0          & 0         \\\\\n",
       "\t 2005-01-03 & 0.0        & 1          & 0.6467837  & 0.15       & 0.85       & 0          & 0          & 1         \\\\\n",
       "\t 2005-01-04 & 1.6        & 1          & 0.6636958  & 0.15       & 0.85       & 0          & 1          & 0         \\\\\n",
       "\t 2005-01-05 & 0.0        & 1          & 0.7113302  & 0.15       & 0.85       & 0          & 0          & 0         \\\\\n",
       "\t 2005-01-06 & 0.0        & 1          & 0.6791847  & 0.15       & 0.85       & 0          & 0          & 0         \\\\\n",
       "\\end{tabular}\n"
      ],
      "text/markdown": [
       "\n",
       "X | Prep | Month | nino34 | probNeutral | probNino | probNina | state | nextState | \n",
       "|---|---|---|---|---|---|\n",
       "| 2005-01-01 | 0.0        | 1          | 0.6061863  | 0.15       | 0.85       | 0          | 0          | 0          | \n",
       "| 2005-01-02 | 0.0        | 1          | 0.5993582  | 0.15       | 0.85       | 0          | 0          | 0          | \n",
       "| 2005-01-03 | 0.0        | 1          | 0.6467837  | 0.15       | 0.85       | 0          | 0          | 1          | \n",
       "| 2005-01-04 | 1.6        | 1          | 0.6636958  | 0.15       | 0.85       | 0          | 1          | 0          | \n",
       "| 2005-01-05 | 0.0        | 1          | 0.7113302  | 0.15       | 0.85       | 0          | 0          | 0          | \n",
       "| 2005-01-06 | 0.0        | 1          | 0.6791847  | 0.15       | 0.85       | 0          | 0          | 0          | \n",
       "\n",
       "\n"
      ],
      "text/plain": [
       "  X          Prep Month nino34    probNeutral probNino probNina state nextState\n",
       "1 2005-01-01 0.0  1     0.6061863 0.15        0.85     0        0     0        \n",
       "2 2005-01-02 0.0  1     0.5993582 0.15        0.85     0        0     0        \n",
       "3 2005-01-03 0.0  1     0.6467837 0.15        0.85     0        0     1        \n",
       "4 2005-01-04 1.6  1     0.6636958 0.15        0.85     0        1     0        \n",
       "5 2005-01-05 0.0  1     0.7113302 0.15        0.85     0        0     0        \n",
       "6 2005-01-06 0.0  1     0.6791847 0.15        0.85     0        0     0        "
      ]
     },
     "metadata": {},
     "output_type": "display_data"
    }
   ],
   "source": [
    "# Show a preview of dataset.\n",
    "head(myData)"
   ]
  },
  {
   "cell_type": "code",
   "execution_count": 23,
   "metadata": {},
   "outputs": [
    {
     "data": {
      "text/plain": [
       "      Prep            Month          nino34          probNeutral    \n",
       " Min.   : 0.000   1      : 341   Min.   :-2.02452   Min.   :0.0000  \n",
       " 1st Qu.: 0.000   3      : 341   1st Qu.:-0.57617   1st Qu.:0.1400  \n",
       " Median : 0.200   5      : 341   Median :-0.01589   Median :0.4400  \n",
       " Mean   : 2.781   7      : 341   Mean   : 0.04185   Mean   :0.4604  \n",
       " 3rd Qu.: 2.700   8      : 341   3rd Qu.: 0.55833   3rd Qu.:0.7500  \n",
       " Max.   :78.500   10     : 341   Max.   : 3.28767   Max.   :1.0000  \n",
       "                  (Other):1970                                      \n",
       "    probNino         probNina      state    nextState\n",
       " Min.   :0.0000   Min.   :0.0000   0:1741   0:1741   \n",
       " 1st Qu.:0.0100   1st Qu.:0.0000   1:2275   1:2275   \n",
       " Median :0.0500   Median :0.0500                     \n",
       " Mean   :0.2895   Mean   :0.2504                     \n",
       " 3rd Qu.:0.5900   3rd Qu.:0.5000                     \n",
       " Max.   :1.0000   Max.   :0.9900                     \n",
       "                                                     "
      ]
     },
     "metadata": {},
     "output_type": "display_data"
    }
   ],
   "source": [
    "# Split dataset into dry and wet days.\n",
    "\n",
    "allData$nextState=as.factor(allData$nextState)\n",
    "allData$state=as.factor(allData$state)\n",
    "allData$Month=as.factor(allData$Month)\n",
    "\n",
    "\n",
    "dryDays <- allData[allData$state == 0,]\n",
    "wetDays <- allData[allData$state == 1,]\n",
    "\n",
    "summary(allData)\n"
   ]
  },
  {
   "cell_type": "code",
   "execution_count": 24,
   "metadata": {},
   "outputs": [],
   "source": [
    "# Apply vgam model for transitions. \n",
    "library(VGAM)\n",
    "\n",
    "# La siguiente es la ideal pero por correlaciones no fucniona.\n",
    "# vglm(nextState ~ Prep + Month +nino34 + probNeutral + probNino, data=dryDays ,family = binomialff())\n",
    "    #install.packages('VGAM')\n"
   ]
  },
  {
   "cell_type": "code",
   "execution_count": 25,
   "metadata": {},
   "outputs": [
    {
     "data": {
      "text/plain": [
       "\n",
       "Call:\n",
       "glm(formula = nextState ~ -1 + Month + probNino + probNina, family = binomial, \n",
       "    data = dryDays)\n",
       "\n",
       "Deviance Residuals: \n",
       "    Min       1Q   Median       3Q      Max  \n",
       "-1.4380  -1.0648  -0.7571   1.1648   1.8921  \n",
       "\n",
       "Coefficients:\n",
       "         Estimate Std. Error z value Pr(>|z|)    \n",
       "Month1   -1.16802    0.18915  -6.175 6.61e-10 ***\n",
       "Month2   -0.82130    0.19695  -4.170 3.04e-05 ***\n",
       "Month3   -0.31908    0.18350  -1.739 0.082057 .  \n",
       "Month4    0.39517    0.22157   1.784 0.074502 .  \n",
       "Month5    0.39957    0.21135   1.891 0.058688 .  \n",
       "Month6   -0.03543    0.19087  -0.186 0.852756    \n",
       "Month7    0.14314    0.18610   0.769 0.441780    \n",
       "Month8    0.26484    0.18995   1.394 0.163230    \n",
       "Month9   -0.24307    0.18261  -1.331 0.183162    \n",
       "Month10   0.41969    0.21050   1.994 0.046176 *  \n",
       "Month11   0.18860    0.20648   0.913 0.361037    \n",
       "Month12  -0.64954    0.18775  -3.460 0.000541 ***\n",
       "probNino -0.45350    0.16855  -2.691 0.007133 ** \n",
       "probNina  0.17692    0.19426   0.911 0.362440    \n",
       "---\n",
       "Signif. codes:  0 ‘***’ 0.001 ‘**’ 0.01 ‘*’ 0.05 ‘.’ 0.1 ‘ ’ 1\n",
       "\n",
       "(Dispersion parameter for binomial family taken to be 1)\n",
       "\n",
       "    Null deviance: 2413.5  on 1741  degrees of freedom\n",
       "Residual deviance: 2249.3  on 1727  degrees of freedom\n",
       "AIC: 2277.3\n",
       "\n",
       "Number of Fisher Scoring iterations: 4\n"
      ]
     },
     "metadata": {},
     "output_type": "display_data"
    }
   ],
   "source": [
    "# Fit to dryDays (Transitions)\n",
    "fitDry = glm(nextState ~- 1 + Month  + probNino + probNina , data=dryDays ,family = binomial)\n",
    "summary(fitDry)"
   ]
  },
  {
   "cell_type": "code",
   "execution_count": 26,
   "metadata": {
    "scrolled": false
   },
   "outputs": [
    {
     "data": {
      "text/plain": [
       "\n",
       "Call:\n",
       "glm(formula = nextState ~ -1 + Month + Prep + probNino + probNina, \n",
       "    family = binomial, data = wetDays)\n",
       "\n",
       "Deviance Residuals: \n",
       "    Min       1Q   Median       3Q      Max  \n",
       "-2.4640  -1.3169   0.7459   0.9045   1.4012  \n",
       "\n",
       "Coefficients:\n",
       "          Estimate Std. Error z value Pr(>|z|)    \n",
       "Month1   -0.563174   0.228420  -2.466  0.01368 *  \n",
       "Month2    0.020705   0.204736   0.101  0.91945    \n",
       "Month3    0.268828   0.180199   1.492  0.13574    \n",
       "Month4    0.905289   0.175052   5.172 2.32e-07 ***\n",
       "Month5    0.741000   0.164512   4.504 6.66e-06 ***\n",
       "Month6    0.540042   0.171448   3.150  0.00163 ** \n",
       "Month7    0.317841   0.171128   1.857  0.06326 .  \n",
       "Month8    0.106835   0.168317   0.635  0.52561    \n",
       "Month9   -0.074405   0.183416  -0.406  0.68499    \n",
       "Month10   0.333996   0.179358   1.862  0.06258 .  \n",
       "Month11   0.375942   0.184321   2.040  0.04139 *  \n",
       "Month12  -0.252297   0.199291  -1.266  0.20552    \n",
       "Prep      0.033265   0.007723   4.307 1.65e-05 ***\n",
       "probNino  0.307107   0.162959   1.885  0.05949 .  \n",
       "probNina  0.890775   0.177598   5.016 5.28e-07 ***\n",
       "---\n",
       "Signif. codes:  0 ‘***’ 0.001 ‘**’ 0.01 ‘*’ 0.05 ‘.’ 0.1 ‘ ’ 1\n",
       "\n",
       "(Dispersion parameter for binomial family taken to be 1)\n",
       "\n",
       "    Null deviance: 3153.8  on 2275  degrees of freedom\n",
       "Residual deviance: 2754.1  on 2260  degrees of freedom\n",
       "AIC: 2784.1\n",
       "\n",
       "Number of Fisher Scoring iterations: 4\n"
      ]
     },
     "metadata": {},
     "output_type": "display_data"
    }
   ],
   "source": [
    "# Fit to wetDays (Transitions)\n",
    "fitWet = glm(nextState ~ -1 + Month + Prep + probNino + probNina, data=wetDays ,family = binomial)\n",
    "summary(fitWet)"
   ]
  },
  {
   "cell_type": "markdown",
   "metadata": {},
   "source": [
    "## Review Input Data"
   ]
  },
  {
   "cell_type": "code",
   "execution_count": 9,
   "metadata": {},
   "outputs": [
    {
     "data": {
      "text/html": [
       "<table>\n",
       "<thead><tr><th></th><th scope=col>Prep</th><th scope=col>nino34</th><th scope=col>probNeutral</th><th scope=col>probNino</th><th scope=col>probNina</th></tr></thead>\n",
       "<tbody>\n",
       "\t<tr><th scope=row>Prep</th><td> 1.00000000</td><td>-0.08380009</td><td> 0.0451726 </td><td>-0.1153749 </td><td> 0.08082622</td></tr>\n",
       "\t<tr><th scope=row>nino34</th><td>-0.08380009</td><td> 1.00000000</td><td>-0.1895744 </td><td> 0.8411257 </td><td>-0.72492841</td></tr>\n",
       "\t<tr><th scope=row>probNeutral</th><td> 0.04517260</td><td>-0.18957436</td><td> 1.0000000 </td><td>-0.5310060 </td><td>-0.40018698</td></tr>\n",
       "\t<tr><th scope=row>probNino</th><td>-0.11537493</td><td> 0.84112566</td><td>-0.5310060 </td><td> 1.0000000 </td><td>-0.56405273</td></tr>\n",
       "\t<tr><th scope=row>probNina</th><td> 0.08082622</td><td>-0.72492841</td><td>-0.4001870 </td><td>-0.5640527 </td><td> 1.00000000</td></tr>\n",
       "</tbody>\n",
       "</table>\n"
      ],
      "text/latex": [
       "\\begin{tabular}{r|lllll}\n",
       "  & Prep & nino34 & probNeutral & probNino & probNina\\\\\n",
       "\\hline\n",
       "\tPrep &  1.00000000 & -0.08380009 &  0.0451726  & -0.1153749  &  0.08082622\\\\\n",
       "\tnino34 & -0.08380009 &  1.00000000 & -0.1895744  &  0.8411257  & -0.72492841\\\\\n",
       "\tprobNeutral &  0.04517260 & -0.18957436 &  1.0000000  & -0.5310060  & -0.40018698\\\\\n",
       "\tprobNino & -0.11537493 &  0.84112566 & -0.5310060  &  1.0000000  & -0.56405273\\\\\n",
       "\tprobNina &  0.08082622 & -0.72492841 & -0.4001870  & -0.5640527  &  1.00000000\\\\\n",
       "\\end{tabular}\n"
      ],
      "text/markdown": [
       "\n",
       "| <!--/--> | Prep | nino34 | probNeutral | probNino | probNina | \n",
       "|---|---|---|---|---|\n",
       "| Prep |  1.00000000 | -0.08380009 |  0.0451726  | -0.1153749  |  0.08082622 | \n",
       "| nino34 | -0.08380009 |  1.00000000 | -0.1895744  |  0.8411257  | -0.72492841 | \n",
       "| probNeutral |  0.04517260 | -0.18957436 |  1.0000000  | -0.5310060  | -0.40018698 | \n",
       "| probNino | -0.11537493 |  0.84112566 | -0.5310060  |  1.0000000  | -0.56405273 | \n",
       "| probNina |  0.08082622 | -0.72492841 | -0.4001870  | -0.5640527  |  1.00000000 | \n",
       "\n",
       "\n"
      ],
      "text/plain": [
       "            Prep        nino34      probNeutral probNino   probNina   \n",
       "Prep         1.00000000 -0.08380009  0.0451726  -0.1153749  0.08082622\n",
       "nino34      -0.08380009  1.00000000 -0.1895744   0.8411257 -0.72492841\n",
       "probNeutral  0.04517260 -0.18957436  1.0000000  -0.5310060 -0.40018698\n",
       "probNino    -0.11537493  0.84112566 -0.5310060   1.0000000 -0.56405273\n",
       "probNina     0.08082622 -0.72492841 -0.4001870  -0.5640527  1.00000000"
      ]
     },
     "metadata": {},
     "output_type": "display_data"
    }
   ],
   "source": [
    "cor(allData[,c(1,3,4,5,6)], method = c(\"pearson\", \"kendall\", \"spearman\"))"
   ]
  },
  {
   "cell_type": "code",
   "execution_count": 10,
   "metadata": {},
   "outputs": [
    {
     "data": {
      "text/html": [
       "<table>\n",
       "<thead><tr><th></th><th scope=col>nino34</th><th scope=col>probNeutral</th><th scope=col>probNino</th><th scope=col>probNina</th></tr></thead>\n",
       "<tbody>\n",
       "\t<tr><th scope=row>nino34</th><td> 1.0000000</td><td>-0.2541178</td><td> 0.8378201</td><td>-0.7038257</td></tr>\n",
       "\t<tr><th scope=row>probNeutral</th><td>-0.2541178</td><td> 1.0000000</td><td>-0.5793464</td><td>-0.3515599</td></tr>\n",
       "\t<tr><th scope=row>probNino</th><td> 0.8378201</td><td>-0.5793464</td><td> 1.0000000</td><td>-0.5593739</td></tr>\n",
       "\t<tr><th scope=row>probNina</th><td>-0.7038257</td><td>-0.3515599</td><td>-0.5593739</td><td> 1.0000000</td></tr>\n",
       "</tbody>\n",
       "</table>\n"
      ],
      "text/latex": [
       "\\begin{tabular}{r|llll}\n",
       "  & nino34 & probNeutral & probNino & probNina\\\\\n",
       "\\hline\n",
       "\tnino34 &  1.0000000 & -0.2541178 &  0.8378201 & -0.7038257\\\\\n",
       "\tprobNeutral & -0.2541178 &  1.0000000 & -0.5793464 & -0.3515599\\\\\n",
       "\tprobNino &  0.8378201 & -0.5793464 &  1.0000000 & -0.5593739\\\\\n",
       "\tprobNina & -0.7038257 & -0.3515599 & -0.5593739 &  1.0000000\\\\\n",
       "\\end{tabular}\n"
      ],
      "text/markdown": [
       "\n",
       "| <!--/--> | nino34 | probNeutral | probNino | probNina | \n",
       "|---|---|---|---|\n",
       "| nino34 |  1.0000000 | -0.2541178 |  0.8378201 | -0.7038257 | \n",
       "| probNeutral | -0.2541178 |  1.0000000 | -0.5793464 | -0.3515599 | \n",
       "| probNino |  0.8378201 | -0.5793464 |  1.0000000 | -0.5593739 | \n",
       "| probNina | -0.7038257 | -0.3515599 | -0.5593739 |  1.0000000 | \n",
       "\n",
       "\n"
      ],
      "text/plain": [
       "            nino34     probNeutral probNino   probNina  \n",
       "nino34       1.0000000 -0.2541178   0.8378201 -0.7038257\n",
       "probNeutral -0.2541178  1.0000000  -0.5793464 -0.3515599\n",
       "probNino     0.8378201 -0.5793464   1.0000000 -0.5593739\n",
       "probNina    -0.7038257 -0.3515599  -0.5593739  1.0000000"
      ]
     },
     "metadata": {},
     "output_type": "display_data"
    }
   ],
   "source": [
    "cor(dryDays[,c(3,4,5,6)], method = c(\"pearson\", \"kendall\", \"spearman\"))"
   ]
  },
  {
   "cell_type": "code",
   "execution_count": 11,
   "metadata": {},
   "outputs": [
    {
     "data": {
      "text/html": [
       "<table>\n",
       "<thead><tr><th></th><th scope=col>nino34</th><th scope=col>probNeutral</th><th scope=col>probNino</th><th scope=col>probNina</th></tr></thead>\n",
       "<tbody>\n",
       "\t<tr><th scope=row>nino34</th><td> 1.0000000</td><td>-0.1300576</td><td> 0.8437394</td><td>-0.7442706</td></tr>\n",
       "\t<tr><th scope=row>probNeutral</th><td>-0.1300576</td><td> 1.0000000</td><td>-0.4892475</td><td>-0.4430306</td></tr>\n",
       "\t<tr><th scope=row>probNino</th><td> 0.8437394</td><td>-0.4892475</td><td> 1.0000000</td><td>-0.5651301</td></tr>\n",
       "\t<tr><th scope=row>probNina</th><td>-0.7442706</td><td>-0.4430306</td><td>-0.5651301</td><td> 1.0000000</td></tr>\n",
       "</tbody>\n",
       "</table>\n"
      ],
      "text/latex": [
       "\\begin{tabular}{r|llll}\n",
       "  & nino34 & probNeutral & probNino & probNina\\\\\n",
       "\\hline\n",
       "\tnino34 &  1.0000000 & -0.1300576 &  0.8437394 & -0.7442706\\\\\n",
       "\tprobNeutral & -0.1300576 &  1.0000000 & -0.4892475 & -0.4430306\\\\\n",
       "\tprobNino &  0.8437394 & -0.4892475 &  1.0000000 & -0.5651301\\\\\n",
       "\tprobNina & -0.7442706 & -0.4430306 & -0.5651301 &  1.0000000\\\\\n",
       "\\end{tabular}\n"
      ],
      "text/markdown": [
       "\n",
       "| <!--/--> | nino34 | probNeutral | probNino | probNina | \n",
       "|---|---|---|---|\n",
       "| nino34 |  1.0000000 | -0.1300576 |  0.8437394 | -0.7442706 | \n",
       "| probNeutral | -0.1300576 |  1.0000000 | -0.4892475 | -0.4430306 | \n",
       "| probNino |  0.8437394 | -0.4892475 |  1.0000000 | -0.5651301 | \n",
       "| probNina | -0.7442706 | -0.4430306 | -0.5651301 |  1.0000000 | \n",
       "\n",
       "\n"
      ],
      "text/plain": [
       "            nino34     probNeutral probNino   probNina  \n",
       "nino34       1.0000000 -0.1300576   0.8437394 -0.7442706\n",
       "probNeutral -0.1300576  1.0000000  -0.4892475 -0.4430306\n",
       "probNino     0.8437394 -0.4892475   1.0000000 -0.5651301\n",
       "probNina    -0.7442706 -0.4430306  -0.5651301  1.0000000"
      ]
     },
     "metadata": {},
     "output_type": "display_data"
    }
   ],
   "source": [
    "cor(wetDays[,3:6], method = c(\"pearson\", \"kendall\", \"spearman\"))"
   ]
  },
  {
   "cell_type": "code",
   "execution_count": 12,
   "metadata": {},
   "outputs": [
    {
     "data": {
      "text/plain": [
       "      Prep            Month          nino34          probNeutral    \n",
       " Min.   : 0.000   1      : 341   Min.   :-2.02452   Min.   :0.0000  \n",
       " 1st Qu.: 0.000   3      : 341   1st Qu.:-0.57617   1st Qu.:0.1400  \n",
       " Median : 0.200   5      : 341   Median :-0.01589   Median :0.4400  \n",
       " Mean   : 2.781   7      : 341   Mean   : 0.04185   Mean   :0.4604  \n",
       " 3rd Qu.: 2.700   8      : 341   3rd Qu.: 0.55833   3rd Qu.:0.7500  \n",
       " Max.   :78.500   10     : 341   Max.   : 3.28767   Max.   :1.0000  \n",
       "                  (Other):1970                                      \n",
       "    probNino         probNina      state    nextState\n",
       " Min.   :0.0000   Min.   :0.0000   0:1741   0:1741   \n",
       " 1st Qu.:0.0100   1st Qu.:0.0000   1:2275   1:2275   \n",
       " Median :0.0500   Median :0.0500                     \n",
       " Mean   :0.2895   Mean   :0.2504                     \n",
       " 3rd Qu.:0.5900   3rd Qu.:0.5000                     \n",
       " Max.   :1.0000   Max.   :0.9900                     \n",
       "                                                     "
      ]
     },
     "metadata": {},
     "output_type": "display_data"
    }
   ],
   "source": [
    "summary(allData)"
   ]
  },
  {
   "cell_type": "markdown",
   "metadata": {},
   "source": [
    "# Gamma Fit with vgam "
   ]
  },
  {
   "cell_type": "code",
   "execution_count": 27,
   "metadata": {
    "scrolled": false
   },
   "outputs": [
    {
     "name": "stdout",
     "output_type": "stream",
     "text": [
      "VGLM    linear loop  1 :  loglikelihood = -7884.7377\n",
      "VGLM    linear loop  2 :  loglikelihood = -6710.86007\n",
      "VGLM    linear loop  3 :  loglikelihood = -5955.54033\n",
      "VGLM    linear loop  4 :  loglikelihood = -5628.08127\n",
      "VGLM    linear loop  5 :  loglikelihood = -5542.73694\n",
      "VGLM    linear loop  6 :  loglikelihood = -5532.82003\n",
      "VGLM    linear loop  7 :  loglikelihood = -5532.44014\n",
      "VGLM    linear loop  8 :  loglikelihood = -5532.4235\n",
      "VGLM    linear loop  9 :  loglikelihood = -5532.42246\n",
      "VGLM    linear loop  10 :  loglikelihood = -5532.4224\n",
      "VGLM    linear loop  11 :  loglikelihood = -5532.42239\n"
     ]
    }
   ],
   "source": [
    "#gammaJe = gamma2(lmu =\"identitylink\", lshape=\"identitylink\",zero=NULL)\n",
    "gammaJe = gamma2(lmu =\"loge\", lshape=\"loge\",zero=NULL)\n",
    "weibullJe = weibullR(lscale = \"loge\",lshape = \"loge\",zero=NULL)\n",
    "#weibullFull = vglm(Prep ~ Month + probNino +probNina , data=wetDays ,family = weibullJe ,trace='True')\n",
    "gammaFull = vglm(Prep ~ -1 +  Month + probNino +probNina , gammaJe, data=wetDays ,trace='True')"
   ]
  },
  {
   "cell_type": "code",
   "execution_count": 28,
   "metadata": {
    "scrolled": false
   },
   "outputs": [
    {
     "data": {
      "text/html": [
       "<table>\n",
       "<thead><tr><th></th><th scope=col>loge(mu)</th><th scope=col>loge(shape)</th></tr></thead>\n",
       "<tbody>\n",
       "\t<tr><th scope=row>Month1</th><td> 1.47854290 </td><td>-0.494375010</td></tr>\n",
       "\t<tr><th scope=row>Month2</th><td> 1.62154175 </td><td>-0.506022052</td></tr>\n",
       "\t<tr><th scope=row>Month3</th><td> 1.85330397 </td><td>-0.521552193</td></tr>\n",
       "\t<tr><th scope=row>Month4</th><td> 2.01073999 </td><td>-0.561163458</td></tr>\n",
       "\t<tr><th scope=row>Month5</th><td> 1.87648932 </td><td>-0.522283919</td></tr>\n",
       "\t<tr><th scope=row>Month6</th><td> 1.42064937 </td><td>-0.514469585</td></tr>\n",
       "\t<tr><th scope=row>Month7</th><td> 1.20209480 </td><td>-0.494630602</td></tr>\n",
       "\t<tr><th scope=row>Month8</th><td> 1.19883570 </td><td>-0.383872845</td></tr>\n",
       "\t<tr><th scope=row>Month9</th><td> 1.44315900 </td><td>-0.520327961</td></tr>\n",
       "\t<tr><th scope=row>Month10</th><td> 2.09299138 </td><td>-0.597858791</td></tr>\n",
       "\t<tr><th scope=row>Month11</th><td> 2.04512209 </td><td>-0.478720788</td></tr>\n",
       "\t<tr><th scope=row>Month12</th><td> 1.82454352 </td><td>-0.470917039</td></tr>\n",
       "\t<tr><th scope=row>probNino</th><td>-0.64189089 </td><td> 0.003264853</td></tr>\n",
       "\t<tr><th scope=row>probNina</th><td>-0.01885515 </td><td> 0.152284551</td></tr>\n",
       "</tbody>\n",
       "</table>\n"
      ],
      "text/latex": [
       "\\begin{tabular}{r|ll}\n",
       "  & loge(mu) & loge(shape)\\\\\n",
       "\\hline\n",
       "\tMonth1 &  1.47854290  & -0.494375010\\\\\n",
       "\tMonth2 &  1.62154175  & -0.506022052\\\\\n",
       "\tMonth3 &  1.85330397  & -0.521552193\\\\\n",
       "\tMonth4 &  2.01073999  & -0.561163458\\\\\n",
       "\tMonth5 &  1.87648932  & -0.522283919\\\\\n",
       "\tMonth6 &  1.42064937  & -0.514469585\\\\\n",
       "\tMonth7 &  1.20209480  & -0.494630602\\\\\n",
       "\tMonth8 &  1.19883570  & -0.383872845\\\\\n",
       "\tMonth9 &  1.44315900  & -0.520327961\\\\\n",
       "\tMonth10 &  2.09299138  & -0.597858791\\\\\n",
       "\tMonth11 &  2.04512209  & -0.478720788\\\\\n",
       "\tMonth12 &  1.82454352  & -0.470917039\\\\\n",
       "\tprobNino & -0.64189089  &  0.003264853\\\\\n",
       "\tprobNina & -0.01885515  &  0.152284551\\\\\n",
       "\\end{tabular}\n"
      ],
      "text/markdown": [
       "\n",
       "| <!--/--> | loge(mu) | loge(shape) | \n",
       "|---|---|---|---|---|---|---|---|---|---|---|---|---|---|\n",
       "| Month1 |  1.47854290  | -0.494375010 | \n",
       "| Month2 |  1.62154175  | -0.506022052 | \n",
       "| Month3 |  1.85330397  | -0.521552193 | \n",
       "| Month4 |  2.01073999  | -0.561163458 | \n",
       "| Month5 |  1.87648932  | -0.522283919 | \n",
       "| Month6 |  1.42064937  | -0.514469585 | \n",
       "| Month7 |  1.20209480  | -0.494630602 | \n",
       "| Month8 |  1.19883570  | -0.383872845 | \n",
       "| Month9 |  1.44315900  | -0.520327961 | \n",
       "| Month10 |  2.09299138  | -0.597858791 | \n",
       "| Month11 |  2.04512209  | -0.478720788 | \n",
       "| Month12 |  1.82454352  | -0.470917039 | \n",
       "| probNino | -0.64189089  |  0.003264853 | \n",
       "| probNina | -0.01885515  |  0.152284551 | \n",
       "\n",
       "\n"
      ],
      "text/plain": [
       "         loge(mu)    loge(shape) \n",
       "Month1    1.47854290 -0.494375010\n",
       "Month2    1.62154175 -0.506022052\n",
       "Month3    1.85330397 -0.521552193\n",
       "Month4    2.01073999 -0.561163458\n",
       "Month5    1.87648932 -0.522283919\n",
       "Month6    1.42064937 -0.514469585\n",
       "Month7    1.20209480 -0.494630602\n",
       "Month8    1.19883570 -0.383872845\n",
       "Month9    1.44315900 -0.520327961\n",
       "Month10   2.09299138 -0.597858791\n",
       "Month11   2.04512209 -0.478720788\n",
       "Month12   1.82454352 -0.470917039\n",
       "probNino -0.64189089  0.003264853\n",
       "probNina -0.01885515  0.152284551"
      ]
     },
     "metadata": {},
     "output_type": "display_data"
    }
   ],
   "source": [
    "coef(gammaFull,matrix = TRUE)"
   ]
  },
  {
   "cell_type": "code",
   "execution_count": 30,
   "metadata": {
    "scrolled": false
   },
   "outputs": [
    {
     "name": "stdout",
     "output_type": "stream",
     "text": [
      "VGAM  vlm.wfit  loop  1 :  loglikelihood = -7884.7377\n",
      "VGAM  vlm.wfit  loop  2 :  loglikelihood = -6710.86007\n",
      "VGAM  vlm.wfit  loop  3 :  loglikelihood = -5955.54033\n",
      "VGAM  vlm.wfit  loop  4 :  loglikelihood = -5628.08127\n",
      "VGAM  vlm.wfit  loop  5 :  loglikelihood = -5542.73694\n",
      "VGAM  vlm.wfit  loop  6 :  loglikelihood = -5532.82003\n",
      "VGAM  vlm.wfit  loop  7 :  loglikelihood = -5532.44014\n",
      "VGAM  vlm.wfit  loop  8 :  loglikelihood = -5532.4235\n",
      "VGAM  vlm.wfit  loop  9 :  loglikelihood = -5532.42246\n",
      "VGAM  vlm.wfit  loop  10 :  loglikelihood = -5532.4224\n"
     ]
    }
   ],
   "source": [
    "#gammaJe = gamma2(lmu =\"identitylink\", lshape=\"identitylink\",zero=NULL)\n",
    "gammaJe = gamma2(lmu =\"loge\", lshape=\"loge\",zero=NULL)\n",
    "weibullJe = weibullR(lscale = \"loge\",lshape = \"loge\",zero=NULL)\n",
    "#weibullFull = vglm(Prep ~ Month + probNino +probNina , data=wetDays ,family = weibullJe ,trace='True')\n",
    "gammaVGAM = vgam(Prep ~ -1 +  Month + probNino +probNina , gammaJe, data=wetDays ,trace='True')"
   ]
  },
  {
   "cell_type": "code",
   "execution_count": 31,
   "metadata": {
    "scrolled": false
   },
   "outputs": [
    {
     "data": {
      "text/html": [
       "<table>\n",
       "<thead><tr><th></th><th scope=col>loge(mu)</th><th scope=col>loge(shape)</th></tr></thead>\n",
       "<tbody>\n",
       "\t<tr><th scope=row>Month1</th><td> 1.47853390</td><td>-0.49439198</td></tr>\n",
       "\t<tr><th scope=row>Month2</th><td> 1.62149374</td><td>-0.50600603</td></tr>\n",
       "\t<tr><th scope=row>Month3</th><td> 1.85325188</td><td>-0.52152185</td></tr>\n",
       "\t<tr><th scope=row>Month4</th><td> 2.01067079</td><td>-0.56112177</td></tr>\n",
       "\t<tr><th scope=row>Month5</th><td> 1.87646350</td><td>-0.52226321</td></tr>\n",
       "\t<tr><th scope=row>Month6</th><td> 1.42065032</td><td>-0.51446178</td></tr>\n",
       "\t<tr><th scope=row>Month7</th><td> 1.20202354</td><td>-0.49458456</td></tr>\n",
       "\t<tr><th scope=row>Month8</th><td> 1.19878900</td><td>-0.38386012</td></tr>\n",
       "\t<tr><th scope=row>Month9</th><td> 1.44308963</td><td>-0.52028991</td></tr>\n",
       "\t<tr><th scope=row>Month10</th><td> 2.09284962</td><td>-0.59777643</td></tr>\n",
       "\t<tr><th scope=row>Month11</th><td> 2.04498501</td><td>-0.47862423</td></tr>\n",
       "\t<tr><th scope=row>Month12</th><td> 1.82446674</td><td>-0.47085903</td></tr>\n",
       "\t<tr><th scope=row>probNino</th><td>-0.64173478</td><td> 0.00316236</td></tr>\n",
       "\t<tr><th scope=row>probNina</th><td>-0.01876859</td><td> 0.15223959</td></tr>\n",
       "</tbody>\n",
       "</table>\n"
      ],
      "text/latex": [
       "\\begin{tabular}{r|ll}\n",
       "  & loge(mu) & loge(shape)\\\\\n",
       "\\hline\n",
       "\tMonth1 &  1.47853390 & -0.49439198\\\\\n",
       "\tMonth2 &  1.62149374 & -0.50600603\\\\\n",
       "\tMonth3 &  1.85325188 & -0.52152185\\\\\n",
       "\tMonth4 &  2.01067079 & -0.56112177\\\\\n",
       "\tMonth5 &  1.87646350 & -0.52226321\\\\\n",
       "\tMonth6 &  1.42065032 & -0.51446178\\\\\n",
       "\tMonth7 &  1.20202354 & -0.49458456\\\\\n",
       "\tMonth8 &  1.19878900 & -0.38386012\\\\\n",
       "\tMonth9 &  1.44308963 & -0.52028991\\\\\n",
       "\tMonth10 &  2.09284962 & -0.59777643\\\\\n",
       "\tMonth11 &  2.04498501 & -0.47862423\\\\\n",
       "\tMonth12 &  1.82446674 & -0.47085903\\\\\n",
       "\tprobNino & -0.64173478 &  0.00316236\\\\\n",
       "\tprobNina & -0.01876859 &  0.15223959\\\\\n",
       "\\end{tabular}\n"
      ],
      "text/markdown": [
       "\n",
       "| <!--/--> | loge(mu) | loge(shape) | \n",
       "|---|---|---|---|---|---|---|---|---|---|---|---|---|---|\n",
       "| Month1 |  1.47853390 | -0.49439198 | \n",
       "| Month2 |  1.62149374 | -0.50600603 | \n",
       "| Month3 |  1.85325188 | -0.52152185 | \n",
       "| Month4 |  2.01067079 | -0.56112177 | \n",
       "| Month5 |  1.87646350 | -0.52226321 | \n",
       "| Month6 |  1.42065032 | -0.51446178 | \n",
       "| Month7 |  1.20202354 | -0.49458456 | \n",
       "| Month8 |  1.19878900 | -0.38386012 | \n",
       "| Month9 |  1.44308963 | -0.52028991 | \n",
       "| Month10 |  2.09284962 | -0.59777643 | \n",
       "| Month11 |  2.04498501 | -0.47862423 | \n",
       "| Month12 |  1.82446674 | -0.47085903 | \n",
       "| probNino | -0.64173478 |  0.00316236 | \n",
       "| probNina | -0.01876859 |  0.15223959 | \n",
       "\n",
       "\n"
      ],
      "text/plain": [
       "         loge(mu)    loge(shape)\n",
       "Month1    1.47853390 -0.49439198\n",
       "Month2    1.62149374 -0.50600603\n",
       "Month3    1.85325188 -0.52152185\n",
       "Month4    2.01067079 -0.56112177\n",
       "Month5    1.87646350 -0.52226321\n",
       "Month6    1.42065032 -0.51446178\n",
       "Month7    1.20202354 -0.49458456\n",
       "Month8    1.19878900 -0.38386012\n",
       "Month9    1.44308963 -0.52028991\n",
       "Month10   2.09284962 -0.59777643\n",
       "Month11   2.04498501 -0.47862423\n",
       "Month12   1.82446674 -0.47085903\n",
       "probNino -0.64173478  0.00316236\n",
       "probNina -0.01876859  0.15223959"
      ]
     },
     "metadata": {},
     "output_type": "display_data"
    }
   ],
   "source": [
    "coef(gammaVGAM,matrix = TRUE)"
   ]
  },
  {
   "cell_type": "markdown",
   "metadata": {},
   "source": [
    "# Save and export results"
   ]
  },
  {
   "cell_type": "code",
   "execution_count": 29,
   "metadata": {},
   "outputs": [],
   "source": [
    "write.table(coef(fitDry, matrix = T),'../../results/visibleMarkov/transitionsParametersDry_glm.csv', col.names=F)\n",
    "write.table(coef(fitWet, matrix = T),'../../results/visibleMarkov/transitionsParametersWet_glm.csv', col.names=F)\n",
    "write.table(coef(gammaFull, matrix = T),'../../results/visibleMarkov/amountGamma_vglm.csv', col.names=F)"
   ]
  }
 ],
 "metadata": {
  "kernelspec": {
   "display_name": "R",
   "language": "R",
   "name": "ir"
  },
  "language_info": {
   "codemirror_mode": "r",
   "file_extension": ".r",
   "mimetype": "text/x-r-source",
   "name": "R",
   "pygments_lexer": "r",
   "version": "3.4.4"
  }
 },
 "nbformat": 4,
 "nbformat_minor": 2
}
